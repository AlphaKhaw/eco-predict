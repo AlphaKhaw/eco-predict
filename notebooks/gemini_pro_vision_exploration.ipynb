{
  "nbformat": 4,
  "nbformat_minor": 0,
  "metadata": {
    "colab": {
      "provenance": [],
      "collapsed_sections": [
        "NhlPvZzkMSb5",
        "BD0EgIXUMudj"
      ],
      "authorship_tag": "ABX9TyPot3YJIP76oohE1IwZPumx",
      "include_colab_link": true
    },
    "kernelspec": {
      "name": "python3",
      "display_name": "Python 3"
    },
    "language_info": {
      "name": "python"
    }
  },
  "cells": [
    {
      "cell_type": "markdown",
      "metadata": {
        "id": "view-in-github",
        "colab_type": "text"
      },
      "source": [
        "<a href=\"https://colab.research.google.com/github/AlphaKhaw/eco-predict/blob/main/notebooks/gemini_pro_vision_exploration.ipynb\" target=\"_parent\"><img src=\"https://colab.research.google.com/assets/colab-badge.svg\" alt=\"Open In Colab\"/></a>"
      ]
    },
    {
      "cell_type": "markdown",
      "source": [
        "# Exploration of `Gemini-Pro-Vision`\n",
        "\n",
        "### Table of Contents\n",
        "\n",
        "1. [Download and Import Packages](#import)     \n",
        "2. [Authentication and Set project](#authenticate)\n",
        "3. [Helper Functions](#helper)    \n",
        "4. [Load and Process `MMHS150K` Dataset](#MMHS150K)\n",
        "5. [Load Model - `gemini-pro-vision`](#model)  \n",
        "6. [Inference and Evaluation with `MMHS150K` Dataset - Binary Classification](#binary)   \n",
        "\n",
        "**Description**\n",
        "\n"
      ],
      "metadata": {
        "id": "cVD7cqBiJgIZ"
      }
    },
    {
      "cell_type": "markdown",
      "source": [
        "##<b>1. Download and Import Packages<a class=\"anchor\" id=\"import\"></a></b>"
      ],
      "metadata": {
        "id": "N_R7jY5vJED8"
      }
    },
    {
      "cell_type": "markdown",
      "source": [
        "**Download Packages:**"
      ],
      "metadata": {
        "id": "JU4aTdIRGy9M"
      }
    },
    {
      "cell_type": "code",
      "source": [
        "!pip install numpy pandas tqdm scikit-learn --quiet\n",
        "!pip install -q -U google-generativeai --quiet"
      ],
      "metadata": {
        "id": "pKA816PiGeW3"
      },
      "execution_count": 1,
      "outputs": []
    },
    {
      "cell_type": "markdown",
      "source": [
        "**Import Packages:**"
      ],
      "metadata": {
        "id": "GhJloA-AG1-g"
      }
    },
    {
      "cell_type": "code",
      "source": [
        "import os\n",
        "import PIL.Image\n",
        "import subprocess\n",
        "import textwrap\n",
        "from google.colab import auth, drive\n",
        "from google.cloud import storage\n",
        "from tqdm import tqdm\n",
        "\n",
        "import google.generativeai as genai\n",
        "from google.colab import userdata\n",
        "\n",
        "import numpy as np\n",
        "import pandas as pd\n",
        "from IPython.display import display\n",
        "from IPython.display import Markdown\n",
        "from sklearn.metrics import (\n",
        "    accuracy_score, balanced_accuracy_score, f1_score, roc_auc_score\n",
        ")\n",
        "\n",
        "\n",
        "drive.mount('/content/drive')"
      ],
      "metadata": {
        "colab": {
          "base_uri": "https://localhost:8080/"
        },
        "id": "hJ6TvsXEKDU8",
        "outputId": "89369a67-0e30-4d49-e01d-95bb9b9409cb"
      },
      "execution_count": 2,
      "outputs": [
        {
          "output_type": "stream",
          "name": "stdout",
          "text": [
            "Mounted at /content/drive\n"
          ]
        }
      ]
    },
    {
      "cell_type": "markdown",
      "source": [
        "##<b>2. Authentication and Set Project<a class=\"anchor\" id=\"authenticate\"></a></b>"
      ],
      "metadata": {
        "id": "66S2nZFxJNtg"
      }
    },
    {
      "cell_type": "code",
      "source": [
        "auth.authenticate_user()"
      ],
      "metadata": {
        "id": "Jcj42xg9Mphk"
      },
      "execution_count": 3,
      "outputs": []
    },
    {
      "cell_type": "markdown",
      "source": [
        "**Set your Google Cloud project ID:**\n"
      ],
      "metadata": {
        "id": "T1O3otmyH7uI"
      }
    },
    {
      "cell_type": "code",
      "execution_count": 4,
      "metadata": {
        "colab": {
          "base_uri": "https://localhost:8080/"
        },
        "id": "VD3iIuPtWUxM",
        "outputId": "734b7caf-1936-46d1-c038-8fdc68d321a0"
      },
      "outputs": [
        {
          "output_type": "stream",
          "name": "stdout",
          "text": [
            "Updated property [core/project].\n"
          ]
        }
      ],
      "source": [
        "project_id = 'impressive-bay-414615'\n",
        "!gcloud config set project {project_id}"
      ]
    },
    {
      "cell_type": "code",
      "source": [
        "!gsutil ls gs://mmhs150k"
      ],
      "metadata": {
        "colab": {
          "base_uri": "https://localhost:8080/"
        },
        "id": "EKAh1W1wajzU",
        "outputId": "8384ad77-dad3-4585-9fa0-1369d28db515"
      },
      "execution_count": 5,
      "outputs": [
        {
          "output_type": "stream",
          "name": "stdout",
          "text": [
            "gs://mmhs150k/MMHS150K_GT.json\n",
            "gs://mmhs150k/MMHS150K_readme.txt\n",
            "gs://mmhs150k/hatespeech_keywords.txt\n",
            "gs://mmhs150k/img_resized/\n",
            "gs://mmhs150k/img_txt/\n",
            "gs://mmhs150k/processed/\n",
            "gs://mmhs150k/splits/\n"
          ]
        }
      ]
    },
    {
      "cell_type": "markdown",
      "source": [
        "**Load in data from GCP Bucket:**"
      ],
      "metadata": {
        "id": "MiRI7FR3H_nx"
      }
    },
    {
      "cell_type": "code",
      "source": [
        "# Define the folder and file paths\n",
        "img_resized_folderpath = \"/content/drive/MyDrive/img_resized\"\n",
        "processed_folderpath = \"/content/drive/MyDrive/processed\"\n",
        "test_json_filepath = \"/content/drive/MyDrive/processed/test.json\"\n",
        "\n",
        "# Check if the folders already exist, create them if they don't\n",
        "if not os.path.exists(img_resized_folderpath):\n",
        "    os.makedirs(img_resized_folderpath)\n",
        "\n",
        "    # Perform the gsutil command to copy the img_resized\n",
        "    subprocess.run(\"gsutil -m cp -r gs://mmhs150k/img_resized/img_resized /content/drive/MyDrive/\", shell=True)\n",
        "\n",
        "if not os.path.exists(processed_folderpath):\n",
        "    os.makedirs(processed_folderpath)\n",
        "\n",
        "# Check if the test.json file already exists, copy it if it doesn't\n",
        "if not os.path.isfile(test_json_filepath):\n",
        "\n",
        "    # Perform the gsutil command to copy the test.json file\n",
        "    subprocess.run(\"gsutil cp gs://mmhs150k/processed/test.json /content/drive/MyDrive/processed/test.json\", shell=True)"
      ],
      "metadata": {
        "id": "VEfPoHEwHeOd"
      },
      "execution_count": 6,
      "outputs": []
    },
    {
      "cell_type": "markdown",
      "source": [
        "**Setup API key:**"
      ],
      "metadata": {
        "id": "5Q55Iv4IKDA5"
      }
    },
    {
      "cell_type": "code",
      "source": [
        "GOOGLE_API_KEY = userdata.get('GOOGLE_API_KEY')\n",
        "\n",
        "genai.configure(api_key=GOOGLE_API_KEY)"
      ],
      "metadata": {
        "id": "4JKciZuiKDUH"
      },
      "execution_count": 7,
      "outputs": []
    },
    {
      "cell_type": "markdown",
      "source": [
        "##<b>3. Helper Functions <a class=\"anchor\" id=\"helper\"></a></b>\n",
        "\n",
        "\n",
        "Helper functions for data processing and evalution."
      ],
      "metadata": {
        "id": "VYXltnSkGQ87"
      }
    },
    {
      "cell_type": "code",
      "source": [
        "def evaluate(\n",
        "    true_labels: list, y_pred: np.ndarray, y_proba: np.ndarray = None\n",
        ") -> None:\n",
        "    \"\"\"\n",
        "    Evaluates and logs the performance of a classifier using multiple metrics.\n",
        "    This function calculates and logs the average accuracy, balanced accuracy,\n",
        "    and F1 score for predictions made by a classifier.\n",
        "\n",
        "    Args:\n",
        "        true_labels (list): A list of true label sets. Each set in the list\n",
        "                            should correspond to a set of true class labels.\n",
        "        y_pred (np.ndarray): An array of predicted labels. These predictions are\n",
        "                             compared against each set of true labels.\n",
        "        y_proba (np.ndarray): An array of predicted probabilities. These\n",
        "                              predictions are compared against each set of true\n",
        "                              labels.\n",
        "    \"\"\"\n",
        "    accuracy_scores, auroc_scores, balanced_accuracy_scores, f1_scores = (\n",
        "        [], [], [], []\n",
        "    )\n",
        "    for true_label in true_labels:\n",
        "        accuracy_scores.append(accuracy_score(true_label, y_pred))\n",
        "        balanced_accuracy_scores.append(\n",
        "            balanced_accuracy_score(true_label, y_pred)\n",
        "        )\n",
        "        f1_scores.append(f1_score(true_label, y_pred, average=\"macro\"))\n",
        "\n",
        "        if y_proba is not None:\n",
        "            auroc_scores.append(roc_auc_score(true_label, y_proba))\n",
        "\n",
        "    if y_proba is not None:\n",
        "        print(\n",
        "            f\"AUROC Score: {round(np.mean(auroc_scores)*100, 2)}%\"\n",
        "        )\n",
        "\n",
        "    print(\n",
        "        f\"Average Accuracy Score: {round(np.mean(accuracy_scores)*100, 2)}%\"\n",
        "    )\n",
        "    print(\n",
        "        f\"Balanced Accuracy Score: {round(np.mean(accuracy_scores)*100, 2)}%\"\n",
        "    )\n",
        "    print(f\"Average F1 Score: {round(np.mean(f1_scores)*100, 2)}%\")\n",
        "\n",
        "\n",
        "def read_image(filepath: str) -> PIL.Image.Image:\n",
        "    \"\"\"\n",
        "    Reads an image from a specified file path using PIL (Python Imaging Library)\n",
        "    and returns the image object.\n",
        "\n",
        "    This function opens an image file and loads it into a PIL Image object,\n",
        "    which can then be used for image processing or display within Python.\n",
        "\n",
        "    Args:\n",
        "        filepath (str): The path to the image file that is to be read. This can\n",
        "                        be a path to a local file or a URL.\n",
        "\n",
        "    Returns:\n",
        "        PIL.Image.Image: An image object containing the image data loaded from\n",
        "                         the specified file.\n",
        "\n",
        "    Raises:\n",
        "        FileNotFoundError: If the file specified by `filepath` does not exist.\n",
        "        PIL.UnidentifiedImageError: If the file cannot be opened and identified\n",
        "                                    as a supported image format.\n",
        "\n",
        "    Example:\n",
        "        >>> image = read_image('/path/to/image.jpg')\n",
        "        >>> image.show()  # Displays the image using the default image viewer.\n",
        "\n",
        "    Note:\n",
        "        Supported image formats depend on the version of PIL or Pillow\n",
        "        (a fork of PIL) being used. Common formats include JPEG, PNG, BMP, and\n",
        "        GIF.\n",
        "    \"\"\"\n",
        "    return PIL.Image.open(filepath)"
      ],
      "metadata": {
        "id": "kSUiJZFUi8kc"
      },
      "execution_count": 8,
      "outputs": []
    },
    {
      "cell_type": "markdown",
      "source": [
        "##<b>4. Load and Process `MMHS150K` Dataset<a class=\"anchor\" id=\"MMHS150K\"></a></b>"
      ],
      "metadata": {
        "id": "NhlPvZzkMSb5"
      }
    },
    {
      "cell_type": "markdown",
      "source": [
        "**Read in Test Dataset:**"
      ],
      "metadata": {
        "id": "bOHpqPaWPtWR"
      }
    },
    {
      "cell_type": "code",
      "source": [
        "dataframe = pd.read_json(\n",
        "    \"/content/drive/MyDrive/processed/test.json\", lines=True\n",
        ")\n",
        "dataframe['image'] = dataframe['image'].apply(\n",
        "    lambda x: x.replace(\"../data/MMHS150K\", \"img_resized\")\n",
        ")\n",
        "dataframe"
      ],
      "metadata": {
        "id": "x2UOACApPsu3",
        "colab": {
          "base_uri": "https://localhost:8080/",
          "height": 0
        },
        "outputId": "38af6ae1-f8e2-42bc-a1c9-324e03357c37"
      },
      "execution_count": 9,
      "outputs": [
        {
          "output_type": "execute_result",
          "data": {
            "text/plain": [
              "                                                image  \\\n",
              "0     img_resized/img_resized/1113114611979636737.jpg   \n",
              "1     img_resized/img_resized/1043320121610174465.jpg   \n",
              "2     img_resized/img_resized/1062965467680108544.jpg   \n",
              "3     img_resized/img_resized/1057692490906722310.jpg   \n",
              "4     img_resized/img_resized/1055137831570628608.jpg   \n",
              "...                                               ...   \n",
              "1213  img_resized/img_resized/1110340935274192902.jpg   \n",
              "1214  img_resized/img_resized/1108232716951175168.jpg   \n",
              "1215  img_resized/img_resized/1114678367695986688.jpg   \n",
              "1216  img_resized/img_resized/1113965844588105728.jpg   \n",
              "1217  img_resized/img_resized/1116546424055877633.jpg   \n",
              "\n",
              "                                                   text  label_0  label_1  \\\n",
              "0                                They' ll pay for this         2        2   \n",
              "1                        \"SHERMAN DUPON HELMSLEY [SDH\"         1        1   \n",
              "2                                     OK? JAPANHDV COM         0        0   \n",
              "3                                                33thb         0        0   \n",
              "4                                            10 2y '98         0        0   \n",
              "...                                                 ...      ...      ...   \n",
              "1213             RBERR RBERA RBERR MADE WITH SPLIT PIC         0        0   \n",
              "1214                                 YEAH I'M A PSXCHO         1        1   \n",
              "1215  4:23 .111 LTE Dying To Live Kodak Black V Like...        2        2   \n",
              "1216      S/O MY LAST BITCH IM SHITTIN ON HER NIGGA NO         0        0   \n",
              "1217                                    RED TABLE TALK         0        0   \n",
              "\n",
              "      label_2 label_0_str label_1_str label_2_str  binary_label_0  \\\n",
              "0           2      Sexist      Sexist      Sexist               1   \n",
              "1           1      Racist      Racist      Racist               1   \n",
              "2           0     NotHate     NotHate     NotHate               0   \n",
              "3           0     NotHate     NotHate     NotHate               0   \n",
              "4           0     NotHate     NotHate     NotHate               0   \n",
              "...       ...         ...         ...         ...             ...   \n",
              "1213        0     NotHate     NotHate     NotHate               0   \n",
              "1214        1      Racist      Racist      Racist               1   \n",
              "1215        2      Sexist      Sexist      Sexist               1   \n",
              "1216        0     NotHate     NotHate     NotHate               0   \n",
              "1217        0     NotHate     NotHate     NotHate               0   \n",
              "\n",
              "      binary_label_1  binary_label_2 binary_label_0_str binary_label_1_str  \\\n",
              "0                  1               1               Hate               Hate   \n",
              "1                  1               1               Hate               Hate   \n",
              "2                  0               0            NotHate            NotHate   \n",
              "3                  0               0            NotHate            NotHate   \n",
              "4                  0               0            NotHate            NotHate   \n",
              "...              ...             ...                ...                ...   \n",
              "1213               0               0            NotHate            NotHate   \n",
              "1214               1               1               Hate               Hate   \n",
              "1215               1               1               Hate               Hate   \n",
              "1216               0               0            NotHate            NotHate   \n",
              "1217               0               0            NotHate            NotHate   \n",
              "\n",
              "     binary_label_2_str  \n",
              "0                  Hate  \n",
              "1                  Hate  \n",
              "2               NotHate  \n",
              "3               NotHate  \n",
              "4               NotHate  \n",
              "...                 ...  \n",
              "1213            NotHate  \n",
              "1214               Hate  \n",
              "1215               Hate  \n",
              "1216            NotHate  \n",
              "1217            NotHate  \n",
              "\n",
              "[1218 rows x 14 columns]"
            ],
            "text/html": [
              "\n",
              "  <div id=\"df-9595695f-a82c-4e53-bbda-61b41a91ad88\" class=\"colab-df-container\">\n",
              "    <div>\n",
              "<style scoped>\n",
              "    .dataframe tbody tr th:only-of-type {\n",
              "        vertical-align: middle;\n",
              "    }\n",
              "\n",
              "    .dataframe tbody tr th {\n",
              "        vertical-align: top;\n",
              "    }\n",
              "\n",
              "    .dataframe thead th {\n",
              "        text-align: right;\n",
              "    }\n",
              "</style>\n",
              "<table border=\"1\" class=\"dataframe\">\n",
              "  <thead>\n",
              "    <tr style=\"text-align: right;\">\n",
              "      <th></th>\n",
              "      <th>image</th>\n",
              "      <th>text</th>\n",
              "      <th>label_0</th>\n",
              "      <th>label_1</th>\n",
              "      <th>label_2</th>\n",
              "      <th>label_0_str</th>\n",
              "      <th>label_1_str</th>\n",
              "      <th>label_2_str</th>\n",
              "      <th>binary_label_0</th>\n",
              "      <th>binary_label_1</th>\n",
              "      <th>binary_label_2</th>\n",
              "      <th>binary_label_0_str</th>\n",
              "      <th>binary_label_1_str</th>\n",
              "      <th>binary_label_2_str</th>\n",
              "    </tr>\n",
              "  </thead>\n",
              "  <tbody>\n",
              "    <tr>\n",
              "      <th>0</th>\n",
              "      <td>img_resized/img_resized/1113114611979636737.jpg</td>\n",
              "      <td>They' ll pay for this</td>\n",
              "      <td>2</td>\n",
              "      <td>2</td>\n",
              "      <td>2</td>\n",
              "      <td>Sexist</td>\n",
              "      <td>Sexist</td>\n",
              "      <td>Sexist</td>\n",
              "      <td>1</td>\n",
              "      <td>1</td>\n",
              "      <td>1</td>\n",
              "      <td>Hate</td>\n",
              "      <td>Hate</td>\n",
              "      <td>Hate</td>\n",
              "    </tr>\n",
              "    <tr>\n",
              "      <th>1</th>\n",
              "      <td>img_resized/img_resized/1043320121610174465.jpg</td>\n",
              "      <td>\"SHERMAN DUPON HELMSLEY [SDH\"</td>\n",
              "      <td>1</td>\n",
              "      <td>1</td>\n",
              "      <td>1</td>\n",
              "      <td>Racist</td>\n",
              "      <td>Racist</td>\n",
              "      <td>Racist</td>\n",
              "      <td>1</td>\n",
              "      <td>1</td>\n",
              "      <td>1</td>\n",
              "      <td>Hate</td>\n",
              "      <td>Hate</td>\n",
              "      <td>Hate</td>\n",
              "    </tr>\n",
              "    <tr>\n",
              "      <th>2</th>\n",
              "      <td>img_resized/img_resized/1062965467680108544.jpg</td>\n",
              "      <td>OK? JAPANHDV COM</td>\n",
              "      <td>0</td>\n",
              "      <td>0</td>\n",
              "      <td>0</td>\n",
              "      <td>NotHate</td>\n",
              "      <td>NotHate</td>\n",
              "      <td>NotHate</td>\n",
              "      <td>0</td>\n",
              "      <td>0</td>\n",
              "      <td>0</td>\n",
              "      <td>NotHate</td>\n",
              "      <td>NotHate</td>\n",
              "      <td>NotHate</td>\n",
              "    </tr>\n",
              "    <tr>\n",
              "      <th>3</th>\n",
              "      <td>img_resized/img_resized/1057692490906722310.jpg</td>\n",
              "      <td>33thb</td>\n",
              "      <td>0</td>\n",
              "      <td>0</td>\n",
              "      <td>0</td>\n",
              "      <td>NotHate</td>\n",
              "      <td>NotHate</td>\n",
              "      <td>NotHate</td>\n",
              "      <td>0</td>\n",
              "      <td>0</td>\n",
              "      <td>0</td>\n",
              "      <td>NotHate</td>\n",
              "      <td>NotHate</td>\n",
              "      <td>NotHate</td>\n",
              "    </tr>\n",
              "    <tr>\n",
              "      <th>4</th>\n",
              "      <td>img_resized/img_resized/1055137831570628608.jpg</td>\n",
              "      <td>10 2y '98</td>\n",
              "      <td>0</td>\n",
              "      <td>0</td>\n",
              "      <td>0</td>\n",
              "      <td>NotHate</td>\n",
              "      <td>NotHate</td>\n",
              "      <td>NotHate</td>\n",
              "      <td>0</td>\n",
              "      <td>0</td>\n",
              "      <td>0</td>\n",
              "      <td>NotHate</td>\n",
              "      <td>NotHate</td>\n",
              "      <td>NotHate</td>\n",
              "    </tr>\n",
              "    <tr>\n",
              "      <th>...</th>\n",
              "      <td>...</td>\n",
              "      <td>...</td>\n",
              "      <td>...</td>\n",
              "      <td>...</td>\n",
              "      <td>...</td>\n",
              "      <td>...</td>\n",
              "      <td>...</td>\n",
              "      <td>...</td>\n",
              "      <td>...</td>\n",
              "      <td>...</td>\n",
              "      <td>...</td>\n",
              "      <td>...</td>\n",
              "      <td>...</td>\n",
              "      <td>...</td>\n",
              "    </tr>\n",
              "    <tr>\n",
              "      <th>1213</th>\n",
              "      <td>img_resized/img_resized/1110340935274192902.jpg</td>\n",
              "      <td>RBERR RBERA RBERR MADE WITH SPLIT PIC</td>\n",
              "      <td>0</td>\n",
              "      <td>0</td>\n",
              "      <td>0</td>\n",
              "      <td>NotHate</td>\n",
              "      <td>NotHate</td>\n",
              "      <td>NotHate</td>\n",
              "      <td>0</td>\n",
              "      <td>0</td>\n",
              "      <td>0</td>\n",
              "      <td>NotHate</td>\n",
              "      <td>NotHate</td>\n",
              "      <td>NotHate</td>\n",
              "    </tr>\n",
              "    <tr>\n",
              "      <th>1214</th>\n",
              "      <td>img_resized/img_resized/1108232716951175168.jpg</td>\n",
              "      <td>YEAH I'M A PSXCHO</td>\n",
              "      <td>1</td>\n",
              "      <td>1</td>\n",
              "      <td>1</td>\n",
              "      <td>Racist</td>\n",
              "      <td>Racist</td>\n",
              "      <td>Racist</td>\n",
              "      <td>1</td>\n",
              "      <td>1</td>\n",
              "      <td>1</td>\n",
              "      <td>Hate</td>\n",
              "      <td>Hate</td>\n",
              "      <td>Hate</td>\n",
              "    </tr>\n",
              "    <tr>\n",
              "      <th>1215</th>\n",
              "      <td>img_resized/img_resized/1114678367695986688.jpg</td>\n",
              "      <td>4:23 .111 LTE Dying To Live Kodak Black V Like...</td>\n",
              "      <td>2</td>\n",
              "      <td>2</td>\n",
              "      <td>2</td>\n",
              "      <td>Sexist</td>\n",
              "      <td>Sexist</td>\n",
              "      <td>Sexist</td>\n",
              "      <td>1</td>\n",
              "      <td>1</td>\n",
              "      <td>1</td>\n",
              "      <td>Hate</td>\n",
              "      <td>Hate</td>\n",
              "      <td>Hate</td>\n",
              "    </tr>\n",
              "    <tr>\n",
              "      <th>1216</th>\n",
              "      <td>img_resized/img_resized/1113965844588105728.jpg</td>\n",
              "      <td>S/O MY LAST BITCH IM SHITTIN ON HER NIGGA NO</td>\n",
              "      <td>0</td>\n",
              "      <td>0</td>\n",
              "      <td>0</td>\n",
              "      <td>NotHate</td>\n",
              "      <td>NotHate</td>\n",
              "      <td>NotHate</td>\n",
              "      <td>0</td>\n",
              "      <td>0</td>\n",
              "      <td>0</td>\n",
              "      <td>NotHate</td>\n",
              "      <td>NotHate</td>\n",
              "      <td>NotHate</td>\n",
              "    </tr>\n",
              "    <tr>\n",
              "      <th>1217</th>\n",
              "      <td>img_resized/img_resized/1116546424055877633.jpg</td>\n",
              "      <td>RED TABLE TALK</td>\n",
              "      <td>0</td>\n",
              "      <td>0</td>\n",
              "      <td>0</td>\n",
              "      <td>NotHate</td>\n",
              "      <td>NotHate</td>\n",
              "      <td>NotHate</td>\n",
              "      <td>0</td>\n",
              "      <td>0</td>\n",
              "      <td>0</td>\n",
              "      <td>NotHate</td>\n",
              "      <td>NotHate</td>\n",
              "      <td>NotHate</td>\n",
              "    </tr>\n",
              "  </tbody>\n",
              "</table>\n",
              "<p>1218 rows × 14 columns</p>\n",
              "</div>\n",
              "    <div class=\"colab-df-buttons\">\n",
              "\n",
              "  <div class=\"colab-df-container\">\n",
              "    <button class=\"colab-df-convert\" onclick=\"convertToInteractive('df-9595695f-a82c-4e53-bbda-61b41a91ad88')\"\n",
              "            title=\"Convert this dataframe to an interactive table.\"\n",
              "            style=\"display:none;\">\n",
              "\n",
              "  <svg xmlns=\"http://www.w3.org/2000/svg\" height=\"24px\" viewBox=\"0 -960 960 960\">\n",
              "    <path d=\"M120-120v-720h720v720H120Zm60-500h600v-160H180v160Zm220 220h160v-160H400v160Zm0 220h160v-160H400v160ZM180-400h160v-160H180v160Zm440 0h160v-160H620v160ZM180-180h160v-160H180v160Zm440 0h160v-160H620v160Z\"/>\n",
              "  </svg>\n",
              "    </button>\n",
              "\n",
              "  <style>\n",
              "    .colab-df-container {\n",
              "      display:flex;\n",
              "      gap: 12px;\n",
              "    }\n",
              "\n",
              "    .colab-df-convert {\n",
              "      background-color: #E8F0FE;\n",
              "      border: none;\n",
              "      border-radius: 50%;\n",
              "      cursor: pointer;\n",
              "      display: none;\n",
              "      fill: #1967D2;\n",
              "      height: 32px;\n",
              "      padding: 0 0 0 0;\n",
              "      width: 32px;\n",
              "    }\n",
              "\n",
              "    .colab-df-convert:hover {\n",
              "      background-color: #E2EBFA;\n",
              "      box-shadow: 0px 1px 2px rgba(60, 64, 67, 0.3), 0px 1px 3px 1px rgba(60, 64, 67, 0.15);\n",
              "      fill: #174EA6;\n",
              "    }\n",
              "\n",
              "    .colab-df-buttons div {\n",
              "      margin-bottom: 4px;\n",
              "    }\n",
              "\n",
              "    [theme=dark] .colab-df-convert {\n",
              "      background-color: #3B4455;\n",
              "      fill: #D2E3FC;\n",
              "    }\n",
              "\n",
              "    [theme=dark] .colab-df-convert:hover {\n",
              "      background-color: #434B5C;\n",
              "      box-shadow: 0px 1px 3px 1px rgba(0, 0, 0, 0.15);\n",
              "      filter: drop-shadow(0px 1px 2px rgba(0, 0, 0, 0.3));\n",
              "      fill: #FFFFFF;\n",
              "    }\n",
              "  </style>\n",
              "\n",
              "    <script>\n",
              "      const buttonEl =\n",
              "        document.querySelector('#df-9595695f-a82c-4e53-bbda-61b41a91ad88 button.colab-df-convert');\n",
              "      buttonEl.style.display =\n",
              "        google.colab.kernel.accessAllowed ? 'block' : 'none';\n",
              "\n",
              "      async function convertToInteractive(key) {\n",
              "        const element = document.querySelector('#df-9595695f-a82c-4e53-bbda-61b41a91ad88');\n",
              "        const dataTable =\n",
              "          await google.colab.kernel.invokeFunction('convertToInteractive',\n",
              "                                                    [key], {});\n",
              "        if (!dataTable) return;\n",
              "\n",
              "        const docLinkHtml = 'Like what you see? Visit the ' +\n",
              "          '<a target=\"_blank\" href=https://colab.research.google.com/notebooks/data_table.ipynb>data table notebook</a>'\n",
              "          + ' to learn more about interactive tables.';\n",
              "        element.innerHTML = '';\n",
              "        dataTable['output_type'] = 'display_data';\n",
              "        await google.colab.output.renderOutput(dataTable, element);\n",
              "        const docLink = document.createElement('div');\n",
              "        docLink.innerHTML = docLinkHtml;\n",
              "        element.appendChild(docLink);\n",
              "      }\n",
              "    </script>\n",
              "  </div>\n",
              "\n",
              "\n",
              "<div id=\"df-32e01a8a-f944-492d-928f-6ad512b28048\">\n",
              "  <button class=\"colab-df-quickchart\" onclick=\"quickchart('df-32e01a8a-f944-492d-928f-6ad512b28048')\"\n",
              "            title=\"Suggest charts\"\n",
              "            style=\"display:none;\">\n",
              "\n",
              "<svg xmlns=\"http://www.w3.org/2000/svg\" height=\"24px\"viewBox=\"0 0 24 24\"\n",
              "     width=\"24px\">\n",
              "    <g>\n",
              "        <path d=\"M19 3H5c-1.1 0-2 .9-2 2v14c0 1.1.9 2 2 2h14c1.1 0 2-.9 2-2V5c0-1.1-.9-2-2-2zM9 17H7v-7h2v7zm4 0h-2V7h2v10zm4 0h-2v-4h2v4z\"/>\n",
              "    </g>\n",
              "</svg>\n",
              "  </button>\n",
              "\n",
              "<style>\n",
              "  .colab-df-quickchart {\n",
              "      --bg-color: #E8F0FE;\n",
              "      --fill-color: #1967D2;\n",
              "      --hover-bg-color: #E2EBFA;\n",
              "      --hover-fill-color: #174EA6;\n",
              "      --disabled-fill-color: #AAA;\n",
              "      --disabled-bg-color: #DDD;\n",
              "  }\n",
              "\n",
              "  [theme=dark] .colab-df-quickchart {\n",
              "      --bg-color: #3B4455;\n",
              "      --fill-color: #D2E3FC;\n",
              "      --hover-bg-color: #434B5C;\n",
              "      --hover-fill-color: #FFFFFF;\n",
              "      --disabled-bg-color: #3B4455;\n",
              "      --disabled-fill-color: #666;\n",
              "  }\n",
              "\n",
              "  .colab-df-quickchart {\n",
              "    background-color: var(--bg-color);\n",
              "    border: none;\n",
              "    border-radius: 50%;\n",
              "    cursor: pointer;\n",
              "    display: none;\n",
              "    fill: var(--fill-color);\n",
              "    height: 32px;\n",
              "    padding: 0;\n",
              "    width: 32px;\n",
              "  }\n",
              "\n",
              "  .colab-df-quickchart:hover {\n",
              "    background-color: var(--hover-bg-color);\n",
              "    box-shadow: 0 1px 2px rgba(60, 64, 67, 0.3), 0 1px 3px 1px rgba(60, 64, 67, 0.15);\n",
              "    fill: var(--button-hover-fill-color);\n",
              "  }\n",
              "\n",
              "  .colab-df-quickchart-complete:disabled,\n",
              "  .colab-df-quickchart-complete:disabled:hover {\n",
              "    background-color: var(--disabled-bg-color);\n",
              "    fill: var(--disabled-fill-color);\n",
              "    box-shadow: none;\n",
              "  }\n",
              "\n",
              "  .colab-df-spinner {\n",
              "    border: 2px solid var(--fill-color);\n",
              "    border-color: transparent;\n",
              "    border-bottom-color: var(--fill-color);\n",
              "    animation:\n",
              "      spin 1s steps(1) infinite;\n",
              "  }\n",
              "\n",
              "  @keyframes spin {\n",
              "    0% {\n",
              "      border-color: transparent;\n",
              "      border-bottom-color: var(--fill-color);\n",
              "      border-left-color: var(--fill-color);\n",
              "    }\n",
              "    20% {\n",
              "      border-color: transparent;\n",
              "      border-left-color: var(--fill-color);\n",
              "      border-top-color: var(--fill-color);\n",
              "    }\n",
              "    30% {\n",
              "      border-color: transparent;\n",
              "      border-left-color: var(--fill-color);\n",
              "      border-top-color: var(--fill-color);\n",
              "      border-right-color: var(--fill-color);\n",
              "    }\n",
              "    40% {\n",
              "      border-color: transparent;\n",
              "      border-right-color: var(--fill-color);\n",
              "      border-top-color: var(--fill-color);\n",
              "    }\n",
              "    60% {\n",
              "      border-color: transparent;\n",
              "      border-right-color: var(--fill-color);\n",
              "    }\n",
              "    80% {\n",
              "      border-color: transparent;\n",
              "      border-right-color: var(--fill-color);\n",
              "      border-bottom-color: var(--fill-color);\n",
              "    }\n",
              "    90% {\n",
              "      border-color: transparent;\n",
              "      border-bottom-color: var(--fill-color);\n",
              "    }\n",
              "  }\n",
              "</style>\n",
              "\n",
              "  <script>\n",
              "    async function quickchart(key) {\n",
              "      const quickchartButtonEl =\n",
              "        document.querySelector('#' + key + ' button');\n",
              "      quickchartButtonEl.disabled = true;  // To prevent multiple clicks.\n",
              "      quickchartButtonEl.classList.add('colab-df-spinner');\n",
              "      try {\n",
              "        const charts = await google.colab.kernel.invokeFunction(\n",
              "            'suggestCharts', [key], {});\n",
              "      } catch (error) {\n",
              "        console.error('Error during call to suggestCharts:', error);\n",
              "      }\n",
              "      quickchartButtonEl.classList.remove('colab-df-spinner');\n",
              "      quickchartButtonEl.classList.add('colab-df-quickchart-complete');\n",
              "    }\n",
              "    (() => {\n",
              "      let quickchartButtonEl =\n",
              "        document.querySelector('#df-32e01a8a-f944-492d-928f-6ad512b28048 button');\n",
              "      quickchartButtonEl.style.display =\n",
              "        google.colab.kernel.accessAllowed ? 'block' : 'none';\n",
              "    })();\n",
              "  </script>\n",
              "</div>\n",
              "    </div>\n",
              "  </div>\n"
            ],
            "application/vnd.google.colaboratory.intrinsic+json": {
              "type": "dataframe",
              "variable_name": "dataframe",
              "summary": "{\n  \"name\": \"dataframe\",\n  \"rows\": 1218,\n  \"fields\": [\n    {\n      \"column\": \"image\",\n      \"properties\": {\n        \"dtype\": \"string\",\n        \"num_unique_values\": 1218,\n        \"samples\": [\n          \"img_resized/img_resized/1042566283185676289.jpg\",\n          \"img_resized/img_resized/1056797793048817665.jpg\",\n          \"img_resized/img_resized/1057426993648668673.jpg\"\n        ],\n        \"semantic_type\": \"\",\n        \"description\": \"\"\n      }\n    },\n    {\n      \"column\": \"text\",\n      \"properties\": {\n        \"dtype\": \"string\",\n        \"num_unique_values\": 1174,\n        \"samples\": [\n          \"FUT19 FUT DRAFT MATCH re TWITORTV /EASPORTISA SUNENOUS SUR twitcTWITCHV/EASPORTSFITA SUIVEZ- NOUS SUR V /EASPG SFIFAG 7 P. Vieira 23 F. Rib\\u00e9ry 8 N. Fekir 19 W. Ben Yedder 9 FALCAO 15 OBLAK \",\n          \"100% TRANS \",\n          \"Your Story 2m , afif.jazimin hafizanuarr afift jazimin Highlight More \"\n        ],\n        \"semantic_type\": \"\",\n        \"description\": \"\"\n      }\n    },\n    {\n      \"column\": \"label_0\",\n      \"properties\": {\n        \"dtype\": \"number\",\n        \"std\": 1,\n        \"min\": 0,\n        \"max\": 5,\n        \"num_unique_values\": 6,\n        \"samples\": [\n          2,\n          1,\n          4\n        ],\n        \"semantic_type\": \"\",\n        \"description\": \"\"\n      }\n    },\n    {\n      \"column\": \"label_1\",\n      \"properties\": {\n        \"dtype\": \"number\",\n        \"std\": 1,\n        \"min\": 0,\n        \"max\": 5,\n        \"num_unique_values\": 6,\n        \"samples\": [\n          2,\n          1,\n          4\n        ],\n        \"semantic_type\": \"\",\n        \"description\": \"\"\n      }\n    },\n    {\n      \"column\": \"label_2\",\n      \"properties\": {\n        \"dtype\": \"number\",\n        \"std\": 1,\n        \"min\": 0,\n        \"max\": 5,\n        \"num_unique_values\": 6,\n        \"samples\": [\n          2,\n          1,\n          4\n        ],\n        \"semantic_type\": \"\",\n        \"description\": \"\"\n      }\n    },\n    {\n      \"column\": \"label_0_str\",\n      \"properties\": {\n        \"dtype\": \"category\",\n        \"num_unique_values\": 6,\n        \"samples\": [\n          \"Sexist\",\n          \"Racist\",\n          \"Religion\"\n        ],\n        \"semantic_type\": \"\",\n        \"description\": \"\"\n      }\n    },\n    {\n      \"column\": \"label_1_str\",\n      \"properties\": {\n        \"dtype\": \"category\",\n        \"num_unique_values\": 6,\n        \"samples\": [\n          \"Sexist\",\n          \"Racist\",\n          \"Religion\"\n        ],\n        \"semantic_type\": \"\",\n        \"description\": \"\"\n      }\n    },\n    {\n      \"column\": \"label_2_str\",\n      \"properties\": {\n        \"dtype\": \"category\",\n        \"num_unique_values\": 6,\n        \"samples\": [\n          \"Sexist\",\n          \"Racist\",\n          \"Religion\"\n        ],\n        \"semantic_type\": \"\",\n        \"description\": \"\"\n      }\n    },\n    {\n      \"column\": \"binary_label_0\",\n      \"properties\": {\n        \"dtype\": \"number\",\n        \"std\": 0,\n        \"min\": 0,\n        \"max\": 1,\n        \"num_unique_values\": 2,\n        \"samples\": [\n          0,\n          1\n        ],\n        \"semantic_type\": \"\",\n        \"description\": \"\"\n      }\n    },\n    {\n      \"column\": \"binary_label_1\",\n      \"properties\": {\n        \"dtype\": \"number\",\n        \"std\": 0,\n        \"min\": 0,\n        \"max\": 1,\n        \"num_unique_values\": 2,\n        \"samples\": [\n          0,\n          1\n        ],\n        \"semantic_type\": \"\",\n        \"description\": \"\"\n      }\n    },\n    {\n      \"column\": \"binary_label_2\",\n      \"properties\": {\n        \"dtype\": \"number\",\n        \"std\": 0,\n        \"min\": 0,\n        \"max\": 1,\n        \"num_unique_values\": 2,\n        \"samples\": [\n          0,\n          1\n        ],\n        \"semantic_type\": \"\",\n        \"description\": \"\"\n      }\n    },\n    {\n      \"column\": \"binary_label_0_str\",\n      \"properties\": {\n        \"dtype\": \"category\",\n        \"num_unique_values\": 2,\n        \"samples\": [\n          \"NotHate\",\n          \"Hate\"\n        ],\n        \"semantic_type\": \"\",\n        \"description\": \"\"\n      }\n    },\n    {\n      \"column\": \"binary_label_1_str\",\n      \"properties\": {\n        \"dtype\": \"category\",\n        \"num_unique_values\": 2,\n        \"samples\": [\n          \"NotHate\",\n          \"Hate\"\n        ],\n        \"semantic_type\": \"\",\n        \"description\": \"\"\n      }\n    },\n    {\n      \"column\": \"binary_label_2_str\",\n      \"properties\": {\n        \"dtype\": \"category\",\n        \"num_unique_values\": 2,\n        \"samples\": [\n          \"NotHate\",\n          \"Hate\"\n        ],\n        \"semantic_type\": \"\",\n        \"description\": \"\"\n      }\n    }\n  ]\n}"
            }
          },
          "metadata": {},
          "execution_count": 9
        }
      ]
    },
    {
      "cell_type": "markdown",
      "source": [
        "**Modify `image` column filepaths to point to Google Drive filepaths:**"
      ],
      "metadata": {
        "id": "-LuQG7SpIZSQ"
      }
    },
    {
      "cell_type": "code",
      "source": [
        "dataframe['image'] = dataframe['image'].apply(\n",
        "    lambda x: x.replace(\n",
        "        \"img_resized/img_resized\", \"/content/drive/MyDrive/img_resized\"\n",
        "    )\n",
        ")\n",
        "dataframe"
      ],
      "metadata": {
        "id": "wF9P0__HjZ-w",
        "colab": {
          "base_uri": "https://localhost:8080/",
          "height": 0
        },
        "outputId": "231c0ac2-7d70-4ad4-96c5-df90de2d6b02"
      },
      "execution_count": 10,
      "outputs": [
        {
          "output_type": "execute_result",
          "data": {
            "text/plain": [
              "                                                  image  \\\n",
              "0     /content/drive/MyDrive/img_resized/11131146119...   \n",
              "1     /content/drive/MyDrive/img_resized/10433201216...   \n",
              "2     /content/drive/MyDrive/img_resized/10629654676...   \n",
              "3     /content/drive/MyDrive/img_resized/10576924909...   \n",
              "4     /content/drive/MyDrive/img_resized/10551378315...   \n",
              "...                                                 ...   \n",
              "1213  /content/drive/MyDrive/img_resized/11103409352...   \n",
              "1214  /content/drive/MyDrive/img_resized/11082327169...   \n",
              "1215  /content/drive/MyDrive/img_resized/11146783676...   \n",
              "1216  /content/drive/MyDrive/img_resized/11139658445...   \n",
              "1217  /content/drive/MyDrive/img_resized/11165464240...   \n",
              "\n",
              "                                                   text  label_0  label_1  \\\n",
              "0                                They' ll pay for this         2        2   \n",
              "1                        \"SHERMAN DUPON HELMSLEY [SDH\"         1        1   \n",
              "2                                     OK? JAPANHDV COM         0        0   \n",
              "3                                                33thb         0        0   \n",
              "4                                            10 2y '98         0        0   \n",
              "...                                                 ...      ...      ...   \n",
              "1213             RBERR RBERA RBERR MADE WITH SPLIT PIC         0        0   \n",
              "1214                                 YEAH I'M A PSXCHO         1        1   \n",
              "1215  4:23 .111 LTE Dying To Live Kodak Black V Like...        2        2   \n",
              "1216      S/O MY LAST BITCH IM SHITTIN ON HER NIGGA NO         0        0   \n",
              "1217                                    RED TABLE TALK         0        0   \n",
              "\n",
              "      label_2 label_0_str label_1_str label_2_str  binary_label_0  \\\n",
              "0           2      Sexist      Sexist      Sexist               1   \n",
              "1           1      Racist      Racist      Racist               1   \n",
              "2           0     NotHate     NotHate     NotHate               0   \n",
              "3           0     NotHate     NotHate     NotHate               0   \n",
              "4           0     NotHate     NotHate     NotHate               0   \n",
              "...       ...         ...         ...         ...             ...   \n",
              "1213        0     NotHate     NotHate     NotHate               0   \n",
              "1214        1      Racist      Racist      Racist               1   \n",
              "1215        2      Sexist      Sexist      Sexist               1   \n",
              "1216        0     NotHate     NotHate     NotHate               0   \n",
              "1217        0     NotHate     NotHate     NotHate               0   \n",
              "\n",
              "      binary_label_1  binary_label_2 binary_label_0_str binary_label_1_str  \\\n",
              "0                  1               1               Hate               Hate   \n",
              "1                  1               1               Hate               Hate   \n",
              "2                  0               0            NotHate            NotHate   \n",
              "3                  0               0            NotHate            NotHate   \n",
              "4                  0               0            NotHate            NotHate   \n",
              "...              ...             ...                ...                ...   \n",
              "1213               0               0            NotHate            NotHate   \n",
              "1214               1               1               Hate               Hate   \n",
              "1215               1               1               Hate               Hate   \n",
              "1216               0               0            NotHate            NotHate   \n",
              "1217               0               0            NotHate            NotHate   \n",
              "\n",
              "     binary_label_2_str  \n",
              "0                  Hate  \n",
              "1                  Hate  \n",
              "2               NotHate  \n",
              "3               NotHate  \n",
              "4               NotHate  \n",
              "...                 ...  \n",
              "1213            NotHate  \n",
              "1214               Hate  \n",
              "1215               Hate  \n",
              "1216            NotHate  \n",
              "1217            NotHate  \n",
              "\n",
              "[1218 rows x 14 columns]"
            ],
            "text/html": [
              "\n",
              "  <div id=\"df-f8b6e88f-1016-4f56-b45e-bd42038e94d6\" class=\"colab-df-container\">\n",
              "    <div>\n",
              "<style scoped>\n",
              "    .dataframe tbody tr th:only-of-type {\n",
              "        vertical-align: middle;\n",
              "    }\n",
              "\n",
              "    .dataframe tbody tr th {\n",
              "        vertical-align: top;\n",
              "    }\n",
              "\n",
              "    .dataframe thead th {\n",
              "        text-align: right;\n",
              "    }\n",
              "</style>\n",
              "<table border=\"1\" class=\"dataframe\">\n",
              "  <thead>\n",
              "    <tr style=\"text-align: right;\">\n",
              "      <th></th>\n",
              "      <th>image</th>\n",
              "      <th>text</th>\n",
              "      <th>label_0</th>\n",
              "      <th>label_1</th>\n",
              "      <th>label_2</th>\n",
              "      <th>label_0_str</th>\n",
              "      <th>label_1_str</th>\n",
              "      <th>label_2_str</th>\n",
              "      <th>binary_label_0</th>\n",
              "      <th>binary_label_1</th>\n",
              "      <th>binary_label_2</th>\n",
              "      <th>binary_label_0_str</th>\n",
              "      <th>binary_label_1_str</th>\n",
              "      <th>binary_label_2_str</th>\n",
              "    </tr>\n",
              "  </thead>\n",
              "  <tbody>\n",
              "    <tr>\n",
              "      <th>0</th>\n",
              "      <td>/content/drive/MyDrive/img_resized/11131146119...</td>\n",
              "      <td>They' ll pay for this</td>\n",
              "      <td>2</td>\n",
              "      <td>2</td>\n",
              "      <td>2</td>\n",
              "      <td>Sexist</td>\n",
              "      <td>Sexist</td>\n",
              "      <td>Sexist</td>\n",
              "      <td>1</td>\n",
              "      <td>1</td>\n",
              "      <td>1</td>\n",
              "      <td>Hate</td>\n",
              "      <td>Hate</td>\n",
              "      <td>Hate</td>\n",
              "    </tr>\n",
              "    <tr>\n",
              "      <th>1</th>\n",
              "      <td>/content/drive/MyDrive/img_resized/10433201216...</td>\n",
              "      <td>\"SHERMAN DUPON HELMSLEY [SDH\"</td>\n",
              "      <td>1</td>\n",
              "      <td>1</td>\n",
              "      <td>1</td>\n",
              "      <td>Racist</td>\n",
              "      <td>Racist</td>\n",
              "      <td>Racist</td>\n",
              "      <td>1</td>\n",
              "      <td>1</td>\n",
              "      <td>1</td>\n",
              "      <td>Hate</td>\n",
              "      <td>Hate</td>\n",
              "      <td>Hate</td>\n",
              "    </tr>\n",
              "    <tr>\n",
              "      <th>2</th>\n",
              "      <td>/content/drive/MyDrive/img_resized/10629654676...</td>\n",
              "      <td>OK? JAPANHDV COM</td>\n",
              "      <td>0</td>\n",
              "      <td>0</td>\n",
              "      <td>0</td>\n",
              "      <td>NotHate</td>\n",
              "      <td>NotHate</td>\n",
              "      <td>NotHate</td>\n",
              "      <td>0</td>\n",
              "      <td>0</td>\n",
              "      <td>0</td>\n",
              "      <td>NotHate</td>\n",
              "      <td>NotHate</td>\n",
              "      <td>NotHate</td>\n",
              "    </tr>\n",
              "    <tr>\n",
              "      <th>3</th>\n",
              "      <td>/content/drive/MyDrive/img_resized/10576924909...</td>\n",
              "      <td>33thb</td>\n",
              "      <td>0</td>\n",
              "      <td>0</td>\n",
              "      <td>0</td>\n",
              "      <td>NotHate</td>\n",
              "      <td>NotHate</td>\n",
              "      <td>NotHate</td>\n",
              "      <td>0</td>\n",
              "      <td>0</td>\n",
              "      <td>0</td>\n",
              "      <td>NotHate</td>\n",
              "      <td>NotHate</td>\n",
              "      <td>NotHate</td>\n",
              "    </tr>\n",
              "    <tr>\n",
              "      <th>4</th>\n",
              "      <td>/content/drive/MyDrive/img_resized/10551378315...</td>\n",
              "      <td>10 2y '98</td>\n",
              "      <td>0</td>\n",
              "      <td>0</td>\n",
              "      <td>0</td>\n",
              "      <td>NotHate</td>\n",
              "      <td>NotHate</td>\n",
              "      <td>NotHate</td>\n",
              "      <td>0</td>\n",
              "      <td>0</td>\n",
              "      <td>0</td>\n",
              "      <td>NotHate</td>\n",
              "      <td>NotHate</td>\n",
              "      <td>NotHate</td>\n",
              "    </tr>\n",
              "    <tr>\n",
              "      <th>...</th>\n",
              "      <td>...</td>\n",
              "      <td>...</td>\n",
              "      <td>...</td>\n",
              "      <td>...</td>\n",
              "      <td>...</td>\n",
              "      <td>...</td>\n",
              "      <td>...</td>\n",
              "      <td>...</td>\n",
              "      <td>...</td>\n",
              "      <td>...</td>\n",
              "      <td>...</td>\n",
              "      <td>...</td>\n",
              "      <td>...</td>\n",
              "      <td>...</td>\n",
              "    </tr>\n",
              "    <tr>\n",
              "      <th>1213</th>\n",
              "      <td>/content/drive/MyDrive/img_resized/11103409352...</td>\n",
              "      <td>RBERR RBERA RBERR MADE WITH SPLIT PIC</td>\n",
              "      <td>0</td>\n",
              "      <td>0</td>\n",
              "      <td>0</td>\n",
              "      <td>NotHate</td>\n",
              "      <td>NotHate</td>\n",
              "      <td>NotHate</td>\n",
              "      <td>0</td>\n",
              "      <td>0</td>\n",
              "      <td>0</td>\n",
              "      <td>NotHate</td>\n",
              "      <td>NotHate</td>\n",
              "      <td>NotHate</td>\n",
              "    </tr>\n",
              "    <tr>\n",
              "      <th>1214</th>\n",
              "      <td>/content/drive/MyDrive/img_resized/11082327169...</td>\n",
              "      <td>YEAH I'M A PSXCHO</td>\n",
              "      <td>1</td>\n",
              "      <td>1</td>\n",
              "      <td>1</td>\n",
              "      <td>Racist</td>\n",
              "      <td>Racist</td>\n",
              "      <td>Racist</td>\n",
              "      <td>1</td>\n",
              "      <td>1</td>\n",
              "      <td>1</td>\n",
              "      <td>Hate</td>\n",
              "      <td>Hate</td>\n",
              "      <td>Hate</td>\n",
              "    </tr>\n",
              "    <tr>\n",
              "      <th>1215</th>\n",
              "      <td>/content/drive/MyDrive/img_resized/11146783676...</td>\n",
              "      <td>4:23 .111 LTE Dying To Live Kodak Black V Like...</td>\n",
              "      <td>2</td>\n",
              "      <td>2</td>\n",
              "      <td>2</td>\n",
              "      <td>Sexist</td>\n",
              "      <td>Sexist</td>\n",
              "      <td>Sexist</td>\n",
              "      <td>1</td>\n",
              "      <td>1</td>\n",
              "      <td>1</td>\n",
              "      <td>Hate</td>\n",
              "      <td>Hate</td>\n",
              "      <td>Hate</td>\n",
              "    </tr>\n",
              "    <tr>\n",
              "      <th>1216</th>\n",
              "      <td>/content/drive/MyDrive/img_resized/11139658445...</td>\n",
              "      <td>S/O MY LAST BITCH IM SHITTIN ON HER NIGGA NO</td>\n",
              "      <td>0</td>\n",
              "      <td>0</td>\n",
              "      <td>0</td>\n",
              "      <td>NotHate</td>\n",
              "      <td>NotHate</td>\n",
              "      <td>NotHate</td>\n",
              "      <td>0</td>\n",
              "      <td>0</td>\n",
              "      <td>0</td>\n",
              "      <td>NotHate</td>\n",
              "      <td>NotHate</td>\n",
              "      <td>NotHate</td>\n",
              "    </tr>\n",
              "    <tr>\n",
              "      <th>1217</th>\n",
              "      <td>/content/drive/MyDrive/img_resized/11165464240...</td>\n",
              "      <td>RED TABLE TALK</td>\n",
              "      <td>0</td>\n",
              "      <td>0</td>\n",
              "      <td>0</td>\n",
              "      <td>NotHate</td>\n",
              "      <td>NotHate</td>\n",
              "      <td>NotHate</td>\n",
              "      <td>0</td>\n",
              "      <td>0</td>\n",
              "      <td>0</td>\n",
              "      <td>NotHate</td>\n",
              "      <td>NotHate</td>\n",
              "      <td>NotHate</td>\n",
              "    </tr>\n",
              "  </tbody>\n",
              "</table>\n",
              "<p>1218 rows × 14 columns</p>\n",
              "</div>\n",
              "    <div class=\"colab-df-buttons\">\n",
              "\n",
              "  <div class=\"colab-df-container\">\n",
              "    <button class=\"colab-df-convert\" onclick=\"convertToInteractive('df-f8b6e88f-1016-4f56-b45e-bd42038e94d6')\"\n",
              "            title=\"Convert this dataframe to an interactive table.\"\n",
              "            style=\"display:none;\">\n",
              "\n",
              "  <svg xmlns=\"http://www.w3.org/2000/svg\" height=\"24px\" viewBox=\"0 -960 960 960\">\n",
              "    <path d=\"M120-120v-720h720v720H120Zm60-500h600v-160H180v160Zm220 220h160v-160H400v160Zm0 220h160v-160H400v160ZM180-400h160v-160H180v160Zm440 0h160v-160H620v160ZM180-180h160v-160H180v160Zm440 0h160v-160H620v160Z\"/>\n",
              "  </svg>\n",
              "    </button>\n",
              "\n",
              "  <style>\n",
              "    .colab-df-container {\n",
              "      display:flex;\n",
              "      gap: 12px;\n",
              "    }\n",
              "\n",
              "    .colab-df-convert {\n",
              "      background-color: #E8F0FE;\n",
              "      border: none;\n",
              "      border-radius: 50%;\n",
              "      cursor: pointer;\n",
              "      display: none;\n",
              "      fill: #1967D2;\n",
              "      height: 32px;\n",
              "      padding: 0 0 0 0;\n",
              "      width: 32px;\n",
              "    }\n",
              "\n",
              "    .colab-df-convert:hover {\n",
              "      background-color: #E2EBFA;\n",
              "      box-shadow: 0px 1px 2px rgba(60, 64, 67, 0.3), 0px 1px 3px 1px rgba(60, 64, 67, 0.15);\n",
              "      fill: #174EA6;\n",
              "    }\n",
              "\n",
              "    .colab-df-buttons div {\n",
              "      margin-bottom: 4px;\n",
              "    }\n",
              "\n",
              "    [theme=dark] .colab-df-convert {\n",
              "      background-color: #3B4455;\n",
              "      fill: #D2E3FC;\n",
              "    }\n",
              "\n",
              "    [theme=dark] .colab-df-convert:hover {\n",
              "      background-color: #434B5C;\n",
              "      box-shadow: 0px 1px 3px 1px rgba(0, 0, 0, 0.15);\n",
              "      filter: drop-shadow(0px 1px 2px rgba(0, 0, 0, 0.3));\n",
              "      fill: #FFFFFF;\n",
              "    }\n",
              "  </style>\n",
              "\n",
              "    <script>\n",
              "      const buttonEl =\n",
              "        document.querySelector('#df-f8b6e88f-1016-4f56-b45e-bd42038e94d6 button.colab-df-convert');\n",
              "      buttonEl.style.display =\n",
              "        google.colab.kernel.accessAllowed ? 'block' : 'none';\n",
              "\n",
              "      async function convertToInteractive(key) {\n",
              "        const element = document.querySelector('#df-f8b6e88f-1016-4f56-b45e-bd42038e94d6');\n",
              "        const dataTable =\n",
              "          await google.colab.kernel.invokeFunction('convertToInteractive',\n",
              "                                                    [key], {});\n",
              "        if (!dataTable) return;\n",
              "\n",
              "        const docLinkHtml = 'Like what you see? Visit the ' +\n",
              "          '<a target=\"_blank\" href=https://colab.research.google.com/notebooks/data_table.ipynb>data table notebook</a>'\n",
              "          + ' to learn more about interactive tables.';\n",
              "        element.innerHTML = '';\n",
              "        dataTable['output_type'] = 'display_data';\n",
              "        await google.colab.output.renderOutput(dataTable, element);\n",
              "        const docLink = document.createElement('div');\n",
              "        docLink.innerHTML = docLinkHtml;\n",
              "        element.appendChild(docLink);\n",
              "      }\n",
              "    </script>\n",
              "  </div>\n",
              "\n",
              "\n",
              "<div id=\"df-ee449b32-1bb8-4438-b78e-8e3236fef572\">\n",
              "  <button class=\"colab-df-quickchart\" onclick=\"quickchart('df-ee449b32-1bb8-4438-b78e-8e3236fef572')\"\n",
              "            title=\"Suggest charts\"\n",
              "            style=\"display:none;\">\n",
              "\n",
              "<svg xmlns=\"http://www.w3.org/2000/svg\" height=\"24px\"viewBox=\"0 0 24 24\"\n",
              "     width=\"24px\">\n",
              "    <g>\n",
              "        <path d=\"M19 3H5c-1.1 0-2 .9-2 2v14c0 1.1.9 2 2 2h14c1.1 0 2-.9 2-2V5c0-1.1-.9-2-2-2zM9 17H7v-7h2v7zm4 0h-2V7h2v10zm4 0h-2v-4h2v4z\"/>\n",
              "    </g>\n",
              "</svg>\n",
              "  </button>\n",
              "\n",
              "<style>\n",
              "  .colab-df-quickchart {\n",
              "      --bg-color: #E8F0FE;\n",
              "      --fill-color: #1967D2;\n",
              "      --hover-bg-color: #E2EBFA;\n",
              "      --hover-fill-color: #174EA6;\n",
              "      --disabled-fill-color: #AAA;\n",
              "      --disabled-bg-color: #DDD;\n",
              "  }\n",
              "\n",
              "  [theme=dark] .colab-df-quickchart {\n",
              "      --bg-color: #3B4455;\n",
              "      --fill-color: #D2E3FC;\n",
              "      --hover-bg-color: #434B5C;\n",
              "      --hover-fill-color: #FFFFFF;\n",
              "      --disabled-bg-color: #3B4455;\n",
              "      --disabled-fill-color: #666;\n",
              "  }\n",
              "\n",
              "  .colab-df-quickchart {\n",
              "    background-color: var(--bg-color);\n",
              "    border: none;\n",
              "    border-radius: 50%;\n",
              "    cursor: pointer;\n",
              "    display: none;\n",
              "    fill: var(--fill-color);\n",
              "    height: 32px;\n",
              "    padding: 0;\n",
              "    width: 32px;\n",
              "  }\n",
              "\n",
              "  .colab-df-quickchart:hover {\n",
              "    background-color: var(--hover-bg-color);\n",
              "    box-shadow: 0 1px 2px rgba(60, 64, 67, 0.3), 0 1px 3px 1px rgba(60, 64, 67, 0.15);\n",
              "    fill: var(--button-hover-fill-color);\n",
              "  }\n",
              "\n",
              "  .colab-df-quickchart-complete:disabled,\n",
              "  .colab-df-quickchart-complete:disabled:hover {\n",
              "    background-color: var(--disabled-bg-color);\n",
              "    fill: var(--disabled-fill-color);\n",
              "    box-shadow: none;\n",
              "  }\n",
              "\n",
              "  .colab-df-spinner {\n",
              "    border: 2px solid var(--fill-color);\n",
              "    border-color: transparent;\n",
              "    border-bottom-color: var(--fill-color);\n",
              "    animation:\n",
              "      spin 1s steps(1) infinite;\n",
              "  }\n",
              "\n",
              "  @keyframes spin {\n",
              "    0% {\n",
              "      border-color: transparent;\n",
              "      border-bottom-color: var(--fill-color);\n",
              "      border-left-color: var(--fill-color);\n",
              "    }\n",
              "    20% {\n",
              "      border-color: transparent;\n",
              "      border-left-color: var(--fill-color);\n",
              "      border-top-color: var(--fill-color);\n",
              "    }\n",
              "    30% {\n",
              "      border-color: transparent;\n",
              "      border-left-color: var(--fill-color);\n",
              "      border-top-color: var(--fill-color);\n",
              "      border-right-color: var(--fill-color);\n",
              "    }\n",
              "    40% {\n",
              "      border-color: transparent;\n",
              "      border-right-color: var(--fill-color);\n",
              "      border-top-color: var(--fill-color);\n",
              "    }\n",
              "    60% {\n",
              "      border-color: transparent;\n",
              "      border-right-color: var(--fill-color);\n",
              "    }\n",
              "    80% {\n",
              "      border-color: transparent;\n",
              "      border-right-color: var(--fill-color);\n",
              "      border-bottom-color: var(--fill-color);\n",
              "    }\n",
              "    90% {\n",
              "      border-color: transparent;\n",
              "      border-bottom-color: var(--fill-color);\n",
              "    }\n",
              "  }\n",
              "</style>\n",
              "\n",
              "  <script>\n",
              "    async function quickchart(key) {\n",
              "      const quickchartButtonEl =\n",
              "        document.querySelector('#' + key + ' button');\n",
              "      quickchartButtonEl.disabled = true;  // To prevent multiple clicks.\n",
              "      quickchartButtonEl.classList.add('colab-df-spinner');\n",
              "      try {\n",
              "        const charts = await google.colab.kernel.invokeFunction(\n",
              "            'suggestCharts', [key], {});\n",
              "      } catch (error) {\n",
              "        console.error('Error during call to suggestCharts:', error);\n",
              "      }\n",
              "      quickchartButtonEl.classList.remove('colab-df-spinner');\n",
              "      quickchartButtonEl.classList.add('colab-df-quickchart-complete');\n",
              "    }\n",
              "    (() => {\n",
              "      let quickchartButtonEl =\n",
              "        document.querySelector('#df-ee449b32-1bb8-4438-b78e-8e3236fef572 button');\n",
              "      quickchartButtonEl.style.display =\n",
              "        google.colab.kernel.accessAllowed ? 'block' : 'none';\n",
              "    })();\n",
              "  </script>\n",
              "</div>\n",
              "    </div>\n",
              "  </div>\n"
            ],
            "application/vnd.google.colaboratory.intrinsic+json": {
              "type": "dataframe",
              "variable_name": "dataframe",
              "summary": "{\n  \"name\": \"dataframe\",\n  \"rows\": 1218,\n  \"fields\": [\n    {\n      \"column\": \"image\",\n      \"properties\": {\n        \"dtype\": \"string\",\n        \"num_unique_values\": 1218,\n        \"samples\": [\n          \"/content/drive/MyDrive/img_resized/1042566283185676289.jpg\",\n          \"/content/drive/MyDrive/img_resized/1056797793048817665.jpg\",\n          \"/content/drive/MyDrive/img_resized/1057426993648668673.jpg\"\n        ],\n        \"semantic_type\": \"\",\n        \"description\": \"\"\n      }\n    },\n    {\n      \"column\": \"text\",\n      \"properties\": {\n        \"dtype\": \"string\",\n        \"num_unique_values\": 1174,\n        \"samples\": [\n          \"FUT19 FUT DRAFT MATCH re TWITORTV /EASPORTISA SUNENOUS SUR twitcTWITCHV/EASPORTSFITA SUIVEZ- NOUS SUR V /EASPG SFIFAG 7 P. Vieira 23 F. Rib\\u00e9ry 8 N. Fekir 19 W. Ben Yedder 9 FALCAO 15 OBLAK \",\n          \"100% TRANS \",\n          \"Your Story 2m , afif.jazimin hafizanuarr afift jazimin Highlight More \"\n        ],\n        \"semantic_type\": \"\",\n        \"description\": \"\"\n      }\n    },\n    {\n      \"column\": \"label_0\",\n      \"properties\": {\n        \"dtype\": \"number\",\n        \"std\": 1,\n        \"min\": 0,\n        \"max\": 5,\n        \"num_unique_values\": 6,\n        \"samples\": [\n          2,\n          1,\n          4\n        ],\n        \"semantic_type\": \"\",\n        \"description\": \"\"\n      }\n    },\n    {\n      \"column\": \"label_1\",\n      \"properties\": {\n        \"dtype\": \"number\",\n        \"std\": 1,\n        \"min\": 0,\n        \"max\": 5,\n        \"num_unique_values\": 6,\n        \"samples\": [\n          2,\n          1,\n          4\n        ],\n        \"semantic_type\": \"\",\n        \"description\": \"\"\n      }\n    },\n    {\n      \"column\": \"label_2\",\n      \"properties\": {\n        \"dtype\": \"number\",\n        \"std\": 1,\n        \"min\": 0,\n        \"max\": 5,\n        \"num_unique_values\": 6,\n        \"samples\": [\n          2,\n          1,\n          4\n        ],\n        \"semantic_type\": \"\",\n        \"description\": \"\"\n      }\n    },\n    {\n      \"column\": \"label_0_str\",\n      \"properties\": {\n        \"dtype\": \"category\",\n        \"num_unique_values\": 6,\n        \"samples\": [\n          \"Sexist\",\n          \"Racist\",\n          \"Religion\"\n        ],\n        \"semantic_type\": \"\",\n        \"description\": \"\"\n      }\n    },\n    {\n      \"column\": \"label_1_str\",\n      \"properties\": {\n        \"dtype\": \"category\",\n        \"num_unique_values\": 6,\n        \"samples\": [\n          \"Sexist\",\n          \"Racist\",\n          \"Religion\"\n        ],\n        \"semantic_type\": \"\",\n        \"description\": \"\"\n      }\n    },\n    {\n      \"column\": \"label_2_str\",\n      \"properties\": {\n        \"dtype\": \"category\",\n        \"num_unique_values\": 6,\n        \"samples\": [\n          \"Sexist\",\n          \"Racist\",\n          \"Religion\"\n        ],\n        \"semantic_type\": \"\",\n        \"description\": \"\"\n      }\n    },\n    {\n      \"column\": \"binary_label_0\",\n      \"properties\": {\n        \"dtype\": \"number\",\n        \"std\": 0,\n        \"min\": 0,\n        \"max\": 1,\n        \"num_unique_values\": 2,\n        \"samples\": [\n          0,\n          1\n        ],\n        \"semantic_type\": \"\",\n        \"description\": \"\"\n      }\n    },\n    {\n      \"column\": \"binary_label_1\",\n      \"properties\": {\n        \"dtype\": \"number\",\n        \"std\": 0,\n        \"min\": 0,\n        \"max\": 1,\n        \"num_unique_values\": 2,\n        \"samples\": [\n          0,\n          1\n        ],\n        \"semantic_type\": \"\",\n        \"description\": \"\"\n      }\n    },\n    {\n      \"column\": \"binary_label_2\",\n      \"properties\": {\n        \"dtype\": \"number\",\n        \"std\": 0,\n        \"min\": 0,\n        \"max\": 1,\n        \"num_unique_values\": 2,\n        \"samples\": [\n          0,\n          1\n        ],\n        \"semantic_type\": \"\",\n        \"description\": \"\"\n      }\n    },\n    {\n      \"column\": \"binary_label_0_str\",\n      \"properties\": {\n        \"dtype\": \"category\",\n        \"num_unique_values\": 2,\n        \"samples\": [\n          \"NotHate\",\n          \"Hate\"\n        ],\n        \"semantic_type\": \"\",\n        \"description\": \"\"\n      }\n    },\n    {\n      \"column\": \"binary_label_1_str\",\n      \"properties\": {\n        \"dtype\": \"category\",\n        \"num_unique_values\": 2,\n        \"samples\": [\n          \"NotHate\",\n          \"Hate\"\n        ],\n        \"semantic_type\": \"\",\n        \"description\": \"\"\n      }\n    },\n    {\n      \"column\": \"binary_label_2_str\",\n      \"properties\": {\n        \"dtype\": \"category\",\n        \"num_unique_values\": 2,\n        \"samples\": [\n          \"NotHate\",\n          \"Hate\"\n        ],\n        \"semantic_type\": \"\",\n        \"description\": \"\"\n      }\n    }\n  ]\n}"
            }
          },
          "metadata": {},
          "execution_count": 10
        }
      ]
    },
    {
      "cell_type": "markdown",
      "source": [
        "##<b>5. Load Model - `gemini-pro-vision`<a class=\"anchor\" id=\"gemini\"></a></b>"
      ],
      "metadata": {
        "id": "BD0EgIXUMudj"
      }
    },
    {
      "cell_type": "code",
      "source": [
        "model = genai.GenerativeModel('gemini-pro-vision')"
      ],
      "metadata": {
        "id": "AlRxJVt6Kb9t"
      },
      "execution_count": 11,
      "outputs": []
    },
    {
      "cell_type": "markdown",
      "source": [
        "##<b>6. Inference and Evaluation with `MMHS150K` Dataset - Binary Classification<a class=\"anchor\" id=\"binary\"></a></b>"
      ],
      "metadata": {
        "id": "fBDSekRsTYaf"
      }
    },
    {
      "cell_type": "markdown",
      "source": [
        "**Inference:**"
      ],
      "metadata": {
        "id": "rdlkYT2NUSj7"
      }
    },
    {
      "cell_type": "code",
      "source": [
        "from tqdm import tqdm\n",
        "\n",
        "# Instantiate list to store results\n",
        "results = []\n",
        "\n",
        "# Iterate over the DataFrame rows\n",
        "for index, row in tqdm(dataframe.iterrows(), total=dataframe.shape[0]):\n",
        "\n",
        "    # Construct the messages for each row\n",
        "    attempt = 0\n",
        "    max_attempts = 3  # Set a maximum number of retry attempts\n",
        "\n",
        "    while attempt < max_attempts:\n",
        "        try:\n",
        "            response = model.generate_content(\n",
        "                [\n",
        "                    f\"Accompanying text: {row['text']}. Given the following meme from social media, which includes both an image and accompanying text, classify the content as hateful or non-hateful. Consider both the visual and textual elements in your assessment. Strictly provide a binary classification: 0 for non-hateful and 1 for hateful.\",\n",
        "                    read_image(row['image'])\n",
        "                ]\n",
        "            )\n",
        "\n",
        "            # If response is successful, append to results and break the loop\n",
        "            results.append(response.text)\n",
        "            break\n",
        "\n",
        "        except ValueError as e:\n",
        "            attempt += 1  # Increment the attempt counter\n",
        "            print(f\"Attempt {attempt} failed. Retrying...\")\n",
        "\n",
        "            # Append None or a placeholder to indicate failure\n",
        "            if attempt == max_attempts:\n",
        "                print(\n",
        "                    f\"Maximum attempts reached for index {index}. Skipping...\"\n",
        "                )\n",
        "                results.append(None)\n"
      ],
      "metadata": {
        "colab": {
          "base_uri": "https://localhost:8080/",
          "height": 1000
        },
        "id": "lpqTyJ_4TZlh",
        "outputId": "e9601475-04b2-48a7-9bcc-46f70703bd90"
      },
      "execution_count": 16,
      "outputs": [
        {
          "output_type": "stream",
          "name": "stderr",
          "text": [
            "  0%|          | 2/1218 [00:09<1:35:31,  4.71s/it]"
          ]
        },
        {
          "output_type": "stream",
          "name": "stdout",
          "text": [
            "Attempt 1 failed. Retrying...\n",
            "Attempt 2 failed. Retrying...\n"
          ]
        },
        {
          "output_type": "stream",
          "name": "stderr",
          "text": [
            "\r  0%|          | 3/1218 [00:13<1:24:42,  4.18s/it]"
          ]
        },
        {
          "output_type": "stream",
          "name": "stdout",
          "text": [
            "Attempt 3 failed. Retrying...\n",
            "Maximum attempts reached for index 2. Skipping...\n"
          ]
        },
        {
          "output_type": "stream",
          "name": "stderr",
          "text": [
            "  1%|          | 9/1218 [00:38<1:26:48,  4.31s/it]"
          ]
        },
        {
          "output_type": "stream",
          "name": "stdout",
          "text": [
            "Attempt 1 failed. Retrying...\n",
            "Attempt 2 failed. Retrying...\n"
          ]
        },
        {
          "output_type": "stream",
          "name": "stderr",
          "text": [
            "\r  1%|          | 10/1218 [00:51<2:21:05,  7.01s/it]"
          ]
        },
        {
          "output_type": "stream",
          "name": "stdout",
          "text": [
            "Attempt 3 failed. Retrying...\n",
            "Maximum attempts reached for index 9. Skipping...\n"
          ]
        },
        {
          "output_type": "stream",
          "name": "stderr",
          "text": [
            "  2%|▏         | 20/1218 [01:36<1:31:42,  4.59s/it]"
          ]
        },
        {
          "output_type": "stream",
          "name": "stdout",
          "text": [
            "Attempt 1 failed. Retrying...\n",
            "Attempt 2 failed. Retrying...\n"
          ]
        },
        {
          "output_type": "stream",
          "name": "stderr",
          "text": [
            "\r  2%|▏         | 21/1218 [01:40<1:29:10,  4.47s/it]"
          ]
        },
        {
          "output_type": "stream",
          "name": "stdout",
          "text": [
            "Attempt 3 failed. Retrying...\n",
            "Maximum attempts reached for index 20. Skipping...\n"
          ]
        },
        {
          "output_type": "stream",
          "name": "stderr",
          "text": [
            "  3%|▎         | 32/1218 [02:28<1:26:38,  4.38s/it]"
          ]
        },
        {
          "output_type": "stream",
          "name": "stdout",
          "text": [
            "Attempt 1 failed. Retrying...\n",
            "Attempt 2 failed. Retrying...\n"
          ]
        },
        {
          "output_type": "stream",
          "name": "stderr",
          "text": [
            "\r  3%|▎         | 33/1218 [02:41<2:13:19,  6.75s/it]"
          ]
        },
        {
          "output_type": "stream",
          "name": "stdout",
          "text": [
            "Attempt 3 failed. Retrying...\n",
            "Maximum attempts reached for index 32. Skipping...\n",
            "Attempt 1 failed. Retrying...\n",
            "Attempt 2 failed. Retrying...\n"
          ]
        },
        {
          "output_type": "stream",
          "name": "stderr",
          "text": [
            "\r  3%|▎         | 34/1218 [02:44<1:54:39,  5.81s/it]"
          ]
        },
        {
          "output_type": "stream",
          "name": "stdout",
          "text": [
            "Attempt 3 failed. Retrying...\n",
            "Maximum attempts reached for index 33. Skipping...\n"
          ]
        },
        {
          "output_type": "stream",
          "name": "stderr",
          "text": [
            "\r  3%|▎         | 35/1218 [02:49<1:50:30,  5.61s/it]"
          ]
        },
        {
          "output_type": "stream",
          "name": "stdout",
          "text": [
            "Attempt 1 failed. Retrying...\n",
            "Attempt 2 failed. Retrying...\n"
          ]
        },
        {
          "output_type": "stream",
          "name": "stderr",
          "text": [
            "\r  3%|▎         | 36/1218 [03:01<2:25:51,  7.40s/it]"
          ]
        },
        {
          "output_type": "stream",
          "name": "stdout",
          "text": [
            "Attempt 3 failed. Retrying...\n",
            "Maximum attempts reached for index 35. Skipping...\n"
          ]
        },
        {
          "output_type": "stream",
          "name": "stderr",
          "text": [
            "  4%|▎         | 43/1218 [03:32<1:32:14,  4.71s/it]"
          ]
        },
        {
          "output_type": "stream",
          "name": "stdout",
          "text": [
            "Attempt 1 failed. Retrying...\n",
            "Attempt 2 failed. Retrying...\n"
          ]
        },
        {
          "output_type": "stream",
          "name": "stderr",
          "text": [
            "\r  4%|▎         | 44/1218 [03:44<2:12:48,  6.79s/it]"
          ]
        },
        {
          "output_type": "stream",
          "name": "stdout",
          "text": [
            "Attempt 3 failed. Retrying...\n",
            "Maximum attempts reached for index 43. Skipping...\n"
          ]
        },
        {
          "output_type": "stream",
          "name": "stderr",
          "text": [
            "  4%|▍         | 47/1218 [03:57<1:42:20,  5.24s/it]"
          ]
        },
        {
          "output_type": "stream",
          "name": "stdout",
          "text": [
            "Attempt 1 failed. Retrying...\n",
            "Attempt 2 failed. Retrying...\n"
          ]
        },
        {
          "output_type": "stream",
          "name": "stderr",
          "text": [
            "\r  4%|▍         | 48/1218 [04:01<1:35:41,  4.91s/it]"
          ]
        },
        {
          "output_type": "stream",
          "name": "stdout",
          "text": [
            "Attempt 3 failed. Retrying...\n",
            "Maximum attempts reached for index 47. Skipping...\n"
          ]
        },
        {
          "output_type": "stream",
          "name": "stderr",
          "text": [
            "\r  4%|▍         | 49/1218 [04:06<1:35:10,  4.89s/it]"
          ]
        },
        {
          "output_type": "stream",
          "name": "stdout",
          "text": [
            "Attempt 1 failed. Retrying...\n",
            "Attempt 2 failed. Retrying...\n"
          ]
        },
        {
          "output_type": "stream",
          "name": "stderr",
          "text": [
            "\r  4%|▍         | 50/1218 [04:10<1:28:44,  4.56s/it]"
          ]
        },
        {
          "output_type": "stream",
          "name": "stdout",
          "text": [
            "Attempt 3 failed. Retrying...\n",
            "Maximum attempts reached for index 49. Skipping...\n"
          ]
        },
        {
          "output_type": "stream",
          "name": "stderr",
          "text": [
            "  5%|▍         | 59/1218 [04:49<1:23:28,  4.32s/it]"
          ]
        },
        {
          "output_type": "stream",
          "name": "stdout",
          "text": [
            "Attempt 1 failed. Retrying...\n",
            "Attempt 2 failed. Retrying...\n"
          ]
        },
        {
          "output_type": "stream",
          "name": "stderr",
          "text": [
            "\r  5%|▍         | 60/1218 [05:02<2:14:18,  6.96s/it]"
          ]
        },
        {
          "output_type": "stream",
          "name": "stdout",
          "text": [
            "Attempt 3 failed. Retrying...\n",
            "Maximum attempts reached for index 59. Skipping...\n",
            "Attempt 1 failed. Retrying...\n",
            "Attempt 2 failed. Retrying...\n"
          ]
        },
        {
          "output_type": "stream",
          "name": "stderr",
          "text": [
            "\r  5%|▌         | 61/1218 [05:06<1:56:53,  6.06s/it]"
          ]
        },
        {
          "output_type": "stream",
          "name": "stdout",
          "text": [
            "Attempt 3 failed. Retrying...\n",
            "Maximum attempts reached for index 60. Skipping...\n"
          ]
        },
        {
          "output_type": "stream",
          "name": "stderr",
          "text": [
            "\r  5%|▌         | 62/1218 [05:10<1:47:36,  5.59s/it]"
          ]
        },
        {
          "output_type": "stream",
          "name": "stdout",
          "text": [
            "Attempt 1 failed. Retrying...\n",
            "Attempt 2 failed. Retrying...\n"
          ]
        },
        {
          "output_type": "stream",
          "name": "stderr",
          "text": [
            "\r  5%|▌         | 63/1218 [05:24<2:32:27,  7.92s/it]"
          ]
        },
        {
          "output_type": "stream",
          "name": "stdout",
          "text": [
            "Attempt 3 failed. Retrying...\n",
            "Maximum attempts reached for index 62. Skipping...\n"
          ]
        },
        {
          "output_type": "stream",
          "name": "stderr",
          "text": [
            "  6%|▌         | 70/1218 [05:54<1:29:43,  4.69s/it]"
          ]
        },
        {
          "output_type": "stream",
          "name": "stdout",
          "text": [
            "Attempt 1 failed. Retrying...\n",
            "Attempt 2 failed. Retrying...\n"
          ]
        },
        {
          "output_type": "stream",
          "name": "stderr",
          "text": [
            "\r  6%|▌         | 71/1218 [06:08<2:19:47,  7.31s/it]"
          ]
        },
        {
          "output_type": "stream",
          "name": "stdout",
          "text": [
            "Attempt 3 failed. Retrying...\n",
            "Maximum attempts reached for index 70. Skipping...\n"
          ]
        },
        {
          "output_type": "stream",
          "name": "stderr",
          "text": [
            "  6%|▋         | 79/1218 [06:42<1:23:08,  4.38s/it]"
          ]
        },
        {
          "output_type": "stream",
          "name": "stdout",
          "text": [
            "Attempt 1 failed. Retrying...\n",
            "Attempt 2 failed. Retrying...\n"
          ]
        },
        {
          "output_type": "stream",
          "name": "stderr",
          "text": [
            "\r  7%|▋         | 80/1218 [06:55<2:12:55,  7.01s/it]"
          ]
        },
        {
          "output_type": "stream",
          "name": "stdout",
          "text": [
            "Attempt 3 failed. Retrying...\n",
            "Maximum attempts reached for index 79. Skipping...\n"
          ]
        },
        {
          "output_type": "stream",
          "name": "stderr",
          "text": [
            "  7%|▋         | 85/1218 [07:16<1:28:26,  4.68s/it]"
          ]
        },
        {
          "output_type": "stream",
          "name": "stdout",
          "text": [
            "Attempt 1 failed. Retrying...\n",
            "Attempt 2 failed. Retrying...\n"
          ]
        },
        {
          "output_type": "stream",
          "name": "stderr",
          "text": [
            "\r  7%|▋         | 86/1218 [07:31<2:25:09,  7.69s/it]"
          ]
        },
        {
          "output_type": "stream",
          "name": "stdout",
          "text": [
            "Attempt 3 failed. Retrying...\n",
            "Maximum attempts reached for index 85. Skipping...\n"
          ]
        },
        {
          "output_type": "stream",
          "name": "stderr",
          "text": [
            "  8%|▊         | 94/1218 [08:09<1:34:06,  5.02s/it]"
          ]
        },
        {
          "output_type": "stream",
          "name": "stdout",
          "text": [
            "Attempt 1 failed. Retrying...\n",
            "Attempt 2 failed. Retrying...\n"
          ]
        },
        {
          "output_type": "stream",
          "name": "stderr",
          "text": [
            "\r  8%|▊         | 95/1218 [08:21<2:10:02,  6.95s/it]"
          ]
        },
        {
          "output_type": "stream",
          "name": "stdout",
          "text": [
            "Attempt 3 failed. Retrying...\n",
            "Maximum attempts reached for index 94. Skipping...\n"
          ]
        },
        {
          "output_type": "stream",
          "name": "stderr",
          "text": [
            "  8%|▊         | 102/1218 [08:52<1:26:10,  4.63s/it]"
          ]
        },
        {
          "output_type": "stream",
          "name": "stdout",
          "text": [
            "Attempt 1 failed. Retrying...\n",
            "Attempt 2 failed. Retrying...\n"
          ]
        },
        {
          "output_type": "stream",
          "name": "stderr",
          "text": [
            "\r  8%|▊         | 103/1218 [09:03<2:05:01,  6.73s/it]"
          ]
        },
        {
          "output_type": "stream",
          "name": "stdout",
          "text": [
            "Attempt 3 failed. Retrying...\n",
            "Maximum attempts reached for index 102. Skipping...\n",
            "Attempt 1 failed. Retrying...\n",
            "Attempt 2 failed. Retrying...\n"
          ]
        },
        {
          "output_type": "stream",
          "name": "stderr",
          "text": [
            "\r  9%|▊         | 104/1218 [09:16<2:36:38,  8.44s/it]"
          ]
        },
        {
          "output_type": "stream",
          "name": "stdout",
          "text": [
            "Attempt 3 failed. Retrying...\n",
            "Maximum attempts reached for index 103. Skipping...\n"
          ]
        },
        {
          "output_type": "stream",
          "name": "stderr",
          "text": [
            " 10%|▉         | 121/1218 [10:29<1:19:47,  4.36s/it]"
          ]
        },
        {
          "output_type": "stream",
          "name": "stdout",
          "text": [
            "Attempt 1 failed. Retrying...\n",
            "Attempt 2 failed. Retrying...\n"
          ]
        },
        {
          "output_type": "stream",
          "name": "stderr",
          "text": [
            "\r 10%|█         | 122/1218 [10:41<1:59:53,  6.56s/it]"
          ]
        },
        {
          "output_type": "stream",
          "name": "stdout",
          "text": [
            "Attempt 3 failed. Retrying...\n",
            "Maximum attempts reached for index 121. Skipping...\n"
          ]
        },
        {
          "output_type": "stream",
          "name": "stderr",
          "text": [
            "\r 10%|█         | 123/1218 [10:45<1:46:38,  5.84s/it]"
          ]
        },
        {
          "output_type": "stream",
          "name": "stdout",
          "text": [
            "Attempt 1 failed. Retrying...\n",
            "Attempt 2 failed. Retrying...\n"
          ]
        },
        {
          "output_type": "stream",
          "name": "stderr",
          "text": [
            "\r 10%|█         | 124/1218 [10:57<2:20:24,  7.70s/it]"
          ]
        },
        {
          "output_type": "stream",
          "name": "stdout",
          "text": [
            "Attempt 3 failed. Retrying...\n",
            "Maximum attempts reached for index 123. Skipping...\n"
          ]
        },
        {
          "output_type": "stream",
          "name": "stderr",
          "text": [
            " 11%|█         | 130/1218 [11:26<1:34:49,  5.23s/it]"
          ]
        },
        {
          "output_type": "stream",
          "name": "stdout",
          "text": [
            "Attempt 1 failed. Retrying...\n",
            "Attempt 2 failed. Retrying...\n"
          ]
        },
        {
          "output_type": "stream",
          "name": "stderr",
          "text": [
            "\r 11%|█         | 131/1218 [11:38<2:12:19,  7.30s/it]"
          ]
        },
        {
          "output_type": "stream",
          "name": "stdout",
          "text": [
            "Attempt 3 failed. Retrying...\n",
            "Maximum attempts reached for index 130. Skipping...\n"
          ]
        },
        {
          "output_type": "stream",
          "name": "stderr",
          "text": [
            "\r 11%|█         | 132/1218 [11:42<1:55:21,  6.37s/it]"
          ]
        },
        {
          "output_type": "stream",
          "name": "stdout",
          "text": [
            "Attempt 1 failed. Retrying...\n",
            "Attempt 2 failed. Retrying...\n"
          ]
        },
        {
          "output_type": "stream",
          "name": "stderr",
          "text": [
            "\r 11%|█         | 133/1218 [11:45<1:38:45,  5.46s/it]"
          ]
        },
        {
          "output_type": "stream",
          "name": "stdout",
          "text": [
            "Attempt 3 failed. Retrying...\n",
            "Maximum attempts reached for index 132. Skipping...\n"
          ]
        },
        {
          "output_type": "stream",
          "name": "stderr",
          "text": [
            "\r 11%|█         | 134/1218 [11:50<1:31:57,  5.09s/it]"
          ]
        },
        {
          "output_type": "stream",
          "name": "stdout",
          "text": [
            "Attempt 1 failed. Retrying...\n",
            "Attempt 2 failed. Retrying...\n"
          ]
        },
        {
          "output_type": "stream",
          "name": "stderr",
          "text": [
            "\r 11%|█         | 135/1218 [11:53<1:23:24,  4.62s/it]"
          ]
        },
        {
          "output_type": "stream",
          "name": "stdout",
          "text": [
            "Attempt 3 failed. Retrying...\n",
            "Maximum attempts reached for index 134. Skipping...\n",
            "Attempt 1 failed. Retrying...\n"
          ]
        },
        {
          "output_type": "stream",
          "name": "stderr",
          "text": [
            " 11%|█▏        | 139/1218 [12:14<1:25:03,  4.73s/it]"
          ]
        },
        {
          "output_type": "stream",
          "name": "stdout",
          "text": [
            "Attempt 1 failed. Retrying...\n",
            "Attempt 2 failed. Retrying...\n"
          ]
        },
        {
          "output_type": "stream",
          "name": "stderr",
          "text": [
            "\r 11%|█▏        | 140/1218 [12:26<2:02:09,  6.80s/it]"
          ]
        },
        {
          "output_type": "stream",
          "name": "stdout",
          "text": [
            "Attempt 3 failed. Retrying...\n",
            "Maximum attempts reached for index 139. Skipping...\n"
          ]
        },
        {
          "output_type": "stream",
          "name": "stderr",
          "text": [
            " 12%|█▏        | 149/1218 [13:04<1:17:58,  4.38s/it]"
          ]
        },
        {
          "output_type": "stream",
          "name": "stdout",
          "text": [
            "Attempt 1 failed. Retrying...\n",
            "Attempt 2 failed. Retrying...\n"
          ]
        },
        {
          "output_type": "stream",
          "name": "stderr",
          "text": [
            "\r 12%|█▏        | 150/1218 [13:16<1:56:00,  6.52s/it]"
          ]
        },
        {
          "output_type": "stream",
          "name": "stdout",
          "text": [
            "Attempt 3 failed. Retrying...\n",
            "Maximum attempts reached for index 149. Skipping...\n"
          ]
        },
        {
          "output_type": "stream",
          "name": "stderr",
          "text": [
            "\r 12%|█▏        | 151/1218 [13:20<1:43:13,  5.80s/it]"
          ]
        },
        {
          "output_type": "stream",
          "name": "stdout",
          "text": [
            "Attempt 1 failed. Retrying...\n",
            "Attempt 2 failed. Retrying...\n"
          ]
        },
        {
          "output_type": "stream",
          "name": "stderr",
          "text": [
            "\r 12%|█▏        | 152/1218 [13:32<2:14:27,  7.57s/it]"
          ]
        },
        {
          "output_type": "stream",
          "name": "stdout",
          "text": [
            "Attempt 3 failed. Retrying...\n",
            "Maximum attempts reached for index 151. Skipping...\n"
          ]
        },
        {
          "output_type": "stream",
          "name": "stderr",
          "text": [
            " 14%|█▎        | 165/1218 [14:28<1:19:02,  4.50s/it]"
          ]
        },
        {
          "output_type": "stream",
          "name": "stdout",
          "text": [
            "Attempt 1 failed. Retrying...\n",
            "Attempt 2 failed. Retrying...\n"
          ]
        },
        {
          "output_type": "stream",
          "name": "stderr",
          "text": [
            "\r 14%|█▎        | 166/1218 [14:41<2:04:57,  7.13s/it]"
          ]
        },
        {
          "output_type": "stream",
          "name": "stdout",
          "text": [
            "Attempt 3 failed. Retrying...\n",
            "Maximum attempts reached for index 165. Skipping...\n"
          ]
        },
        {
          "output_type": "stream",
          "name": "stderr",
          "text": [
            " 14%|█▍        | 169/1218 [14:55<1:35:27,  5.46s/it]"
          ]
        },
        {
          "output_type": "stream",
          "name": "stdout",
          "text": [
            "Attempt 1 failed. Retrying...\n",
            "Attempt 2 failed. Retrying...\n"
          ]
        },
        {
          "output_type": "stream",
          "name": "stderr",
          "text": [
            "\r 14%|█▍        | 170/1218 [15:08<2:12:28,  7.58s/it]"
          ]
        },
        {
          "output_type": "stream",
          "name": "stdout",
          "text": [
            "Attempt 3 failed. Retrying...\n",
            "Maximum attempts reached for index 169. Skipping...\n"
          ]
        },
        {
          "output_type": "stream",
          "name": "stderr",
          "text": [
            "\r 14%|█▍        | 171/1218 [15:12<1:54:40,  6.57s/it]"
          ]
        },
        {
          "output_type": "stream",
          "name": "stdout",
          "text": [
            "Attempt 1 failed. Retrying...\n",
            "Attempt 2 failed. Retrying...\n"
          ]
        },
        {
          "output_type": "stream",
          "name": "stderr",
          "text": [
            "\r 14%|█▍        | 172/1218 [15:25<2:25:43,  8.36s/it]"
          ]
        },
        {
          "output_type": "stream",
          "name": "stdout",
          "text": [
            "Attempt 3 failed. Retrying...\n",
            "Maximum attempts reached for index 171. Skipping...\n",
            "Attempt 1 failed. Retrying...\n",
            "Attempt 2 failed. Retrying...\n"
          ]
        },
        {
          "output_type": "stream",
          "name": "stderr",
          "text": [
            "\r 14%|█▍        | 173/1218 [15:39<2:55:21, 10.07s/it]"
          ]
        },
        {
          "output_type": "stream",
          "name": "stdout",
          "text": [
            "Attempt 3 failed. Retrying...\n",
            "Maximum attempts reached for index 172. Skipping...\n",
            "Attempt 1 failed. Retrying...\n",
            "Attempt 2 failed. Retrying...\n"
          ]
        },
        {
          "output_type": "stream",
          "name": "stderr",
          "text": [
            "\r 14%|█▍        | 174/1218 [15:51<3:09:10, 10.87s/it]"
          ]
        },
        {
          "output_type": "stream",
          "name": "stdout",
          "text": [
            "Attempt 3 failed. Retrying...\n",
            "Maximum attempts reached for index 173. Skipping...\n"
          ]
        },
        {
          "output_type": "stream",
          "name": "stderr",
          "text": [
            " 14%|█▍        | 176/1218 [16:00<2:09:57,  7.48s/it]"
          ]
        },
        {
          "output_type": "stream",
          "name": "stdout",
          "text": [
            "Attempt 1 failed. Retrying...\n",
            "Attempt 2 failed. Retrying...\n"
          ]
        },
        {
          "output_type": "stream",
          "name": "stderr",
          "text": [
            "\r 15%|█▍        | 177/1218 [16:14<2:41:24,  9.30s/it]"
          ]
        },
        {
          "output_type": "stream",
          "name": "stdout",
          "text": [
            "Attempt 3 failed. Retrying...\n",
            "Maximum attempts reached for index 176. Skipping...\n"
          ]
        },
        {
          "output_type": "stream",
          "name": "stderr",
          "text": [
            " 15%|█▍        | 181/1218 [16:32<1:37:36,  5.65s/it]"
          ]
        },
        {
          "output_type": "stream",
          "name": "stdout",
          "text": [
            "Attempt 1 failed. Retrying...\n",
            "Attempt 2 failed. Retrying...\n"
          ]
        },
        {
          "output_type": "stream",
          "name": "stderr",
          "text": [
            "\r 15%|█▍        | 182/1218 [16:44<2:12:49,  7.69s/it]"
          ]
        },
        {
          "output_type": "stream",
          "name": "stdout",
          "text": [
            "Attempt 3 failed. Retrying...\n",
            "Maximum attempts reached for index 181. Skipping...\n",
            "Attempt 1 failed. Retrying...\n",
            "Attempt 2 failed. Retrying...\n"
          ]
        },
        {
          "output_type": "stream",
          "name": "stderr",
          "text": [
            "\r 15%|█▌        | 183/1218 [16:57<2:41:53,  9.39s/it]"
          ]
        },
        {
          "output_type": "stream",
          "name": "stdout",
          "text": [
            "Attempt 3 failed. Retrying...\n",
            "Maximum attempts reached for index 182. Skipping...\n"
          ]
        },
        {
          "output_type": "stream",
          "name": "stderr",
          "text": [
            " 16%|█▌        | 189/1218 [17:23<1:26:46,  5.06s/it]"
          ]
        },
        {
          "output_type": "stream",
          "name": "stdout",
          "text": [
            "Attempt 1 failed. Retrying...\n",
            "Attempt 2 failed. Retrying...\n"
          ]
        },
        {
          "output_type": "stream",
          "name": "stderr",
          "text": [
            "\r 16%|█▌        | 190/1218 [17:28<1:22:36,  4.82s/it]"
          ]
        },
        {
          "output_type": "stream",
          "name": "stdout",
          "text": [
            "Attempt 3 failed. Retrying...\n",
            "Maximum attempts reached for index 189. Skipping...\n"
          ]
        },
        {
          "output_type": "stream",
          "name": "stderr",
          "text": [
            " 16%|█▋        | 198/1218 [18:01<1:12:49,  4.28s/it]"
          ]
        },
        {
          "output_type": "stream",
          "name": "stdout",
          "text": [
            "Attempt 1 failed. Retrying...\n",
            "Attempt 2 failed. Retrying...\n"
          ]
        },
        {
          "output_type": "stream",
          "name": "stderr",
          "text": [
            "\r 16%|█▋        | 199/1218 [18:14<1:53:28,  6.68s/it]"
          ]
        },
        {
          "output_type": "stream",
          "name": "stdout",
          "text": [
            "Attempt 3 failed. Retrying...\n",
            "Maximum attempts reached for index 198. Skipping...\n"
          ]
        },
        {
          "output_type": "stream",
          "name": "stderr",
          "text": [
            " 17%|█▋        | 201/1218 [18:22<1:33:04,  5.49s/it]"
          ]
        },
        {
          "output_type": "stream",
          "name": "stdout",
          "text": [
            "Attempt 1 failed. Retrying...\n",
            "Attempt 2 failed. Retrying...\n"
          ]
        },
        {
          "output_type": "stream",
          "name": "stderr",
          "text": [
            "\r 17%|█▋        | 202/1218 [18:27<1:29:18,  5.27s/it]"
          ]
        },
        {
          "output_type": "stream",
          "name": "stdout",
          "text": [
            "Attempt 3 failed. Retrying...\n",
            "Maximum attempts reached for index 201. Skipping...\n"
          ]
        },
        {
          "output_type": "stream",
          "name": "stderr",
          "text": [
            " 17%|█▋        | 210/1218 [19:04<1:17:48,  4.63s/it]"
          ]
        },
        {
          "output_type": "stream",
          "name": "stdout",
          "text": [
            "Attempt 1 failed. Retrying...\n",
            "Attempt 2 failed. Retrying...\n"
          ]
        },
        {
          "output_type": "stream",
          "name": "stderr",
          "text": [
            "\r 17%|█▋        | 211/1218 [19:16<1:54:56,  6.85s/it]"
          ]
        },
        {
          "output_type": "stream",
          "name": "stdout",
          "text": [
            "Attempt 3 failed. Retrying...\n",
            "Maximum attempts reached for index 210. Skipping...\n",
            "Attempt 1 failed. Retrying...\n",
            "Attempt 2 failed. Retrying...\n"
          ]
        },
        {
          "output_type": "stream",
          "name": "stderr",
          "text": [
            "\r 17%|█▋        | 212/1218 [19:20<1:41:15,  6.04s/it]"
          ]
        },
        {
          "output_type": "stream",
          "name": "stdout",
          "text": [
            "Attempt 3 failed. Retrying...\n",
            "Maximum attempts reached for index 211. Skipping...\n"
          ]
        },
        {
          "output_type": "stream",
          "name": "stderr",
          "text": [
            " 18%|█▊        | 216/1218 [19:37<1:19:32,  4.76s/it]"
          ]
        },
        {
          "output_type": "stream",
          "name": "stdout",
          "text": [
            "Attempt 1 failed. Retrying...\n",
            "Attempt 2 failed. Retrying...\n"
          ]
        },
        {
          "output_type": "stream",
          "name": "stderr",
          "text": [
            "\r 18%|█▊        | 217/1218 [19:49<1:55:49,  6.94s/it]"
          ]
        },
        {
          "output_type": "stream",
          "name": "stdout",
          "text": [
            "Attempt 3 failed. Retrying...\n",
            "Maximum attempts reached for index 216. Skipping...\n"
          ]
        },
        {
          "output_type": "stream",
          "name": "stderr",
          "text": [
            " 18%|█▊        | 219/1218 [19:59<1:37:45,  5.87s/it]"
          ]
        },
        {
          "output_type": "stream",
          "name": "stdout",
          "text": [
            "Attempt 1 failed. Retrying...\n",
            "Attempt 2 failed. Retrying...\n"
          ]
        },
        {
          "output_type": "stream",
          "name": "stderr",
          "text": [
            "\r 18%|█▊        | 220/1218 [20:02<1:26:30,  5.20s/it]"
          ]
        },
        {
          "output_type": "stream",
          "name": "stdout",
          "text": [
            "Attempt 3 failed. Retrying...\n",
            "Maximum attempts reached for index 219. Skipping...\n"
          ]
        },
        {
          "output_type": "stream",
          "name": "stderr",
          "text": [
            "\r 18%|█▊        | 221/1218 [20:06<1:20:56,  4.87s/it]"
          ]
        },
        {
          "output_type": "stream",
          "name": "stdout",
          "text": [
            "Attempt 1 failed. Retrying...\n",
            "Attempt 2 failed. Retrying...\n"
          ]
        },
        {
          "output_type": "stream",
          "name": "stderr",
          "text": [
            "\r 18%|█▊        | 222/1218 [20:19<1:58:10,  7.12s/it]"
          ]
        },
        {
          "output_type": "stream",
          "name": "stdout",
          "text": [
            "Attempt 3 failed. Retrying...\n",
            "Maximum attempts reached for index 221. Skipping...\n"
          ]
        },
        {
          "output_type": "stream",
          "name": "stderr",
          "text": [
            " 19%|█▊        | 227/1218 [20:41<1:22:22,  4.99s/it]"
          ]
        },
        {
          "output_type": "stream",
          "name": "stdout",
          "text": [
            "Attempt 1 failed. Retrying...\n",
            "Attempt 2 failed. Retrying...\n"
          ]
        },
        {
          "output_type": "stream",
          "name": "stderr",
          "text": [
            "\r 19%|█▊        | 228/1218 [20:53<1:55:21,  6.99s/it]"
          ]
        },
        {
          "output_type": "stream",
          "name": "stdout",
          "text": [
            "Attempt 3 failed. Retrying...\n",
            "Maximum attempts reached for index 227. Skipping...\n"
          ]
        },
        {
          "output_type": "stream",
          "name": "stderr",
          "text": [
            " 19%|█▉        | 231/1218 [21:05<1:23:28,  5.07s/it]"
          ]
        },
        {
          "output_type": "stream",
          "name": "stdout",
          "text": [
            "Attempt 1 failed. Retrying...\n",
            "Attempt 2 failed. Retrying...\n"
          ]
        },
        {
          "output_type": "stream",
          "name": "stderr",
          "text": [
            "\r 19%|█▉        | 232/1218 [21:17<1:57:55,  7.18s/it]"
          ]
        },
        {
          "output_type": "stream",
          "name": "stdout",
          "text": [
            "Attempt 3 failed. Retrying...\n",
            "Maximum attempts reached for index 231. Skipping...\n",
            "Attempt 1 failed. Retrying...\n",
            "Attempt 2 failed. Retrying...\n"
          ]
        },
        {
          "output_type": "stream",
          "name": "stderr",
          "text": [
            "\r 19%|█▉        | 233/1218 [21:29<2:23:28,  8.74s/it]"
          ]
        },
        {
          "output_type": "stream",
          "name": "stdout",
          "text": [
            "Attempt 3 failed. Retrying...\n",
            "Maximum attempts reached for index 232. Skipping...\n"
          ]
        },
        {
          "output_type": "stream",
          "name": "stderr",
          "text": [
            " 19%|█▉        | 235/1218 [21:38<1:47:24,  6.56s/it]"
          ]
        },
        {
          "output_type": "stream",
          "name": "stdout",
          "text": [
            "Attempt 1 failed. Retrying...\n",
            "Attempt 2 failed. Retrying...\n"
          ]
        },
        {
          "output_type": "stream",
          "name": "stderr",
          "text": [
            "\r 19%|█▉        | 236/1218 [21:51<2:15:47,  8.30s/it]"
          ]
        },
        {
          "output_type": "stream",
          "name": "stdout",
          "text": [
            "Attempt 3 failed. Retrying...\n",
            "Maximum attempts reached for index 235. Skipping...\n"
          ]
        },
        {
          "output_type": "stream",
          "name": "stderr",
          "text": [
            " 20%|█▉        | 239/1218 [22:04<1:36:05,  5.89s/it]"
          ]
        },
        {
          "output_type": "stream",
          "name": "stdout",
          "text": [
            "Attempt 1 failed. Retrying...\n",
            "Attempt 2 failed. Retrying...\n"
          ]
        },
        {
          "output_type": "stream",
          "name": "stderr",
          "text": [
            "\r 20%|█▉        | 240/1218 [22:18<2:14:52,  8.27s/it]"
          ]
        },
        {
          "output_type": "stream",
          "name": "stdout",
          "text": [
            "Attempt 3 failed. Retrying...\n",
            "Maximum attempts reached for index 239. Skipping...\n"
          ]
        },
        {
          "output_type": "stream",
          "name": "stderr",
          "text": [
            " 20%|█▉        | 243/1218 [22:31<1:29:48,  5.53s/it]"
          ]
        },
        {
          "output_type": "stream",
          "name": "stdout",
          "text": [
            "Attempt 1 failed. Retrying...\n",
            "Attempt 2 failed. Retrying...\n"
          ]
        },
        {
          "output_type": "stream",
          "name": "stderr",
          "text": [
            "\r 20%|██        | 244/1218 [22:42<1:58:31,  7.30s/it]"
          ]
        },
        {
          "output_type": "stream",
          "name": "stdout",
          "text": [
            "Attempt 3 failed. Retrying...\n",
            "Maximum attempts reached for index 243. Skipping...\n"
          ]
        },
        {
          "output_type": "stream",
          "name": "stderr",
          "text": [
            " 20%|██        | 246/1218 [22:51<1:36:00,  5.93s/it]"
          ]
        },
        {
          "output_type": "stream",
          "name": "stdout",
          "text": [
            "Attempt 1 failed. Retrying...\n",
            "Attempt 2 failed. Retrying...\n"
          ]
        },
        {
          "output_type": "stream",
          "name": "stderr",
          "text": [
            "\r 20%|██        | 247/1218 [22:55<1:24:16,  5.21s/it]"
          ]
        },
        {
          "output_type": "stream",
          "name": "stdout",
          "text": [
            "Attempt 3 failed. Retrying...\n",
            "Maximum attempts reached for index 246. Skipping...\n"
          ]
        },
        {
          "output_type": "stream",
          "name": "stderr",
          "text": [
            " 20%|██        | 249/1218 [23:03<1:16:50,  4.76s/it]"
          ]
        },
        {
          "output_type": "stream",
          "name": "stdout",
          "text": [
            "Attempt 1 failed. Retrying...\n",
            "Attempt 2 failed. Retrying...\n"
          ]
        },
        {
          "output_type": "stream",
          "name": "stderr",
          "text": [
            "\r 21%|██        | 250/1218 [23:08<1:13:19,  4.55s/it]"
          ]
        },
        {
          "output_type": "stream",
          "name": "stdout",
          "text": [
            "Attempt 3 failed. Retrying...\n",
            "Maximum attempts reached for index 249. Skipping...\n"
          ]
        },
        {
          "output_type": "stream",
          "name": "stderr",
          "text": [
            "\r 21%|██        | 251/1218 [23:12<1:11:46,  4.45s/it]"
          ]
        },
        {
          "output_type": "stream",
          "name": "stdout",
          "text": [
            "Attempt 1 failed. Retrying...\n",
            "Attempt 2 failed. Retrying...\n"
          ]
        },
        {
          "output_type": "stream",
          "name": "stderr",
          "text": [
            "\r 21%|██        | 252/1218 [23:23<1:46:36,  6.62s/it]"
          ]
        },
        {
          "output_type": "stream",
          "name": "stdout",
          "text": [
            "Attempt 3 failed. Retrying...\n",
            "Maximum attempts reached for index 251. Skipping...\n"
          ]
        },
        {
          "output_type": "stream",
          "name": "stderr",
          "text": [
            " 21%|██        | 255/1218 [23:36<1:21:20,  5.07s/it]"
          ]
        },
        {
          "output_type": "stream",
          "name": "stdout",
          "text": [
            "Attempt 1 failed. Retrying...\n",
            "Attempt 2 failed. Retrying...\n"
          ]
        },
        {
          "output_type": "stream",
          "name": "stderr",
          "text": [
            "\r 21%|██        | 256/1218 [23:49<1:56:09,  7.24s/it]"
          ]
        },
        {
          "output_type": "stream",
          "name": "stdout",
          "text": [
            "Attempt 3 failed. Retrying...\n",
            "Maximum attempts reached for index 255. Skipping...\n"
          ]
        },
        {
          "output_type": "stream",
          "name": "stderr",
          "text": [
            "\r 21%|██        | 257/1218 [23:53<1:41:56,  6.36s/it]"
          ]
        },
        {
          "output_type": "stream",
          "name": "stdout",
          "text": [
            "Attempt 1 failed. Retrying...\n",
            "Attempt 2 failed. Retrying...\n"
          ]
        },
        {
          "output_type": "stream",
          "name": "stderr",
          "text": [
            "\r 21%|██        | 258/1218 [24:05<2:06:55,  7.93s/it]"
          ]
        },
        {
          "output_type": "stream",
          "name": "stdout",
          "text": [
            "Attempt 3 failed. Retrying...\n",
            "Maximum attempts reached for index 257. Skipping...\n"
          ]
        },
        {
          "output_type": "stream",
          "name": "stderr",
          "text": [
            " 23%|██▎       | 275/1218 [25:20<1:08:25,  4.35s/it]"
          ]
        },
        {
          "output_type": "stream",
          "name": "stdout",
          "text": [
            "Attempt 1 failed. Retrying...\n",
            "Attempt 2 failed. Retrying...\n"
          ]
        },
        {
          "output_type": "stream",
          "name": "stderr",
          "text": [
            "\r 23%|██▎       | 276/1218 [25:34<1:54:22,  7.28s/it]"
          ]
        },
        {
          "output_type": "stream",
          "name": "stdout",
          "text": [
            "Attempt 3 failed. Retrying...\n",
            "Maximum attempts reached for index 275. Skipping...\n"
          ]
        },
        {
          "output_type": "stream",
          "name": "stderr",
          "text": [
            "\r 23%|██▎       | 277/1218 [25:39<1:41:05,  6.45s/it]"
          ]
        },
        {
          "output_type": "stream",
          "name": "stdout",
          "text": [
            "Attempt 1 failed. Retrying...\n",
            "Attempt 2 failed. Retrying...\n"
          ]
        },
        {
          "output_type": "stream",
          "name": "stderr",
          "text": [
            "\r 23%|██▎       | 278/1218 [25:51<2:08:27,  8.20s/it]"
          ]
        },
        {
          "output_type": "stream",
          "name": "stdout",
          "text": [
            "Attempt 3 failed. Retrying...\n",
            "Maximum attempts reached for index 277. Skipping...\n"
          ]
        },
        {
          "output_type": "stream",
          "name": "stderr",
          "text": [
            " 23%|██▎       | 280/1218 [26:00<1:37:00,  6.21s/it]"
          ]
        },
        {
          "output_type": "stream",
          "name": "stdout",
          "text": [
            "Attempt 1 failed. Retrying...\n",
            "Attempt 2 failed. Retrying...\n"
          ]
        },
        {
          "output_type": "stream",
          "name": "stderr",
          "text": [
            "\r 23%|██▎       | 281/1218 [26:12<2:04:08,  7.95s/it]"
          ]
        },
        {
          "output_type": "stream",
          "name": "stdout",
          "text": [
            "Attempt 3 failed. Retrying...\n",
            "Maximum attempts reached for index 280. Skipping...\n"
          ]
        },
        {
          "output_type": "stream",
          "name": "stderr",
          "text": [
            "\r 23%|██▎       | 282/1218 [26:16<1:46:20,  6.82s/it]"
          ]
        },
        {
          "output_type": "stream",
          "name": "stdout",
          "text": [
            "Attempt 1 failed. Retrying...\n",
            "Attempt 2 failed. Retrying...\n"
          ]
        },
        {
          "output_type": "stream",
          "name": "stderr",
          "text": [
            "\r 23%|██▎       | 283/1218 [26:29<2:17:24,  8.82s/it]"
          ]
        },
        {
          "output_type": "stream",
          "name": "stdout",
          "text": [
            "Attempt 3 failed. Retrying...\n",
            "Maximum attempts reached for index 282. Skipping...\n",
            "Attempt 1 failed. Retrying...\n",
            "Attempt 2 failed. Retrying...\n"
          ]
        },
        {
          "output_type": "stream",
          "name": "stderr",
          "text": [
            "\r 23%|██▎       | 284/1218 [26:41<2:32:08,  9.77s/it]"
          ]
        },
        {
          "output_type": "stream",
          "name": "stdout",
          "text": [
            "Attempt 3 failed. Retrying...\n",
            "Maximum attempts reached for index 283. Skipping...\n"
          ]
        },
        {
          "output_type": "stream",
          "name": "stderr",
          "text": [
            " 24%|██▎       | 287/1218 [26:55<1:37:15,  6.27s/it]"
          ]
        },
        {
          "output_type": "stream",
          "name": "stdout",
          "text": [
            "Attempt 1 failed. Retrying...\n",
            "Attempt 2 failed. Retrying...\n"
          ]
        },
        {
          "output_type": "stream",
          "name": "stderr",
          "text": [
            "\r 24%|██▎       | 288/1218 [27:06<2:02:39,  7.91s/it]"
          ]
        },
        {
          "output_type": "stream",
          "name": "stdout",
          "text": [
            "Attempt 3 failed. Retrying...\n",
            "Maximum attempts reached for index 287. Skipping...\n"
          ]
        },
        {
          "output_type": "stream",
          "name": "stderr",
          "text": [
            " 24%|██▍       | 291/1218 [27:19<1:25:38,  5.54s/it]"
          ]
        },
        {
          "output_type": "stream",
          "name": "stdout",
          "text": [
            "Attempt 1 failed. Retrying...\n",
            "Attempt 2 failed. Retrying...\n"
          ]
        },
        {
          "output_type": "stream",
          "name": "stderr",
          "text": [
            "\r 24%|██▍       | 292/1218 [27:31<1:54:10,  7.40s/it]"
          ]
        },
        {
          "output_type": "stream",
          "name": "stdout",
          "text": [
            "Attempt 3 failed. Retrying...\n",
            "Maximum attempts reached for index 291. Skipping...\n"
          ]
        },
        {
          "output_type": "stream",
          "name": "stderr",
          "text": [
            " 24%|██▍       | 295/1218 [27:44<1:21:22,  5.29s/it]"
          ]
        },
        {
          "output_type": "stream",
          "name": "stdout",
          "text": [
            "Attempt 1 failed. Retrying...\n",
            "Attempt 2 failed. Retrying...\n"
          ]
        },
        {
          "output_type": "stream",
          "name": "stderr",
          "text": [
            "\r 24%|██▍       | 296/1218 [27:56<1:55:06,  7.49s/it]"
          ]
        },
        {
          "output_type": "stream",
          "name": "stdout",
          "text": [
            "Attempt 3 failed. Retrying...\n",
            "Maximum attempts reached for index 295. Skipping...\n"
          ]
        },
        {
          "output_type": "stream",
          "name": "stderr",
          "text": [
            " 25%|██▍       | 301/1218 [28:18<1:15:43,  4.95s/it]"
          ]
        },
        {
          "output_type": "stream",
          "name": "stdout",
          "text": [
            "Attempt 1 failed. Retrying...\n",
            "Attempt 2 failed. Retrying...\n"
          ]
        },
        {
          "output_type": "stream",
          "name": "stderr",
          "text": [
            "\r 25%|██▍       | 302/1218 [28:31<1:50:40,  7.25s/it]"
          ]
        },
        {
          "output_type": "stream",
          "name": "stdout",
          "text": [
            "Attempt 3 failed. Retrying...\n",
            "Maximum attempts reached for index 301. Skipping...\n"
          ]
        },
        {
          "output_type": "stream",
          "name": "stderr",
          "text": [
            " 25%|██▌       | 308/1218 [28:58<1:14:38,  4.92s/it]"
          ]
        },
        {
          "output_type": "stream",
          "name": "stdout",
          "text": [
            "Attempt 1 failed. Retrying...\n",
            "Attempt 2 failed. Retrying...\n"
          ]
        },
        {
          "output_type": "stream",
          "name": "stderr",
          "text": [
            "\r 25%|██▌       | 309/1218 [29:03<1:11:44,  4.74s/it]"
          ]
        },
        {
          "output_type": "stream",
          "name": "stdout",
          "text": [
            "Attempt 3 failed. Retrying...\n",
            "Maximum attempts reached for index 308. Skipping...\n"
          ]
        },
        {
          "output_type": "stream",
          "name": "stderr",
          "text": [
            " 26%|██▌       | 312/1218 [29:16<1:07:23,  4.46s/it]"
          ]
        },
        {
          "output_type": "stream",
          "name": "stdout",
          "text": [
            "Attempt 1 failed. Retrying...\n",
            "Attempt 2 failed. Retrying...\n"
          ]
        },
        {
          "output_type": "stream",
          "name": "stderr",
          "text": [
            "\r 26%|██▌       | 313/1218 [29:29<1:44:53,  6.95s/it]"
          ]
        },
        {
          "output_type": "stream",
          "name": "stdout",
          "text": [
            "Attempt 3 failed. Retrying...\n",
            "Maximum attempts reached for index 312. Skipping...\n"
          ]
        },
        {
          "output_type": "stream",
          "name": "stderr",
          "text": [
            " 26%|██▌       | 317/1218 [29:45<1:11:36,  4.77s/it]"
          ]
        },
        {
          "output_type": "stream",
          "name": "stdout",
          "text": [
            "Attempt 1 failed. Retrying...\n",
            "Attempt 2 failed. Retrying...\n"
          ]
        },
        {
          "output_type": "stream",
          "name": "stderr",
          "text": [
            "\r 26%|██▌       | 318/1218 [29:57<1:43:22,  6.89s/it]"
          ]
        },
        {
          "output_type": "stream",
          "name": "stdout",
          "text": [
            "Attempt 3 failed. Retrying...\n",
            "Maximum attempts reached for index 317. Skipping...\n"
          ]
        },
        {
          "output_type": "stream",
          "name": "stderr",
          "text": [
            "\r 26%|██▌       | 319/1218 [30:01<1:32:06,  6.15s/it]"
          ]
        },
        {
          "output_type": "stream",
          "name": "stdout",
          "text": [
            "Attempt 1 failed. Retrying...\n",
            "Attempt 2 failed. Retrying...\n"
          ]
        },
        {
          "output_type": "stream",
          "name": "stderr",
          "text": [
            "\r 26%|██▋       | 320/1218 [30:13<1:56:36,  7.79s/it]"
          ]
        },
        {
          "output_type": "stream",
          "name": "stdout",
          "text": [
            "Attempt 3 failed. Retrying...\n",
            "Maximum attempts reached for index 319. Skipping...\n"
          ]
        },
        {
          "output_type": "stream",
          "name": "stderr",
          "text": [
            " 27%|██▋       | 323/1218 [30:27<1:25:47,  5.75s/it]"
          ]
        },
        {
          "output_type": "stream",
          "name": "stdout",
          "text": [
            "Attempt 1 failed. Retrying...\n",
            "Attempt 2 failed. Retrying...\n"
          ]
        },
        {
          "output_type": "stream",
          "name": "stderr",
          "text": [
            "\r 27%|██▋       | 324/1218 [30:38<1:50:53,  7.44s/it]"
          ]
        },
        {
          "output_type": "stream",
          "name": "stdout",
          "text": [
            "Attempt 3 failed. Retrying...\n",
            "Maximum attempts reached for index 323. Skipping...\n"
          ]
        },
        {
          "output_type": "stream",
          "name": "stderr",
          "text": [
            " 27%|██▋       | 328/1218 [30:55<1:12:38,  4.90s/it]"
          ]
        },
        {
          "output_type": "stream",
          "name": "stdout",
          "text": [
            "Attempt 1 failed. Retrying...\n",
            "Attempt 2 failed. Retrying...\n"
          ]
        },
        {
          "output_type": "stream",
          "name": "stderr",
          "text": [
            "\r 27%|██▋       | 329/1218 [31:08<1:47:41,  7.27s/it]"
          ]
        },
        {
          "output_type": "stream",
          "name": "stdout",
          "text": [
            "Attempt 3 failed. Retrying...\n",
            "Maximum attempts reached for index 328. Skipping...\n",
            "Attempt 1 failed. Retrying...\n",
            "Attempt 2 failed. Retrying...\n"
          ]
        },
        {
          "output_type": "stream",
          "name": "stderr",
          "text": [
            "\r 27%|██▋       | 330/1218 [31:20<2:11:38,  8.89s/it]"
          ]
        },
        {
          "output_type": "stream",
          "name": "stdout",
          "text": [
            "Attempt 3 failed. Retrying...\n",
            "Maximum attempts reached for index 329. Skipping...\n"
          ]
        },
        {
          "output_type": "stream",
          "name": "stderr",
          "text": [
            " 27%|██▋       | 332/1218 [31:29<1:38:39,  6.68s/it]"
          ]
        },
        {
          "output_type": "stream",
          "name": "stdout",
          "text": [
            "Attempt 1 failed. Retrying...\n",
            "Attempt 2 failed. Retrying...\n"
          ]
        },
        {
          "output_type": "stream",
          "name": "stderr",
          "text": [
            "\r 27%|██▋       | 333/1218 [31:43<2:07:49,  8.67s/it]"
          ]
        },
        {
          "output_type": "stream",
          "name": "stdout",
          "text": [
            "Attempt 3 failed. Retrying...\n",
            "Maximum attempts reached for index 332. Skipping...\n",
            "Attempt 1 failed. Retrying...\n",
            "Attempt 2 failed. Retrying...\n"
          ]
        },
        {
          "output_type": "stream",
          "name": "stderr",
          "text": [
            "\r 27%|██▋       | 334/1218 [31:55<2:25:13,  9.86s/it]"
          ]
        },
        {
          "output_type": "stream",
          "name": "stdout",
          "text": [
            "Attempt 3 failed. Retrying...\n",
            "Maximum attempts reached for index 333. Skipping...\n"
          ]
        },
        {
          "output_type": "stream",
          "name": "stderr",
          "text": [
            " 28%|██▊       | 338/1218 [32:13<1:23:28,  5.69s/it]"
          ]
        },
        {
          "output_type": "stream",
          "name": "stdout",
          "text": [
            "Attempt 1 failed. Retrying...\n",
            "Attempt 2 failed. Retrying...\n"
          ]
        },
        {
          "output_type": "stream",
          "name": "stderr",
          "text": [
            "\r 28%|██▊       | 339/1218 [32:25<1:49:33,  7.48s/it]"
          ]
        },
        {
          "output_type": "stream",
          "name": "stdout",
          "text": [
            "Attempt 3 failed. Retrying...\n",
            "Maximum attempts reached for index 338. Skipping...\n"
          ]
        },
        {
          "output_type": "stream",
          "name": "stderr",
          "text": [
            " 28%|██▊       | 341/1218 [32:33<1:26:20,  5.91s/it]"
          ]
        },
        {
          "output_type": "stream",
          "name": "stdout",
          "text": [
            "Attempt 1 failed. Retrying...\n",
            "Attempt 2 failed. Retrying...\n"
          ]
        },
        {
          "output_type": "stream",
          "name": "stderr",
          "text": [
            "\r 28%|██▊       | 342/1218 [32:47<1:59:12,  8.17s/it]"
          ]
        },
        {
          "output_type": "stream",
          "name": "stdout",
          "text": [
            "Attempt 3 failed. Retrying...\n",
            "Maximum attempts reached for index 341. Skipping...\n"
          ]
        },
        {
          "output_type": "stream",
          "name": "stderr",
          "text": [
            " 28%|██▊       | 345/1218 [33:00<1:22:26,  5.67s/it]"
          ]
        },
        {
          "output_type": "stream",
          "name": "stdout",
          "text": [
            "Attempt 1 failed. Retrying...\n",
            "Attempt 2 failed. Retrying...\n"
          ]
        },
        {
          "output_type": "stream",
          "name": "stderr",
          "text": [
            "\r 28%|██▊       | 346/1218 [33:12<1:52:15,  7.72s/it]"
          ]
        },
        {
          "output_type": "stream",
          "name": "stdout",
          "text": [
            "Attempt 3 failed. Retrying...\n",
            "Maximum attempts reached for index 345. Skipping...\n",
            "Attempt 1 failed. Retrying...\n",
            "Attempt 2 failed. Retrying...\n"
          ]
        },
        {
          "output_type": "stream",
          "name": "stderr",
          "text": [
            "\r 28%|██▊       | 347/1218 [33:24<2:07:24,  8.78s/it]"
          ]
        },
        {
          "output_type": "stream",
          "name": "stdout",
          "text": [
            "Attempt 3 failed. Retrying...\n",
            "Maximum attempts reached for index 346. Skipping...\n"
          ]
        },
        {
          "output_type": "stream",
          "name": "stderr",
          "text": [
            " 29%|██▊       | 349/1218 [33:33<1:36:09,  6.64s/it]"
          ]
        },
        {
          "output_type": "stream",
          "name": "stdout",
          "text": [
            "Attempt 1 failed. Retrying...\n",
            "Attempt 2 failed. Retrying...\n"
          ]
        },
        {
          "output_type": "stream",
          "name": "stderr",
          "text": [
            "\r 29%|██▊       | 350/1218 [33:37<1:25:15,  5.89s/it]"
          ]
        },
        {
          "output_type": "stream",
          "name": "stdout",
          "text": [
            "Attempt 3 failed. Retrying...\n",
            "Maximum attempts reached for index 349. Skipping...\n"
          ]
        },
        {
          "output_type": "stream",
          "name": "stderr",
          "text": [
            " 29%|██▉       | 357/1218 [34:07<1:03:53,  4.45s/it]"
          ]
        },
        {
          "output_type": "stream",
          "name": "stdout",
          "text": [
            "Attempt 1 failed. Retrying...\n",
            "Attempt 2 failed. Retrying...\n"
          ]
        },
        {
          "output_type": "stream",
          "name": "stderr",
          "text": [
            "\r 29%|██▉       | 358/1218 [34:19<1:35:12,  6.64s/it]"
          ]
        },
        {
          "output_type": "stream",
          "name": "stdout",
          "text": [
            "Attempt 3 failed. Retrying...\n",
            "Maximum attempts reached for index 357. Skipping...\n"
          ]
        },
        {
          "output_type": "stream",
          "name": "stderr",
          "text": [
            "\r 29%|██▉       | 359/1218 [34:24<1:26:05,  6.01s/it]"
          ]
        },
        {
          "output_type": "stream",
          "name": "stdout",
          "text": [
            "Attempt 1 failed. Retrying...\n",
            "Attempt 2 failed. Retrying...\n"
          ]
        },
        {
          "output_type": "stream",
          "name": "stderr",
          "text": [
            "\r 30%|██▉       | 360/1218 [34:35<1:50:44,  7.74s/it]"
          ]
        },
        {
          "output_type": "stream",
          "name": "stdout",
          "text": [
            "Attempt 3 failed. Retrying...\n",
            "Maximum attempts reached for index 359. Skipping...\n"
          ]
        },
        {
          "output_type": "stream",
          "name": "stderr",
          "text": [
            "\r 30%|██▉       | 361/1218 [34:40<1:37:36,  6.83s/it]"
          ]
        },
        {
          "output_type": "stream",
          "name": "stdout",
          "text": [
            "Attempt 1 failed. Retrying...\n",
            "Attempt 2 failed. Retrying...\n"
          ]
        },
        {
          "output_type": "stream",
          "name": "stderr",
          "text": [
            "\r 30%|██▉       | 362/1218 [34:44<1:23:13,  5.83s/it]"
          ]
        },
        {
          "output_type": "stream",
          "name": "stdout",
          "text": [
            "Attempt 3 failed. Retrying...\n",
            "Maximum attempts reached for index 361. Skipping...\n"
          ]
        },
        {
          "output_type": "stream",
          "name": "stderr",
          "text": [
            " 31%|███       | 377/1218 [35:49<1:01:22,  4.38s/it]"
          ]
        },
        {
          "output_type": "stream",
          "name": "stdout",
          "text": [
            "Attempt 1 failed. Retrying...\n",
            "Attempt 2 failed. Retrying...\n"
          ]
        },
        {
          "output_type": "stream",
          "name": "stderr",
          "text": [
            "\r 31%|███       | 378/1218 [35:54<1:02:55,  4.49s/it]"
          ]
        },
        {
          "output_type": "stream",
          "name": "stdout",
          "text": [
            "Attempt 3 failed. Retrying...\n",
            "Maximum attempts reached for index 377. Skipping...\n"
          ]
        },
        {
          "output_type": "stream",
          "name": "stderr",
          "text": [
            " 32%|███▏      | 387/1218 [36:35<1:02:39,  4.52s/it]"
          ]
        },
        {
          "output_type": "stream",
          "name": "stdout",
          "text": [
            "Attempt 1 failed. Retrying...\n",
            "Attempt 2 failed. Retrying...\n"
          ]
        },
        {
          "output_type": "stream",
          "name": "stderr",
          "text": [
            "\r 32%|███▏      | 388/1218 [36:38<58:24,  4.22s/it]  "
          ]
        },
        {
          "output_type": "stream",
          "name": "stdout",
          "text": [
            "Attempt 3 failed. Retrying...\n",
            "Maximum attempts reached for index 387. Skipping...\n"
          ]
        },
        {
          "output_type": "stream",
          "name": "stderr",
          "text": [
            " 32%|███▏      | 391/1218 [36:51<1:00:20,  4.38s/it]"
          ]
        },
        {
          "output_type": "stream",
          "name": "stdout",
          "text": [
            "Attempt 1 failed. Retrying...\n",
            "Attempt 2 failed. Retrying...\n"
          ]
        },
        {
          "output_type": "stream",
          "name": "stderr",
          "text": [
            "\r 32%|███▏      | 392/1218 [37:03<1:30:41,  6.59s/it]"
          ]
        },
        {
          "output_type": "stream",
          "name": "stdout",
          "text": [
            "Attempt 3 failed. Retrying...\n",
            "Maximum attempts reached for index 391. Skipping...\n"
          ]
        },
        {
          "output_type": "stream",
          "name": "stderr",
          "text": [
            " 33%|███▎      | 408/1218 [38:12<58:21,  4.32s/it]"
          ]
        },
        {
          "output_type": "stream",
          "name": "stdout",
          "text": [
            "Attempt 1 failed. Retrying...\n",
            "Attempt 2 failed. Retrying...\n"
          ]
        },
        {
          "output_type": "stream",
          "name": "stderr",
          "text": [
            "\r 34%|███▎      | 409/1218 [38:25<1:33:49,  6.96s/it]"
          ]
        },
        {
          "output_type": "stream",
          "name": "stdout",
          "text": [
            "Attempt 3 failed. Retrying...\n",
            "Maximum attempts reached for index 408. Skipping...\n"
          ]
        },
        {
          "output_type": "stream",
          "name": "stderr",
          "text": [
            " 34%|███▍      | 416/1218 [38:55<1:00:24,  4.52s/it]"
          ]
        },
        {
          "output_type": "stream",
          "name": "stdout",
          "text": [
            "Attempt 1 failed. Retrying...\n",
            "Attempt 2 failed. Retrying...\n"
          ]
        },
        {
          "output_type": "stream",
          "name": "stderr",
          "text": [
            "\r 34%|███▍      | 417/1218 [39:09<1:38:13,  7.36s/it]"
          ]
        },
        {
          "output_type": "stream",
          "name": "stdout",
          "text": [
            "Attempt 3 failed. Retrying...\n",
            "Maximum attempts reached for index 416. Skipping...\n"
          ]
        },
        {
          "output_type": "stream",
          "name": "stderr",
          "text": [
            " 34%|███▍      | 419/1218 [39:18<1:16:50,  5.77s/it]"
          ]
        },
        {
          "output_type": "stream",
          "name": "stdout",
          "text": [
            "Attempt 1 failed. Retrying...\n",
            "Attempt 2 failed. Retrying...\n"
          ]
        },
        {
          "output_type": "stream",
          "name": "stderr",
          "text": [
            "\r 34%|███▍      | 420/1218 [39:21<1:08:22,  5.14s/it]"
          ]
        },
        {
          "output_type": "stream",
          "name": "stdout",
          "text": [
            "Attempt 3 failed. Retrying...\n",
            "Maximum attempts reached for index 419. Skipping...\n",
            "Attempt 1 failed. Retrying...\n",
            "Attempt 2 failed. Retrying...\n"
          ]
        },
        {
          "output_type": "stream",
          "name": "stderr",
          "text": [
            "\r 35%|███▍      | 421/1218 [39:33<1:35:57,  7.22s/it]"
          ]
        },
        {
          "output_type": "stream",
          "name": "stdout",
          "text": [
            "Attempt 3 failed. Retrying...\n",
            "Maximum attempts reached for index 420. Skipping...\n"
          ]
        },
        {
          "output_type": "stream",
          "name": "stderr",
          "text": [
            "\r 35%|███▍      | 422/1218 [39:37<1:23:09,  6.27s/it]"
          ]
        },
        {
          "output_type": "stream",
          "name": "stdout",
          "text": [
            "Attempt 1 failed. Retrying...\n"
          ]
        },
        {
          "output_type": "stream",
          "name": "stderr",
          "text": [
            " 35%|███▌      | 427/1218 [40:03<1:04:30,  4.89s/it]"
          ]
        },
        {
          "output_type": "stream",
          "name": "stdout",
          "text": [
            "Attempt 1 failed. Retrying...\n",
            "Attempt 2 failed. Retrying...\n"
          ]
        },
        {
          "output_type": "stream",
          "name": "stderr",
          "text": [
            "\r 35%|███▌      | 428/1218 [40:15<1:32:25,  7.02s/it]"
          ]
        },
        {
          "output_type": "stream",
          "name": "stdout",
          "text": [
            "Attempt 3 failed. Retrying...\n",
            "Maximum attempts reached for index 427. Skipping...\n"
          ]
        },
        {
          "output_type": "stream",
          "name": "stderr",
          "text": [
            "\r 35%|███▌      | 429/1218 [40:19<1:20:48,  6.15s/it]"
          ]
        },
        {
          "output_type": "stream",
          "name": "stdout",
          "text": [
            "Attempt 1 failed. Retrying...\n",
            "Attempt 2 failed. Retrying...\n"
          ]
        },
        {
          "output_type": "stream",
          "name": "stderr",
          "text": [
            "\r 35%|███▌      | 430/1218 [40:32<1:45:41,  8.05s/it]"
          ]
        },
        {
          "output_type": "stream",
          "name": "stdout",
          "text": [
            "Attempt 3 failed. Retrying...\n",
            "Maximum attempts reached for index 429. Skipping...\n"
          ]
        },
        {
          "output_type": "stream",
          "name": "stderr",
          "text": [
            "\r 35%|███▌      | 431/1218 [40:37<1:32:51,  7.08s/it]"
          ]
        },
        {
          "output_type": "stream",
          "name": "stdout",
          "text": [
            "Attempt 1 failed. Retrying...\n",
            "Attempt 2 failed. Retrying...\n"
          ]
        },
        {
          "output_type": "stream",
          "name": "stderr",
          "text": [
            "\r 35%|███▌      | 432/1218 [40:48<1:51:27,  8.51s/it]"
          ]
        },
        {
          "output_type": "stream",
          "name": "stdout",
          "text": [
            "Attempt 3 failed. Retrying...\n",
            "Maximum attempts reached for index 431. Skipping...\n"
          ]
        },
        {
          "output_type": "stream",
          "name": "stderr",
          "text": [
            " 36%|███▋      | 442/1218 [41:30<57:16,  4.43s/it]"
          ]
        },
        {
          "output_type": "stream",
          "name": "stdout",
          "text": [
            "Attempt 1 failed. Retrying...\n",
            "Attempt 2 failed. Retrying...\n"
          ]
        },
        {
          "output_type": "stream",
          "name": "stderr",
          "text": [
            "\r 36%|███▋      | 443/1218 [41:42<1:26:07,  6.67s/it]"
          ]
        },
        {
          "output_type": "stream",
          "name": "stdout",
          "text": [
            "Attempt 3 failed. Retrying...\n",
            "Maximum attempts reached for index 442. Skipping...\n"
          ]
        },
        {
          "output_type": "stream",
          "name": "stderr",
          "text": [
            " 37%|███▋      | 449/1218 [42:09<1:01:20,  4.79s/it]"
          ]
        },
        {
          "output_type": "stream",
          "name": "stdout",
          "text": [
            "Attempt 1 failed. Retrying...\n",
            "Attempt 2 failed. Retrying...\n"
          ]
        },
        {
          "output_type": "stream",
          "name": "stderr",
          "text": [
            "\r 37%|███▋      | 450/1218 [42:21<1:30:26,  7.07s/it]"
          ]
        },
        {
          "output_type": "stream",
          "name": "stdout",
          "text": [
            "Attempt 3 failed. Retrying...\n",
            "Maximum attempts reached for index 449. Skipping...\n"
          ]
        },
        {
          "output_type": "stream",
          "name": "stderr",
          "text": [
            "\r 37%|███▋      | 451/1218 [42:26<1:19:17,  6.20s/it]"
          ]
        },
        {
          "output_type": "stream",
          "name": "stdout",
          "text": [
            "Attempt 1 failed. Retrying...\n",
            "Attempt 2 failed. Retrying...\n"
          ]
        },
        {
          "output_type": "stream",
          "name": "stderr",
          "text": [
            "\r 37%|███▋      | 452/1218 [42:37<1:40:44,  7.89s/it]"
          ]
        },
        {
          "output_type": "stream",
          "name": "stdout",
          "text": [
            "Attempt 3 failed. Retrying...\n",
            "Maximum attempts reached for index 451. Skipping...\n"
          ]
        },
        {
          "output_type": "stream",
          "name": "stderr",
          "text": [
            " 39%|███▊      | 470/1218 [43:54<52:18,  4.20s/it]"
          ]
        },
        {
          "output_type": "stream",
          "name": "stdout",
          "text": [
            "Attempt 1 failed. Retrying...\n",
            "Attempt 2 failed. Retrying...\n"
          ]
        },
        {
          "output_type": "stream",
          "name": "stderr",
          "text": [
            "\r 39%|███▊      | 471/1218 [43:58<49:34,  3.98s/it]"
          ]
        },
        {
          "output_type": "stream",
          "name": "stdout",
          "text": [
            "Attempt 3 failed. Retrying...\n",
            "Maximum attempts reached for index 470. Skipping...\n",
            "Attempt 1 failed. Retrying...\n",
            "Attempt 2 failed. Retrying...\n"
          ]
        },
        {
          "output_type": "stream",
          "name": "stderr",
          "text": [
            "\r 39%|███▉      | 472/1218 [44:10<1:18:51,  6.34s/it]"
          ]
        },
        {
          "output_type": "stream",
          "name": "stdout",
          "text": [
            "Attempt 3 failed. Retrying...\n",
            "Maximum attempts reached for index 471. Skipping...\n"
          ]
        },
        {
          "output_type": "stream",
          "name": "stderr",
          "text": [
            " 39%|███▉      | 474/1218 [44:19<1:06:50,  5.39s/it]"
          ]
        },
        {
          "output_type": "stream",
          "name": "stdout",
          "text": [
            "Attempt 1 failed. Retrying...\n",
            "Attempt 2 failed. Retrying...\n"
          ]
        },
        {
          "output_type": "stream",
          "name": "stderr",
          "text": [
            "\r 39%|███▉      | 475/1218 [44:30<1:29:46,  7.25s/it]"
          ]
        },
        {
          "output_type": "stream",
          "name": "stdout",
          "text": [
            "Attempt 3 failed. Retrying...\n",
            "Maximum attempts reached for index 474. Skipping...\n",
            "Attempt 1 failed. Retrying...\n",
            "Attempt 2 failed. Retrying...\n"
          ]
        },
        {
          "output_type": "stream",
          "name": "stderr",
          "text": [
            "\r 39%|███▉      | 476/1218 [44:42<1:45:55,  8.57s/it]"
          ]
        },
        {
          "output_type": "stream",
          "name": "stdout",
          "text": [
            "Attempt 3 failed. Retrying...\n",
            "Maximum attempts reached for index 475. Skipping...\n"
          ]
        },
        {
          "output_type": "stream",
          "name": "stderr",
          "text": [
            " 40%|███▉      | 482/1218 [45:09<1:01:05,  4.98s/it]"
          ]
        },
        {
          "output_type": "stream",
          "name": "stdout",
          "text": [
            "Attempt 1 failed. Retrying...\n",
            "Attempt 2 failed. Retrying...\n"
          ]
        },
        {
          "output_type": "stream",
          "name": "stderr",
          "text": [
            "\r 40%|███▉      | 483/1218 [45:21<1:27:52,  7.17s/it]"
          ]
        },
        {
          "output_type": "stream",
          "name": "stdout",
          "text": [
            "Attempt 3 failed. Retrying...\n",
            "Maximum attempts reached for index 482. Skipping...\n"
          ]
        },
        {
          "output_type": "stream",
          "name": "stderr",
          "text": [
            " 40%|████      | 491/1218 [45:56<54:42,  4.52s/it]"
          ]
        },
        {
          "output_type": "stream",
          "name": "stdout",
          "text": [
            "Attempt 1 failed. Retrying...\n",
            "Attempt 2 failed. Retrying...\n"
          ]
        },
        {
          "output_type": "stream",
          "name": "stderr",
          "text": [
            "\r 40%|████      | 492/1218 [46:07<1:19:54,  6.60s/it]"
          ]
        },
        {
          "output_type": "stream",
          "name": "stdout",
          "text": [
            "Attempt 3 failed. Retrying...\n",
            "Maximum attempts reached for index 491. Skipping...\n"
          ]
        },
        {
          "output_type": "stream",
          "name": "stderr",
          "text": [
            " 41%|████      | 502/1218 [46:53<56:04,  4.70s/it]"
          ]
        },
        {
          "output_type": "stream",
          "name": "stdout",
          "text": [
            "Attempt 1 failed. Retrying...\n",
            "Attempt 2 failed. Retrying...\n"
          ]
        },
        {
          "output_type": "stream",
          "name": "stderr",
          "text": [
            "\r 41%|████▏     | 503/1218 [46:56<51:32,  4.32s/it]"
          ]
        },
        {
          "output_type": "stream",
          "name": "stdout",
          "text": [
            "Attempt 3 failed. Retrying...\n",
            "Maximum attempts reached for index 502. Skipping...\n",
            "Attempt 1 failed. Retrying...\n",
            "Attempt 2 failed. Retrying...\n"
          ]
        },
        {
          "output_type": "stream",
          "name": "stderr",
          "text": [
            "\r 41%|████▏     | 504/1218 [47:11<1:28:31,  7.44s/it]"
          ]
        },
        {
          "output_type": "stream",
          "name": "stdout",
          "text": [
            "Attempt 3 failed. Retrying...\n",
            "Maximum attempts reached for index 503. Skipping...\n"
          ]
        },
        {
          "output_type": "stream",
          "name": "stderr",
          "text": [
            " 42%|████▏     | 507/1218 [47:27<1:11:06,  6.00s/it]"
          ]
        },
        {
          "output_type": "stream",
          "name": "stdout",
          "text": [
            "Attempt 1 failed. Retrying...\n",
            "Attempt 2 failed. Retrying...\n"
          ]
        },
        {
          "output_type": "stream",
          "name": "stderr",
          "text": [
            "\r 42%|████▏     | 508/1218 [47:41<1:38:54,  8.36s/it]"
          ]
        },
        {
          "output_type": "stream",
          "name": "stdout",
          "text": [
            "Attempt 3 failed. Retrying...\n",
            "Maximum attempts reached for index 507. Skipping...\n"
          ]
        },
        {
          "output_type": "stream",
          "name": "stderr",
          "text": [
            " 42%|████▏     | 510/1218 [47:52<1:20:30,  6.82s/it]"
          ]
        },
        {
          "output_type": "stream",
          "name": "stdout",
          "text": [
            "Attempt 1 failed. Retrying...\n",
            "Attempt 2 failed. Retrying...\n"
          ]
        },
        {
          "output_type": "stream",
          "name": "stderr",
          "text": [
            "\r 42%|████▏     | 511/1218 [48:05<1:43:18,  8.77s/it]"
          ]
        },
        {
          "output_type": "stream",
          "name": "stdout",
          "text": [
            "Attempt 3 failed. Retrying...\n",
            "Maximum attempts reached for index 510. Skipping...\n"
          ]
        },
        {
          "output_type": "stream",
          "name": "stderr",
          "text": [
            " 43%|████▎     | 519/1218 [48:41<58:09,  4.99s/it]"
          ]
        },
        {
          "output_type": "stream",
          "name": "stdout",
          "text": [
            "Attempt 1 failed. Retrying...\n",
            "Attempt 2 failed. Retrying...\n"
          ]
        },
        {
          "output_type": "stream",
          "name": "stderr",
          "text": [
            "\r 43%|████▎     | 520/1218 [48:53<1:20:39,  6.93s/it]"
          ]
        },
        {
          "output_type": "stream",
          "name": "stdout",
          "text": [
            "Attempt 3 failed. Retrying...\n",
            "Maximum attempts reached for index 519. Skipping...\n"
          ]
        },
        {
          "output_type": "stream",
          "name": "stderr",
          "text": [
            " 43%|████▎     | 523/1218 [49:06<1:02:37,  5.41s/it]"
          ]
        },
        {
          "output_type": "stream",
          "name": "stdout",
          "text": [
            "Attempt 1 failed. Retrying...\n",
            "Attempt 2 failed. Retrying...\n"
          ]
        },
        {
          "output_type": "stream",
          "name": "stderr",
          "text": [
            "\r 43%|████▎     | 524/1218 [49:10<54:36,  4.72s/it]  "
          ]
        },
        {
          "output_type": "stream",
          "name": "stdout",
          "text": [
            "Attempt 3 failed. Retrying...\n",
            "Maximum attempts reached for index 523. Skipping...\n"
          ]
        },
        {
          "output_type": "stream",
          "name": "stderr",
          "text": [
            " 43%|████▎     | 526/1218 [49:19<53:38,  4.65s/it]"
          ]
        },
        {
          "output_type": "stream",
          "name": "stdout",
          "text": [
            "Attempt 1 failed. Retrying...\n",
            "Attempt 2 failed. Retrying...\n"
          ]
        },
        {
          "output_type": "stream",
          "name": "stderr",
          "text": [
            "\r 43%|████▎     | 527/1218 [49:31<1:20:33,  7.00s/it]"
          ]
        },
        {
          "output_type": "stream",
          "name": "stdout",
          "text": [
            "Attempt 3 failed. Retrying...\n",
            "Maximum attempts reached for index 526. Skipping...\n",
            "Attempt 1 failed. Retrying...\n",
            "Attempt 2 failed. Retrying...\n"
          ]
        },
        {
          "output_type": "stream",
          "name": "stderr",
          "text": [
            "\r 43%|████▎     | 528/1218 [49:43<1:37:21,  8.47s/it]"
          ]
        },
        {
          "output_type": "stream",
          "name": "stdout",
          "text": [
            "Attempt 3 failed. Retrying...\n",
            "Maximum attempts reached for index 527. Skipping...\n",
            "Attempt 1 failed. Retrying...\n",
            "Attempt 2 failed. Retrying...\n"
          ]
        },
        {
          "output_type": "stream",
          "name": "stderr",
          "text": [
            "\r 43%|████▎     | 529/1218 [49:55<1:50:16,  9.60s/it]"
          ]
        },
        {
          "output_type": "stream",
          "name": "stdout",
          "text": [
            "Attempt 3 failed. Retrying...\n",
            "Maximum attempts reached for index 528. Skipping...\n"
          ]
        },
        {
          "output_type": "stream",
          "name": "stderr",
          "text": [
            " 44%|████▎     | 531/1218 [50:04<1:18:33,  6.86s/it]"
          ]
        },
        {
          "output_type": "stream",
          "name": "stdout",
          "text": [
            "Attempt 1 failed. Retrying...\n",
            "Attempt 2 failed. Retrying...\n"
          ]
        },
        {
          "output_type": "stream",
          "name": "stderr",
          "text": [
            "\r 44%|████▎     | 532/1218 [50:07<1:06:13,  5.79s/it]"
          ]
        },
        {
          "output_type": "stream",
          "name": "stdout",
          "text": [
            "Attempt 3 failed. Retrying...\n",
            "Maximum attempts reached for index 531. Skipping...\n"
          ]
        },
        {
          "output_type": "stream",
          "name": "stderr",
          "text": [
            " 44%|████▍     | 537/1218 [50:29<52:13,  4.60s/it]"
          ]
        },
        {
          "output_type": "stream",
          "name": "stdout",
          "text": [
            "Attempt 1 failed. Retrying...\n",
            "Attempt 2 failed. Retrying...\n"
          ]
        },
        {
          "output_type": "stream",
          "name": "stderr",
          "text": [
            "\r 44%|████▍     | 538/1218 [50:32<46:55,  4.14s/it]"
          ]
        },
        {
          "output_type": "stream",
          "name": "stdout",
          "text": [
            "Attempt 3 failed. Retrying...\n",
            "Maximum attempts reached for index 537. Skipping...\n"
          ]
        },
        {
          "output_type": "stream",
          "name": "stderr",
          "text": [
            " 45%|████▌     | 549/1218 [51:21<50:53,  4.56s/it]"
          ]
        },
        {
          "output_type": "stream",
          "name": "stdout",
          "text": [
            "Attempt 1 failed. Retrying...\n",
            "Attempt 2 failed. Retrying...\n"
          ]
        },
        {
          "output_type": "stream",
          "name": "stderr",
          "text": [
            "\r 45%|████▌     | 550/1218 [51:25<48:12,  4.33s/it]"
          ]
        },
        {
          "output_type": "stream",
          "name": "stdout",
          "text": [
            "Attempt 3 failed. Retrying...\n",
            "Maximum attempts reached for index 549. Skipping...\n",
            "Attempt 1 failed. Retrying...\n",
            "Attempt 2 failed. Retrying...\n"
          ]
        },
        {
          "output_type": "stream",
          "name": "stderr",
          "text": [
            "\r 45%|████▌     | 551/1218 [51:37<1:14:36,  6.71s/it]"
          ]
        },
        {
          "output_type": "stream",
          "name": "stdout",
          "text": [
            "Attempt 3 failed. Retrying...\n",
            "Maximum attempts reached for index 550. Skipping...\n"
          ]
        },
        {
          "output_type": "stream",
          "name": "stderr",
          "text": [
            " 45%|████▌     | 553/1218 [51:46<1:02:44,  5.66s/it]"
          ]
        },
        {
          "output_type": "stream",
          "name": "stdout",
          "text": [
            "Attempt 1 failed. Retrying...\n",
            "Attempt 2 failed. Retrying...\n"
          ]
        },
        {
          "output_type": "stream",
          "name": "stderr",
          "text": [
            "\r 45%|████▌     | 554/1218 [51:58<1:21:12,  7.34s/it]"
          ]
        },
        {
          "output_type": "stream",
          "name": "stdout",
          "text": [
            "Attempt 3 failed. Retrying...\n",
            "Maximum attempts reached for index 553. Skipping...\n"
          ]
        },
        {
          "output_type": "stream",
          "name": "stderr",
          "text": [
            "\r 46%|████▌     | 555/1218 [52:02<1:09:49,  6.32s/it]"
          ]
        },
        {
          "output_type": "stream",
          "name": "stdout",
          "text": [
            "Attempt 1 failed. Retrying...\n",
            "Attempt 2 failed. Retrying...\n"
          ]
        },
        {
          "output_type": "stream",
          "name": "stderr",
          "text": [
            "\r 46%|████▌     | 556/1218 [52:05<1:01:11,  5.55s/it]"
          ]
        },
        {
          "output_type": "stream",
          "name": "stdout",
          "text": [
            "Attempt 3 failed. Retrying...\n",
            "Maximum attempts reached for index 555. Skipping...\n"
          ]
        },
        {
          "output_type": "stream",
          "name": "stderr",
          "text": [
            " 46%|████▌     | 563/1218 [52:34<46:45,  4.28s/it]"
          ]
        },
        {
          "output_type": "stream",
          "name": "stdout",
          "text": [
            "Attempt 1 failed. Retrying...\n",
            "Attempt 2 failed. Retrying...\n"
          ]
        },
        {
          "output_type": "stream",
          "name": "stderr",
          "text": [
            " 47%|████▋     | 568/1218 [53:05<54:53,  5.07s/it]"
          ]
        },
        {
          "output_type": "stream",
          "name": "stdout",
          "text": [
            "Attempt 1 failed. Retrying...\n",
            "Attempt 2 failed. Retrying...\n"
          ]
        },
        {
          "output_type": "stream",
          "name": "stderr",
          "text": [
            "\r 47%|████▋     | 569/1218 [53:17<1:17:12,  7.14s/it]"
          ]
        },
        {
          "output_type": "stream",
          "name": "stdout",
          "text": [
            "Attempt 3 failed. Retrying...\n",
            "Maximum attempts reached for index 568. Skipping...\n"
          ]
        },
        {
          "output_type": "stream",
          "name": "stderr",
          "text": [
            " 47%|████▋     | 571/1218 [53:26<1:00:16,  5.59s/it]"
          ]
        },
        {
          "output_type": "stream",
          "name": "stdout",
          "text": [
            "Attempt 1 failed. Retrying...\n",
            "Attempt 2 failed. Retrying...\n"
          ]
        },
        {
          "output_type": "stream",
          "name": "stderr",
          "text": [
            "\r 47%|████▋     | 572/1218 [53:29<54:30,  5.06s/it]  "
          ]
        },
        {
          "output_type": "stream",
          "name": "stdout",
          "text": [
            "Attempt 3 failed. Retrying...\n",
            "Maximum attempts reached for index 571. Skipping...\n"
          ]
        },
        {
          "output_type": "stream",
          "name": "stderr",
          "text": [
            " 47%|████▋     | 575/1218 [53:42<49:15,  4.60s/it]"
          ]
        },
        {
          "output_type": "stream",
          "name": "stdout",
          "text": [
            "Attempt 1 failed. Retrying...\n",
            "Attempt 2 failed. Retrying...\n"
          ]
        },
        {
          "output_type": "stream",
          "name": "stderr",
          "text": [
            "\r 47%|████▋     | 576/1218 [53:47<47:41,  4.46s/it]"
          ]
        },
        {
          "output_type": "stream",
          "name": "stdout",
          "text": [
            "Attempt 3 failed. Retrying...\n",
            "Maximum attempts reached for index 575. Skipping...\n",
            "Attempt 1 failed. Retrying...\n",
            "Attempt 2 failed. Retrying...\n"
          ]
        },
        {
          "output_type": "stream",
          "name": "stderr",
          "text": [
            "\r 47%|████▋     | 577/1218 [53:59<1:11:53,  6.73s/it]"
          ]
        },
        {
          "output_type": "stream",
          "name": "stdout",
          "text": [
            "Attempt 3 failed. Retrying...\n",
            "Maximum attempts reached for index 576. Skipping...\n"
          ]
        },
        {
          "output_type": "stream",
          "name": "stderr",
          "text": [
            " 48%|████▊     | 582/1218 [54:20<50:37,  4.78s/it]"
          ]
        },
        {
          "output_type": "stream",
          "name": "stdout",
          "text": [
            "Attempt 1 failed. Retrying...\n",
            "Attempt 2 failed. Retrying...\n"
          ]
        },
        {
          "output_type": "stream",
          "name": "stderr",
          "text": [
            "\r 48%|████▊     | 583/1218 [54:32<1:12:25,  6.84s/it]"
          ]
        },
        {
          "output_type": "stream",
          "name": "stdout",
          "text": [
            "Attempt 3 failed. Retrying...\n",
            "Maximum attempts reached for index 582. Skipping...\n"
          ]
        },
        {
          "output_type": "stream",
          "name": "stderr",
          "text": [
            " 49%|████▉     | 597/1218 [55:33<45:38,  4.41s/it]"
          ]
        },
        {
          "output_type": "stream",
          "name": "stdout",
          "text": [
            "Attempt 1 failed. Retrying...\n",
            "Attempt 2 failed. Retrying...\n"
          ]
        },
        {
          "output_type": "stream",
          "name": "stderr",
          "text": [
            "\r 49%|████▉     | 598/1218 [55:45<1:10:06,  6.78s/it]"
          ]
        },
        {
          "output_type": "stream",
          "name": "stdout",
          "text": [
            "Attempt 3 failed. Retrying...\n",
            "Maximum attempts reached for index 597. Skipping...\n"
          ]
        },
        {
          "output_type": "stream",
          "name": "stderr",
          "text": [
            " 49%|████▉     | 602/1218 [56:02<49:15,  4.80s/it]"
          ]
        },
        {
          "output_type": "stream",
          "name": "stdout",
          "text": [
            "Attempt 1 failed. Retrying...\n",
            "Attempt 2 failed. Retrying...\n"
          ]
        },
        {
          "output_type": "stream",
          "name": "stderr",
          "text": [
            "\r 50%|████▉     | 603/1218 [56:14<1:12:30,  7.07s/it]"
          ]
        },
        {
          "output_type": "stream",
          "name": "stdout",
          "text": [
            "Attempt 3 failed. Retrying...\n",
            "Maximum attempts reached for index 602. Skipping...\n"
          ]
        },
        {
          "output_type": "stream",
          "name": "stderr",
          "text": [
            " 50%|████▉     | 608/1218 [56:37<50:14,  4.94s/it]"
          ]
        },
        {
          "output_type": "stream",
          "name": "stdout",
          "text": [
            "Attempt 1 failed. Retrying...\n",
            "Attempt 2 failed. Retrying...\n"
          ]
        },
        {
          "output_type": "stream",
          "name": "stderr",
          "text": [
            "\r 50%|█████     | 609/1218 [56:41<46:37,  4.59s/it]"
          ]
        },
        {
          "output_type": "stream",
          "name": "stdout",
          "text": [
            "Attempt 3 failed. Retrying...\n",
            "Maximum attempts reached for index 608. Skipping...\n"
          ]
        },
        {
          "output_type": "stream",
          "name": "stderr",
          "text": [
            " 50%|█████     | 611/1218 [56:50<45:37,  4.51s/it]"
          ]
        },
        {
          "output_type": "stream",
          "name": "stdout",
          "text": [
            "Attempt 1 failed. Retrying...\n",
            "Attempt 2 failed. Retrying...\n"
          ]
        },
        {
          "output_type": "stream",
          "name": "stderr",
          "text": [
            "\r 50%|█████     | 612/1218 [56:54<45:37,  4.52s/it]"
          ]
        },
        {
          "output_type": "stream",
          "name": "stdout",
          "text": [
            "Attempt 3 failed. Retrying...\n",
            "Maximum attempts reached for index 611. Skipping...\n",
            "Attempt 1 failed. Retrying...\n",
            "Attempt 2 failed. Retrying...\n"
          ]
        },
        {
          "output_type": "stream",
          "name": "stderr",
          "text": [
            "\r 50%|█████     | 613/1218 [57:09<1:16:32,  7.59s/it]"
          ]
        },
        {
          "output_type": "stream",
          "name": "stdout",
          "text": [
            "Attempt 3 failed. Retrying...\n",
            "Maximum attempts reached for index 612. Skipping...\n"
          ]
        },
        {
          "output_type": "stream",
          "name": "stderr",
          "text": [
            "\r 50%|█████     | 614/1218 [57:13<1:06:24,  6.60s/it]"
          ]
        },
        {
          "output_type": "stream",
          "name": "stdout",
          "text": [
            "Attempt 1 failed. Retrying...\n",
            "Attempt 2 failed. Retrying...\n"
          ]
        },
        {
          "output_type": "stream",
          "name": "stderr",
          "text": [
            "\r 50%|█████     | 615/1218 [57:26<1:23:45,  8.33s/it]"
          ]
        },
        {
          "output_type": "stream",
          "name": "stdout",
          "text": [
            "Attempt 3 failed. Retrying...\n",
            "Maximum attempts reached for index 614. Skipping...\n"
          ]
        },
        {
          "output_type": "stream",
          "name": "stderr",
          "text": [
            "\r 51%|█████     | 616/1218 [57:30<1:11:55,  7.17s/it]"
          ]
        },
        {
          "output_type": "stream",
          "name": "stdout",
          "text": [
            "Attempt 1 failed. Retrying...\n",
            "Attempt 2 failed. Retrying...\n"
          ]
        },
        {
          "output_type": "stream",
          "name": "stderr",
          "text": [
            "\r 51%|█████     | 617/1218 [57:42<1:25:05,  8.49s/it]"
          ]
        },
        {
          "output_type": "stream",
          "name": "stdout",
          "text": [
            "Attempt 3 failed. Retrying...\n",
            "Maximum attempts reached for index 616. Skipping...\n"
          ]
        },
        {
          "output_type": "stream",
          "name": "stderr",
          "text": [
            " 51%|█████     | 624/1218 [58:13<45:56,  4.64s/it]"
          ]
        },
        {
          "output_type": "stream",
          "name": "stdout",
          "text": [
            "Attempt 1 failed. Retrying...\n",
            "Attempt 2 failed. Retrying...\n"
          ]
        },
        {
          "output_type": "stream",
          "name": "stderr",
          "text": [
            "\r 51%|█████▏    | 625/1218 [58:25<1:08:01,  6.88s/it]"
          ]
        },
        {
          "output_type": "stream",
          "name": "stdout",
          "text": [
            "Attempt 3 failed. Retrying...\n",
            "Maximum attempts reached for index 624. Skipping...\n"
          ]
        },
        {
          "output_type": "stream",
          "name": "stderr",
          "text": [
            "\r 51%|█████▏    | 626/1218 [58:29<59:35,  6.04s/it]  "
          ]
        },
        {
          "output_type": "stream",
          "name": "stdout",
          "text": [
            "Attempt 1 failed. Retrying...\n",
            "Attempt 2 failed. Retrying...\n"
          ]
        },
        {
          "output_type": "stream",
          "name": "stderr",
          "text": [
            "\r 51%|█████▏    | 627/1218 [58:41<1:17:15,  7.84s/it]"
          ]
        },
        {
          "output_type": "stream",
          "name": "stdout",
          "text": [
            "Attempt 3 failed. Retrying...\n",
            "Maximum attempts reached for index 626. Skipping...\n"
          ]
        },
        {
          "output_type": "stream",
          "name": "stderr",
          "text": [
            " 52%|█████▏    | 629/1218 [58:49<58:26,  5.95s/it]  "
          ]
        },
        {
          "output_type": "stream",
          "name": "stdout",
          "text": [
            "Attempt 1 failed. Retrying...\n",
            "Attempt 2 failed. Retrying...\n"
          ]
        },
        {
          "output_type": "stream",
          "name": "stderr",
          "text": [
            "\r 52%|█████▏    | 630/1218 [59:03<1:21:02,  8.27s/it]"
          ]
        },
        {
          "output_type": "stream",
          "name": "stdout",
          "text": [
            "Attempt 3 failed. Retrying...\n",
            "Maximum attempts reached for index 629. Skipping...\n"
          ]
        },
        {
          "output_type": "stream",
          "name": "stderr",
          "text": [
            " 53%|█████▎    | 643/1218 [1:00:00<42:23,  4.42s/it]"
          ]
        },
        {
          "output_type": "stream",
          "name": "stdout",
          "text": [
            "Attempt 1 failed. Retrying...\n",
            "Attempt 2 failed. Retrying...\n"
          ]
        },
        {
          "output_type": "stream",
          "name": "stderr",
          "text": [
            "\r 53%|█████▎    | 644/1218 [1:00:13<1:06:58,  7.00s/it]"
          ]
        },
        {
          "output_type": "stream",
          "name": "stdout",
          "text": [
            "Attempt 3 failed. Retrying...\n",
            "Maximum attempts reached for index 643. Skipping...\n"
          ]
        },
        {
          "output_type": "stream",
          "name": "stderr",
          "text": [
            " 53%|█████▎    | 648/1218 [1:00:32<49:03,  5.16s/it]"
          ]
        },
        {
          "output_type": "stream",
          "name": "stdout",
          "text": [
            "Attempt 1 failed. Retrying...\n",
            "Attempt 2 failed. Retrying...\n"
          ]
        },
        {
          "output_type": "stream",
          "name": "stderr",
          "text": [
            "\r 53%|█████▎    | 649/1218 [1:00:37<48:42,  5.14s/it]"
          ]
        },
        {
          "output_type": "stream",
          "name": "stdout",
          "text": [
            "Attempt 3 failed. Retrying...\n",
            "Maximum attempts reached for index 648. Skipping...\n"
          ]
        },
        {
          "output_type": "stream",
          "name": "stderr",
          "text": [
            " 54%|█████▍    | 657/1218 [1:01:11<41:05,  4.40s/it]"
          ]
        },
        {
          "output_type": "stream",
          "name": "stdout",
          "text": [
            "Attempt 1 failed. Retrying...\n",
            "Attempt 2 failed. Retrying...\n"
          ]
        },
        {
          "output_type": "stream",
          "name": "stderr",
          "text": [
            "\r 54%|█████▍    | 658/1218 [1:01:24<1:03:23,  6.79s/it]"
          ]
        },
        {
          "output_type": "stream",
          "name": "stdout",
          "text": [
            "Attempt 3 failed. Retrying...\n",
            "Maximum attempts reached for index 657. Skipping...\n"
          ]
        },
        {
          "output_type": "stream",
          "name": "stderr",
          "text": [
            " 54%|█████▍    | 662/1218 [1:01:42<46:24,  5.01s/it]"
          ]
        },
        {
          "output_type": "stream",
          "name": "stdout",
          "text": [
            "Attempt 1 failed. Retrying...\n",
            "Attempt 2 failed. Retrying...\n"
          ]
        },
        {
          "output_type": "stream",
          "name": "stderr",
          "text": [
            "\r 54%|█████▍    | 663/1218 [1:01:54<1:06:15,  7.16s/it]"
          ]
        },
        {
          "output_type": "stream",
          "name": "stdout",
          "text": [
            "Attempt 3 failed. Retrying...\n",
            "Maximum attempts reached for index 662. Skipping...\n"
          ]
        },
        {
          "output_type": "stream",
          "name": "stderr",
          "text": [
            " 55%|█████▍    | 669/1218 [1:02:21<43:28,  4.75s/it]"
          ]
        },
        {
          "output_type": "stream",
          "name": "stdout",
          "text": [
            "Attempt 1 failed. Retrying...\n",
            "Attempt 2 failed. Retrying...\n"
          ]
        },
        {
          "output_type": "stream",
          "name": "stderr",
          "text": [
            "\r 55%|█████▌    | 670/1218 [1:02:34<1:04:17,  7.04s/it]"
          ]
        },
        {
          "output_type": "stream",
          "name": "stdout",
          "text": [
            "Attempt 3 failed. Retrying...\n",
            "Maximum attempts reached for index 669. Skipping...\n",
            "Attempt 1 failed. Retrying...\n",
            "Attempt 2 failed. Retrying...\n"
          ]
        },
        {
          "output_type": "stream",
          "name": "stderr",
          "text": [
            "\r 55%|█████▌    | 671/1218 [1:02:46<1:18:53,  8.65s/it]"
          ]
        },
        {
          "output_type": "stream",
          "name": "stdout",
          "text": [
            "Attempt 3 failed. Retrying...\n",
            "Maximum attempts reached for index 670. Skipping...\n"
          ]
        },
        {
          "output_type": "stream",
          "name": "stderr",
          "text": [
            " 55%|█████▌    | 674/1218 [1:02:59<52:37,  5.80s/it]"
          ]
        },
        {
          "output_type": "stream",
          "name": "stdout",
          "text": [
            "Attempt 1 failed. Retrying...\n",
            "Attempt 2 failed. Retrying...\n"
          ]
        },
        {
          "output_type": "stream",
          "name": "stderr",
          "text": [
            "\r 55%|█████▌    | 675/1218 [1:03:12<1:12:32,  8.02s/it]"
          ]
        },
        {
          "output_type": "stream",
          "name": "stdout",
          "text": [
            "Attempt 3 failed. Retrying...\n",
            "Maximum attempts reached for index 674. Skipping...\n"
          ]
        },
        {
          "output_type": "stream",
          "name": "stderr",
          "text": [
            " 56%|█████▌    | 683/1218 [1:03:49<43:00,  4.82s/it]"
          ]
        },
        {
          "output_type": "stream",
          "name": "stdout",
          "text": [
            "Attempt 1 failed. Retrying...\n",
            "Attempt 2 failed. Retrying...\n"
          ]
        },
        {
          "output_type": "stream",
          "name": "stderr",
          "text": [
            "\r 56%|█████▌    | 684/1218 [1:04:02<1:05:23,  7.35s/it]"
          ]
        },
        {
          "output_type": "stream",
          "name": "stdout",
          "text": [
            "Attempt 3 failed. Retrying...\n",
            "Maximum attempts reached for index 683. Skipping...\n"
          ]
        },
        {
          "output_type": "stream",
          "name": "stderr",
          "text": [
            " 57%|█████▋    | 691/1218 [1:04:32<39:19,  4.48s/it]"
          ]
        },
        {
          "output_type": "stream",
          "name": "stdout",
          "text": [
            "Attempt 1 failed. Retrying...\n",
            "Attempt 2 failed. Retrying...\n"
          ]
        },
        {
          "output_type": "stream",
          "name": "stderr",
          "text": [
            "\r 57%|█████▋    | 692/1218 [1:04:44<59:46,  6.82s/it]"
          ]
        },
        {
          "output_type": "stream",
          "name": "stdout",
          "text": [
            "Attempt 3 failed. Retrying...\n",
            "Maximum attempts reached for index 691. Skipping...\n"
          ]
        },
        {
          "output_type": "stream",
          "name": "stderr",
          "text": [
            " 57%|█████▋    | 696/1218 [1:05:02<42:24,  4.87s/it]"
          ]
        },
        {
          "output_type": "stream",
          "name": "stdout",
          "text": [
            "Attempt 1 failed. Retrying...\n",
            "Attempt 2 failed. Retrying...\n"
          ]
        },
        {
          "output_type": "stream",
          "name": "stderr",
          "text": [
            "\r 57%|█████▋    | 697/1218 [1:05:13<59:56,  6.90s/it]"
          ]
        },
        {
          "output_type": "stream",
          "name": "stdout",
          "text": [
            "Attempt 3 failed. Retrying...\n",
            "Maximum attempts reached for index 696. Skipping...\n",
            "Attempt 1 failed. Retrying...\n",
            "Attempt 2 failed. Retrying...\n"
          ]
        },
        {
          "output_type": "stream",
          "name": "stderr",
          "text": [
            "\r 57%|█████▋    | 698/1218 [1:05:17<52:01,  6.00s/it]"
          ]
        },
        {
          "output_type": "stream",
          "name": "stdout",
          "text": [
            "Attempt 3 failed. Retrying...\n",
            "Maximum attempts reached for index 697. Skipping...\n"
          ]
        },
        {
          "output_type": "stream",
          "name": "stderr",
          "text": [
            " 58%|█████▊    | 701/1218 [1:05:30<42:37,  4.95s/it]"
          ]
        },
        {
          "output_type": "stream",
          "name": "stdout",
          "text": [
            "Attempt 1 failed. Retrying...\n",
            "Attempt 2 failed. Retrying...\n"
          ]
        },
        {
          "output_type": "stream",
          "name": "stderr",
          "text": [
            "\r 58%|█████▊    | 702/1218 [1:05:42<1:00:57,  7.09s/it]"
          ]
        },
        {
          "output_type": "stream",
          "name": "stdout",
          "text": [
            "Attempt 3 failed. Retrying...\n",
            "Maximum attempts reached for index 701. Skipping...\n"
          ]
        },
        {
          "output_type": "stream",
          "name": "stderr",
          "text": [
            " 58%|█████▊    | 710/1218 [1:06:16<36:49,  4.35s/it]"
          ]
        },
        {
          "output_type": "stream",
          "name": "stdout",
          "text": [
            "Attempt 1 failed. Retrying...\n",
            "Attempt 2 failed. Retrying...\n"
          ]
        },
        {
          "output_type": "stream",
          "name": "stderr",
          "text": [
            "\r 58%|█████▊    | 711/1218 [1:06:29<56:57,  6.74s/it]"
          ]
        },
        {
          "output_type": "stream",
          "name": "stdout",
          "text": [
            "Attempt 3 failed. Retrying...\n",
            "Maximum attempts reached for index 710. Skipping...\n"
          ]
        },
        {
          "output_type": "stream",
          "name": "stderr",
          "text": [
            " 59%|█████▉    | 723/1218 [1:07:22<38:54,  4.72s/it]"
          ]
        },
        {
          "output_type": "stream",
          "name": "stdout",
          "text": [
            "Attempt 1 failed. Retrying...\n",
            "Attempt 2 failed. Retrying...\n"
          ]
        },
        {
          "output_type": "stream",
          "name": "stderr",
          "text": [
            "\r 59%|█████▉    | 724/1218 [1:07:34<57:55,  7.04s/it]"
          ]
        },
        {
          "output_type": "stream",
          "name": "stdout",
          "text": [
            "Attempt 3 failed. Retrying...\n",
            "Maximum attempts reached for index 723. Skipping...\n"
          ]
        },
        {
          "output_type": "stream",
          "name": "stderr",
          "text": [
            " 60%|█████▉    | 726/1218 [1:07:43<45:44,  5.58s/it]"
          ]
        },
        {
          "output_type": "stream",
          "name": "stdout",
          "text": [
            "Attempt 1 failed. Retrying...\n",
            "Attempt 2 failed. Retrying...\n"
          ]
        },
        {
          "output_type": "stream",
          "name": "stderr",
          "text": [
            "\r 60%|█████▉    | 727/1218 [1:07:56<1:03:40,  7.78s/it]"
          ]
        },
        {
          "output_type": "stream",
          "name": "stdout",
          "text": [
            "Attempt 3 failed. Retrying...\n",
            "Maximum attempts reached for index 726. Skipping...\n"
          ]
        },
        {
          "output_type": "stream",
          "name": "stderr",
          "text": [
            " 60%|█████▉    | 730/1218 [1:08:09<45:10,  5.55s/it]"
          ]
        },
        {
          "output_type": "stream",
          "name": "stdout",
          "text": [
            "Attempt 1 failed. Retrying...\n",
            "Attempt 2 failed. Retrying...\n"
          ]
        },
        {
          "output_type": "stream",
          "name": "stderr",
          "text": [
            "\r 60%|██████    | 731/1218 [1:08:21<59:59,  7.39s/it]"
          ]
        },
        {
          "output_type": "stream",
          "name": "stdout",
          "text": [
            "Attempt 3 failed. Retrying...\n",
            "Maximum attempts reached for index 730. Skipping...\n",
            "Attempt 1 failed. Retrying...\n",
            "Attempt 2 failed. Retrying...\n"
          ]
        },
        {
          "output_type": "stream",
          "name": "stderr",
          "text": [
            "\r 60%|██████    | 732/1218 [1:08:32<1:10:01,  8.64s/it]"
          ]
        },
        {
          "output_type": "stream",
          "name": "stdout",
          "text": [
            "Attempt 3 failed. Retrying...\n",
            "Maximum attempts reached for index 731. Skipping...\n"
          ]
        },
        {
          "output_type": "stream",
          "name": "stderr",
          "text": [
            "\r 60%|██████    | 733/1218 [1:08:36<58:45,  7.27s/it]  "
          ]
        },
        {
          "output_type": "stream",
          "name": "stdout",
          "text": [
            "Attempt 1 failed. Retrying...\n",
            "Attempt 2 failed. Retrying...\n"
          ]
        },
        {
          "output_type": "stream",
          "name": "stderr",
          "text": [
            "\r 60%|██████    | 734/1218 [1:08:49<1:11:20,  8.84s/it]"
          ]
        },
        {
          "output_type": "stream",
          "name": "stdout",
          "text": [
            "Attempt 3 failed. Retrying...\n",
            "Maximum attempts reached for index 733. Skipping...\n"
          ]
        },
        {
          "output_type": "stream",
          "name": "stderr",
          "text": [
            " 61%|██████    | 744/1218 [1:09:35<36:57,  4.68s/it]"
          ]
        },
        {
          "output_type": "stream",
          "name": "stdout",
          "text": [
            "Attempt 1 failed. Retrying...\n",
            "Attempt 2 failed. Retrying...\n"
          ]
        },
        {
          "output_type": "stream",
          "name": "stderr",
          "text": [
            "\r 61%|██████    | 745/1218 [1:09:47<53:52,  6.83s/it]"
          ]
        },
        {
          "output_type": "stream",
          "name": "stdout",
          "text": [
            "Attempt 3 failed. Retrying...\n",
            "Maximum attempts reached for index 744. Skipping...\n",
            "Attempt 1 failed. Retrying...\n",
            "Attempt 2 failed. Retrying...\n"
          ]
        },
        {
          "output_type": "stream",
          "name": "stderr",
          "text": [
            "\r 61%|██████    | 746/1218 [1:09:59<1:07:01,  8.52s/it]"
          ]
        },
        {
          "output_type": "stream",
          "name": "stdout",
          "text": [
            "Attempt 3 failed. Retrying...\n",
            "Maximum attempts reached for index 745. Skipping...\n"
          ]
        },
        {
          "output_type": "stream",
          "name": "stderr",
          "text": [
            "\r 61%|██████▏   | 747/1218 [1:10:03<56:38,  7.22s/it]  "
          ]
        },
        {
          "output_type": "stream",
          "name": "stdout",
          "text": [
            "Attempt 1 failed. Retrying...\n",
            "Attempt 2 failed. Retrying...\n"
          ]
        },
        {
          "output_type": "stream",
          "name": "stderr",
          "text": [
            "\r 61%|██████▏   | 748/1218 [1:10:15<1:07:14,  8.58s/it]"
          ]
        },
        {
          "output_type": "stream",
          "name": "stdout",
          "text": [
            "Attempt 3 failed. Retrying...\n",
            "Maximum attempts reached for index 747. Skipping...\n"
          ]
        },
        {
          "output_type": "stream",
          "name": "stderr",
          "text": [
            " 62%|██████▏   | 753/1218 [1:10:38<40:14,  5.19s/it]"
          ]
        },
        {
          "output_type": "stream",
          "name": "stdout",
          "text": [
            "Attempt 1 failed. Retrying...\n",
            "Attempt 2 failed. Retrying...\n"
          ]
        },
        {
          "output_type": "stream",
          "name": "stderr",
          "text": [
            "\r 62%|██████▏   | 754/1218 [1:10:50<56:03,  7.25s/it]"
          ]
        },
        {
          "output_type": "stream",
          "name": "stdout",
          "text": [
            "Attempt 3 failed. Retrying...\n",
            "Maximum attempts reached for index 753. Skipping...\n"
          ]
        },
        {
          "output_type": "stream",
          "name": "stderr",
          "text": [
            "\r 62%|██████▏   | 755/1218 [1:10:54<48:56,  6.34s/it]"
          ]
        },
        {
          "output_type": "stream",
          "name": "stdout",
          "text": [
            "Attempt 1 failed. Retrying...\n",
            "Attempt 2 failed. Retrying...\n"
          ]
        },
        {
          "output_type": "stream",
          "name": "stderr",
          "text": [
            "\r 62%|██████▏   | 756/1218 [1:11:07<1:04:03,  8.32s/it]"
          ]
        },
        {
          "output_type": "stream",
          "name": "stdout",
          "text": [
            "Attempt 3 failed. Retrying...\n",
            "Maximum attempts reached for index 755. Skipping...\n",
            "Attempt 1 failed. Retrying...\n",
            "Attempt 2 failed. Retrying...\n"
          ]
        },
        {
          "output_type": "stream",
          "name": "stderr",
          "text": [
            "\r 62%|██████▏   | 757/1218 [1:11:19<1:13:23,  9.55s/it]"
          ]
        },
        {
          "output_type": "stream",
          "name": "stdout",
          "text": [
            "Attempt 3 failed. Retrying...\n",
            "Maximum attempts reached for index 756. Skipping...\n"
          ]
        },
        {
          "output_type": "stream",
          "name": "stderr",
          "text": [
            "\r 62%|██████▏   | 758/1218 [1:11:24<1:00:56,  7.95s/it]"
          ]
        },
        {
          "output_type": "stream",
          "name": "stdout",
          "text": [
            "Attempt 1 failed. Retrying...\n",
            "Attempt 2 failed. Retrying...\n"
          ]
        },
        {
          "output_type": "stream",
          "name": "stderr",
          "text": [
            "\r 62%|██████▏   | 759/1218 [1:11:36<1:10:36,  9.23s/it]"
          ]
        },
        {
          "output_type": "stream",
          "name": "stdout",
          "text": [
            "Attempt 3 failed. Retrying...\n",
            "Maximum attempts reached for index 758. Skipping...\n"
          ]
        },
        {
          "output_type": "stream",
          "name": "stderr",
          "text": [
            " 63%|██████▎   | 766/1218 [1:12:07<37:11,  4.94s/it]"
          ]
        },
        {
          "output_type": "stream",
          "name": "stdout",
          "text": [
            "Attempt 1 failed. Retrying...\n",
            "Attempt 2 failed. Retrying...\n"
          ]
        },
        {
          "output_type": "stream",
          "name": "stderr",
          "text": [
            "\r 63%|██████▎   | 767/1218 [1:12:10<34:37,  4.61s/it]"
          ]
        },
        {
          "output_type": "stream",
          "name": "stdout",
          "text": [
            "Attempt 3 failed. Retrying...\n",
            "Maximum attempts reached for index 766. Skipping...\n"
          ]
        },
        {
          "output_type": "stream",
          "name": "stderr",
          "text": [
            " 63%|██████▎   | 771/1218 [1:12:31<40:22,  5.42s/it]"
          ]
        },
        {
          "output_type": "stream",
          "name": "stdout",
          "text": [
            "Attempt 1 failed. Retrying...\n",
            "Attempt 2 failed. Retrying...\n"
          ]
        },
        {
          "output_type": "stream",
          "name": "stderr",
          "text": [
            "\r 63%|██████▎   | 772/1218 [1:12:43<55:01,  7.40s/it]"
          ]
        },
        {
          "output_type": "stream",
          "name": "stdout",
          "text": [
            "Attempt 3 failed. Retrying...\n",
            "Maximum attempts reached for index 771. Skipping...\n",
            "Attempt 1 failed. Retrying...\n",
            "Attempt 2 failed. Retrying...\n"
          ]
        },
        {
          "output_type": "stream",
          "name": "stderr",
          "text": [
            "\r 63%|██████▎   | 773/1218 [1:12:56<1:07:56,  9.16s/it]"
          ]
        },
        {
          "output_type": "stream",
          "name": "stdout",
          "text": [
            "Attempt 3 failed. Retrying...\n",
            "Maximum attempts reached for index 772. Skipping...\n"
          ]
        },
        {
          "output_type": "stream",
          "name": "stderr",
          "text": [
            " 64%|██████▍   | 785/1218 [1:13:49<32:58,  4.57s/it]"
          ]
        },
        {
          "output_type": "stream",
          "name": "stdout",
          "text": [
            "Attempt 1 failed. Retrying...\n",
            "Attempt 2 failed. Retrying...\n"
          ]
        },
        {
          "output_type": "stream",
          "name": "stderr",
          "text": [
            "\r 65%|██████▍   | 786/1218 [1:14:02<50:24,  7.00s/it]"
          ]
        },
        {
          "output_type": "stream",
          "name": "stdout",
          "text": [
            "Attempt 3 failed. Retrying...\n",
            "Maximum attempts reached for index 785. Skipping...\n"
          ]
        },
        {
          "output_type": "stream",
          "name": "stderr",
          "text": [
            " 65%|██████▌   | 796/1218 [1:14:47<30:28,  4.33s/it]"
          ]
        },
        {
          "output_type": "stream",
          "name": "stdout",
          "text": [
            "Attempt 1 failed. Retrying...\n",
            "Attempt 2 failed. Retrying...\n"
          ]
        },
        {
          "output_type": "stream",
          "name": "stderr",
          "text": [
            "\r 65%|██████▌   | 797/1218 [1:14:51<29:43,  4.24s/it]"
          ]
        },
        {
          "output_type": "stream",
          "name": "stdout",
          "text": [
            "Attempt 3 failed. Retrying...\n",
            "Maximum attempts reached for index 796. Skipping...\n",
            "Attempt 1 failed. Retrying...\n",
            "Attempt 2 failed. Retrying...\n"
          ]
        },
        {
          "output_type": "stream",
          "name": "stderr",
          "text": [
            "\r 66%|██████▌   | 798/1218 [1:15:03<46:00,  6.57s/it]"
          ]
        },
        {
          "output_type": "stream",
          "name": "stdout",
          "text": [
            "Attempt 3 failed. Retrying...\n",
            "Maximum attempts reached for index 797. Skipping...\n",
            "Attempt 1 failed. Retrying...\n",
            "Attempt 2 failed. Retrying...\n"
          ]
        },
        {
          "output_type": "stream",
          "name": "stderr",
          "text": [
            "\r 66%|██████▌   | 799/1218 [1:15:07<42:17,  6.06s/it]"
          ]
        },
        {
          "output_type": "stream",
          "name": "stdout",
          "text": [
            "Attempt 3 failed. Retrying...\n",
            "Maximum attempts reached for index 798. Skipping...\n",
            "Attempt 1 failed. Retrying...\n",
            "Attempt 2 failed. Retrying...\n"
          ]
        },
        {
          "output_type": "stream",
          "name": "stderr",
          "text": [
            "\r 66%|██████▌   | 800/1218 [1:15:19<54:43,  7.86s/it]"
          ]
        },
        {
          "output_type": "stream",
          "name": "stdout",
          "text": [
            "Attempt 3 failed. Retrying...\n",
            "Maximum attempts reached for index 799. Skipping...\n"
          ]
        },
        {
          "output_type": "stream",
          "name": "stderr",
          "text": [
            " 66%|██████▌   | 802/1218 [1:15:28<41:12,  5.94s/it]"
          ]
        },
        {
          "output_type": "stream",
          "name": "stdout",
          "text": [
            "Attempt 1 failed. Retrying...\n",
            "Attempt 2 failed. Retrying...\n"
          ]
        },
        {
          "output_type": "stream",
          "name": "stderr",
          "text": [
            "\r 66%|██████▌   | 803/1218 [1:15:39<52:59,  7.66s/it]"
          ]
        },
        {
          "output_type": "stream",
          "name": "stdout",
          "text": [
            "Attempt 3 failed. Retrying...\n",
            "Maximum attempts reached for index 802. Skipping...\n"
          ]
        },
        {
          "output_type": "stream",
          "name": "stderr",
          "text": [
            " 66%|██████▋   | 809/1218 [1:16:05<31:44,  4.66s/it]"
          ]
        },
        {
          "output_type": "stream",
          "name": "stdout",
          "text": [
            "Attempt 1 failed. Retrying...\n",
            "Attempt 2 failed. Retrying...\n"
          ]
        },
        {
          "output_type": "stream",
          "name": "stderr",
          "text": [
            "\r 67%|██████▋   | 810/1218 [1:16:17<46:53,  6.90s/it]"
          ]
        },
        {
          "output_type": "stream",
          "name": "stdout",
          "text": [
            "Attempt 3 failed. Retrying...\n",
            "Maximum attempts reached for index 809. Skipping...\n"
          ]
        },
        {
          "output_type": "stream",
          "name": "stderr",
          "text": [
            " 67%|██████▋   | 820/1218 [1:17:02<31:00,  4.67s/it]"
          ]
        },
        {
          "output_type": "stream",
          "name": "stdout",
          "text": [
            "Attempt 1 failed. Retrying...\n",
            "Attempt 2 failed. Retrying...\n"
          ]
        },
        {
          "output_type": "stream",
          "name": "stderr",
          "text": [
            "\r 67%|██████▋   | 821/1218 [1:17:05<28:02,  4.24s/it]"
          ]
        },
        {
          "output_type": "stream",
          "name": "stdout",
          "text": [
            "Attempt 3 failed. Retrying...\n",
            "Maximum attempts reached for index 820. Skipping...\n",
            "Attempt 1 failed. Retrying...\n",
            "Attempt 2 failed. Retrying...\n"
          ]
        },
        {
          "output_type": "stream",
          "name": "stderr",
          "text": [
            "\r 67%|██████▋   | 822/1218 [1:17:09<27:25,  4.16s/it]"
          ]
        },
        {
          "output_type": "stream",
          "name": "stdout",
          "text": [
            "Attempt 3 failed. Retrying...\n",
            "Maximum attempts reached for index 821. Skipping...\n"
          ]
        },
        {
          "output_type": "stream",
          "name": "stderr",
          "text": [
            " 68%|██████▊   | 826/1218 [1:17:27<28:22,  4.34s/it]"
          ]
        },
        {
          "output_type": "stream",
          "name": "stdout",
          "text": [
            "Attempt 1 failed. Retrying...\n",
            "Attempt 2 failed. Retrying...\n"
          ]
        },
        {
          "output_type": "stream",
          "name": "stderr",
          "text": [
            "\r 68%|██████▊   | 827/1218 [1:17:31<27:23,  4.20s/it]"
          ]
        },
        {
          "output_type": "stream",
          "name": "stdout",
          "text": [
            "Attempt 3 failed. Retrying...\n",
            "Maximum attempts reached for index 826. Skipping...\n"
          ]
        },
        {
          "output_type": "stream",
          "name": "stderr",
          "text": [
            " 68%|██████▊   | 831/1218 [1:17:49<28:12,  4.37s/it]"
          ]
        },
        {
          "output_type": "stream",
          "name": "stdout",
          "text": [
            "Attempt 1 failed. Retrying...\n",
            "Attempt 2 failed. Retrying...\n"
          ]
        },
        {
          "output_type": "stream",
          "name": "stderr",
          "text": [
            "\r 68%|██████▊   | 832/1218 [1:18:00<42:23,  6.59s/it]"
          ]
        },
        {
          "output_type": "stream",
          "name": "stdout",
          "text": [
            "Attempt 3 failed. Retrying...\n",
            "Maximum attempts reached for index 831. Skipping...\n"
          ]
        },
        {
          "output_type": "stream",
          "name": "stderr",
          "text": [
            "\r 68%|██████▊   | 833/1218 [1:18:05<38:19,  5.97s/it]"
          ]
        },
        {
          "output_type": "stream",
          "name": "stdout",
          "text": [
            "Attempt 1 failed. Retrying...\n",
            "Attempt 2 failed. Retrying...\n"
          ]
        },
        {
          "output_type": "stream",
          "name": "stderr",
          "text": [
            "\r 68%|██████▊   | 834/1218 [1:18:18<52:21,  8.18s/it]"
          ]
        },
        {
          "output_type": "stream",
          "name": "stdout",
          "text": [
            "Attempt 3 failed. Retrying...\n",
            "Maximum attempts reached for index 833. Skipping...\n"
          ]
        },
        {
          "output_type": "stream",
          "name": "stderr",
          "text": [
            " 69%|██████▉   | 840/1218 [1:18:44<30:19,  4.81s/it]"
          ]
        },
        {
          "output_type": "stream",
          "name": "stdout",
          "text": [
            "Attempt 1 failed. Retrying...\n",
            "Attempt 2 failed. Retrying...\n"
          ]
        },
        {
          "output_type": "stream",
          "name": "stderr",
          "text": [
            "\r 69%|██████▉   | 841/1218 [1:18:56<44:25,  7.07s/it]"
          ]
        },
        {
          "output_type": "stream",
          "name": "stdout",
          "text": [
            "Attempt 3 failed. Retrying...\n",
            "Maximum attempts reached for index 840. Skipping...\n"
          ]
        },
        {
          "output_type": "stream",
          "name": "stderr",
          "text": [
            "\r 69%|██████▉   | 842/1218 [1:19:01<39:15,  6.27s/it]"
          ]
        },
        {
          "output_type": "stream",
          "name": "stdout",
          "text": [
            "Attempt 1 failed. Retrying...\n",
            "Attempt 2 failed. Retrying...\n"
          ]
        },
        {
          "output_type": "stream",
          "name": "stderr",
          "text": [
            "\r 69%|██████▉   | 843/1218 [1:19:13<50:36,  8.10s/it]"
          ]
        },
        {
          "output_type": "stream",
          "name": "stdout",
          "text": [
            "Attempt 3 failed. Retrying...\n",
            "Maximum attempts reached for index 842. Skipping...\n",
            "Attempt 1 failed. Retrying...\n",
            "Attempt 2 failed. Retrying...\n"
          ]
        },
        {
          "output_type": "stream",
          "name": "stderr",
          "text": [
            "\r 69%|██████▉   | 844/1218 [1:19:26<59:01,  9.47s/it]"
          ]
        },
        {
          "output_type": "stream",
          "name": "stdout",
          "text": [
            "Attempt 3 failed. Retrying...\n",
            "Maximum attempts reached for index 843. Skipping...\n",
            "Attempt 1 failed. Retrying...\n"
          ]
        },
        {
          "output_type": "stream",
          "name": "stderr",
          "text": [
            " 70%|███████   | 853/1218 [1:20:10<29:23,  4.83s/it]"
          ]
        },
        {
          "output_type": "stream",
          "name": "stdout",
          "text": [
            "Attempt 1 failed. Retrying...\n",
            "Attempt 2 failed. Retrying...\n"
          ]
        },
        {
          "output_type": "stream",
          "name": "stderr",
          "text": [
            "\r 70%|███████   | 854/1218 [1:20:23<42:57,  7.08s/it]"
          ]
        },
        {
          "output_type": "stream",
          "name": "stdout",
          "text": [
            "Attempt 3 failed. Retrying...\n",
            "Maximum attempts reached for index 853. Skipping...\n"
          ]
        },
        {
          "output_type": "stream",
          "name": "stderr",
          "text": [
            " 71%|███████   | 862/1218 [1:20:58<27:33,  4.65s/it]"
          ]
        },
        {
          "output_type": "stream",
          "name": "stdout",
          "text": [
            "Attempt 1 failed. Retrying...\n",
            "Attempt 2 failed. Retrying...\n"
          ]
        },
        {
          "output_type": "stream",
          "name": "stderr",
          "text": [
            "\r 71%|███████   | 863/1218 [1:21:11<41:25,  7.00s/it]"
          ]
        },
        {
          "output_type": "stream",
          "name": "stdout",
          "text": [
            "Attempt 3 failed. Retrying...\n",
            "Maximum attempts reached for index 862. Skipping...\n"
          ]
        },
        {
          "output_type": "stream",
          "name": "stderr",
          "text": [
            "\r 71%|███████   | 864/1218 [1:21:15<37:17,  6.32s/it]"
          ]
        },
        {
          "output_type": "stream",
          "name": "stdout",
          "text": [
            "Attempt 1 failed. Retrying...\n"
          ]
        },
        {
          "output_type": "stream",
          "name": "stderr",
          "text": [
            " 71%|███████   | 866/1218 [1:21:28<36:07,  6.16s/it]"
          ]
        },
        {
          "output_type": "stream",
          "name": "stdout",
          "text": [
            "Attempt 1 failed. Retrying...\n",
            "Attempt 2 failed. Retrying...\n"
          ]
        },
        {
          "output_type": "stream",
          "name": "stderr",
          "text": [
            "\r 71%|███████   | 867/1218 [1:21:42<48:44,  8.33s/it]"
          ]
        },
        {
          "output_type": "stream",
          "name": "stdout",
          "text": [
            "Attempt 3 failed. Retrying...\n",
            "Maximum attempts reached for index 866. Skipping...\n"
          ]
        },
        {
          "output_type": "stream",
          "name": "stderr",
          "text": [
            " 72%|███████▏  | 876/1218 [1:22:22<26:39,  4.68s/it]"
          ]
        },
        {
          "output_type": "stream",
          "name": "stdout",
          "text": [
            "Attempt 1 failed. Retrying...\n",
            "Attempt 2 failed. Retrying...\n"
          ]
        },
        {
          "output_type": "stream",
          "name": "stderr",
          "text": [
            "\r 72%|███████▏  | 877/1218 [1:22:36<41:55,  7.38s/it]"
          ]
        },
        {
          "output_type": "stream",
          "name": "stdout",
          "text": [
            "Attempt 3 failed. Retrying...\n",
            "Maximum attempts reached for index 876. Skipping...\n"
          ]
        },
        {
          "output_type": "stream",
          "name": "stderr",
          "text": [
            " 72%|███████▏  | 881/1218 [1:22:56<31:12,  5.56s/it]"
          ]
        },
        {
          "output_type": "stream",
          "name": "stdout",
          "text": [
            "Attempt 1 failed. Retrying...\n",
            "Attempt 2 failed. Retrying...\n"
          ]
        },
        {
          "output_type": "stream",
          "name": "stderr",
          "text": [
            "\r 72%|███████▏  | 882/1218 [1:23:09<42:22,  7.57s/it]"
          ]
        },
        {
          "output_type": "stream",
          "name": "stdout",
          "text": [
            "Attempt 3 failed. Retrying...\n",
            "Maximum attempts reached for index 881. Skipping...\n"
          ]
        },
        {
          "output_type": "stream",
          "name": "stderr",
          "text": [
            " 73%|███████▎  | 886/1218 [1:23:25<27:52,  5.04s/it]"
          ]
        },
        {
          "output_type": "stream",
          "name": "stdout",
          "text": [
            "Attempt 1 failed. Retrying...\n",
            "Attempt 2 failed. Retrying...\n"
          ]
        },
        {
          "output_type": "stream",
          "name": "stderr",
          "text": [
            "\r 73%|███████▎  | 887/1218 [1:23:39<41:20,  7.49s/it]"
          ]
        },
        {
          "output_type": "stream",
          "name": "stdout",
          "text": [
            "Attempt 3 failed. Retrying...\n",
            "Maximum attempts reached for index 886. Skipping...\n",
            "Attempt 1 failed. Retrying...\n",
            "Attempt 2 failed. Retrying...\n"
          ]
        },
        {
          "output_type": "stream",
          "name": "stderr",
          "text": [
            "\r 73%|███████▎  | 888/1218 [1:23:52<51:29,  9.36s/it]"
          ]
        },
        {
          "output_type": "stream",
          "name": "stdout",
          "text": [
            "Attempt 3 failed. Retrying...\n",
            "Maximum attempts reached for index 887. Skipping...\n",
            "Attempt 1 failed. Retrying...\n",
            "Attempt 2 failed. Retrying...\n"
          ]
        },
        {
          "output_type": "stream",
          "name": "stderr",
          "text": [
            "\r 73%|███████▎  | 889/1218 [1:24:05<56:36, 10.32s/it]"
          ]
        },
        {
          "output_type": "stream",
          "name": "stdout",
          "text": [
            "Attempt 1 failed. Retrying...\n",
            "Attempt 2 failed. Retrying...\n"
          ]
        },
        {
          "output_type": "stream",
          "name": "stderr",
          "text": [
            "\r 73%|███████▎  | 890/1218 [1:24:18<1:00:29, 11.07s/it]"
          ]
        },
        {
          "output_type": "stream",
          "name": "stdout",
          "text": [
            "Attempt 3 failed. Retrying...\n",
            "Maximum attempts reached for index 889. Skipping...\n"
          ]
        },
        {
          "output_type": "stream",
          "name": "stderr",
          "text": [
            "\r 73%|███████▎  | 891/1218 [1:24:22<48:50,  8.96s/it]  "
          ]
        },
        {
          "output_type": "stream",
          "name": "stdout",
          "text": [
            "Attempt 1 failed. Retrying...\n",
            "Attempt 2 failed. Retrying...\n"
          ]
        },
        {
          "output_type": "stream",
          "name": "stderr",
          "text": [
            "\r 73%|███████▎  | 892/1218 [1:24:33<53:08,  9.78s/it]"
          ]
        },
        {
          "output_type": "stream",
          "name": "stdout",
          "text": [
            "Attempt 3 failed. Retrying...\n",
            "Maximum attempts reached for index 891. Skipping...\n"
          ]
        },
        {
          "output_type": "stream",
          "name": "stderr",
          "text": [
            " 73%|███████▎  | 895/1218 [1:24:46<32:33,  6.05s/it]"
          ]
        },
        {
          "output_type": "stream",
          "name": "stdout",
          "text": [
            "Attempt 1 failed. Retrying...\n",
            "Attempt 2 failed. Retrying...\n"
          ]
        },
        {
          "output_type": "stream",
          "name": "stderr",
          "text": [
            "\r 74%|███████▎  | 896/1218 [1:24:50<28:53,  5.38s/it]"
          ]
        },
        {
          "output_type": "stream",
          "name": "stdout",
          "text": [
            "Attempt 3 failed. Retrying...\n",
            "Maximum attempts reached for index 895. Skipping...\n"
          ]
        },
        {
          "output_type": "stream",
          "name": "stderr",
          "text": [
            " 74%|███████▍  | 899/1218 [1:25:03<25:09,  4.73s/it]"
          ]
        },
        {
          "output_type": "stream",
          "name": "stdout",
          "text": [
            "Attempt 1 failed. Retrying...\n",
            "Attempt 2 failed. Retrying...\n"
          ]
        },
        {
          "output_type": "stream",
          "name": "stderr",
          "text": [
            "\r 74%|███████▍  | 900/1218 [1:25:15<36:39,  6.92s/it]"
          ]
        },
        {
          "output_type": "stream",
          "name": "stdout",
          "text": [
            "Attempt 3 failed. Retrying...\n",
            "Maximum attempts reached for index 899. Skipping...\n"
          ]
        },
        {
          "output_type": "stream",
          "name": "stderr",
          "text": [
            " 75%|███████▍  | 909/1218 [1:25:55<24:43,  4.80s/it]"
          ]
        },
        {
          "output_type": "stream",
          "name": "stdout",
          "text": [
            "Attempt 1 failed. Retrying...\n",
            "Attempt 2 failed. Retrying...\n"
          ]
        },
        {
          "output_type": "stream",
          "name": "stderr",
          "text": [
            "\r 75%|███████▍  | 910/1218 [1:26:16<49:40,  9.68s/it]"
          ]
        },
        {
          "output_type": "stream",
          "name": "stdout",
          "text": [
            "Attempt 3 failed. Retrying...\n",
            "Maximum attempts reached for index 909. Skipping...\n"
          ]
        },
        {
          "output_type": "stream",
          "name": "stderr",
          "text": [
            "\r 75%|███████▍  | 911/1218 [1:26:20<41:12,  8.05s/it]"
          ]
        },
        {
          "output_type": "stream",
          "name": "stdout",
          "text": [
            "Attempt 1 failed. Retrying...\n",
            "Attempt 2 failed. Retrying...\n"
          ]
        },
        {
          "output_type": "stream",
          "name": "stderr",
          "text": [
            "\r 75%|███████▍  | 912/1218 [1:26:32<47:18,  9.28s/it]"
          ]
        },
        {
          "output_type": "stream",
          "name": "stdout",
          "text": [
            "Attempt 3 failed. Retrying...\n",
            "Maximum attempts reached for index 911. Skipping...\n"
          ]
        },
        {
          "output_type": "stream",
          "name": "stderr",
          "text": [
            " 75%|███████▌  | 917/1218 [1:26:54<25:54,  5.16s/it]"
          ]
        },
        {
          "output_type": "stream",
          "name": "stdout",
          "text": [
            "Attempt 1 failed. Retrying...\n",
            "Attempt 2 failed. Retrying...\n"
          ]
        },
        {
          "output_type": "stream",
          "name": "stderr",
          "text": [
            "\r 75%|███████▌  | 918/1218 [1:26:58<24:07,  4.82s/it]"
          ]
        },
        {
          "output_type": "stream",
          "name": "stdout",
          "text": [
            "Attempt 3 failed. Retrying...\n",
            "Maximum attempts reached for index 917. Skipping...\n"
          ]
        },
        {
          "output_type": "stream",
          "name": "stderr",
          "text": [
            " 76%|███████▌  | 923/1218 [1:27:19<21:29,  4.37s/it]"
          ]
        },
        {
          "output_type": "stream",
          "name": "stdout",
          "text": [
            "Attempt 1 failed. Retrying...\n",
            "Attempt 2 failed. Retrying...\n"
          ]
        },
        {
          "output_type": "stream",
          "name": "stderr",
          "text": [
            "\r 76%|███████▌  | 924/1218 [1:27:31<32:19,  6.60s/it]"
          ]
        },
        {
          "output_type": "stream",
          "name": "stdout",
          "text": [
            "Attempt 3 failed. Retrying...\n",
            "Maximum attempts reached for index 923. Skipping...\n"
          ]
        },
        {
          "output_type": "stream",
          "name": "stderr",
          "text": [
            " 76%|███████▋  | 930/1218 [1:27:58<22:19,  4.65s/it]"
          ]
        },
        {
          "output_type": "stream",
          "name": "stdout",
          "text": [
            "Attempt 1 failed. Retrying...\n",
            "Attempt 2 failed. Retrying...\n"
          ]
        },
        {
          "output_type": "stream",
          "name": "stderr",
          "text": [
            "\r 76%|███████▋  | 931/1218 [1:28:01<20:06,  4.20s/it]"
          ]
        },
        {
          "output_type": "stream",
          "name": "stdout",
          "text": [
            "Attempt 3 failed. Retrying...\n",
            "Maximum attempts reached for index 930. Skipping...\n",
            "Attempt 1 failed. Retrying...\n"
          ]
        },
        {
          "output_type": "stream",
          "name": "stderr",
          "text": [
            "\r 77%|███████▋  | 932/1218 [1:28:10<27:21,  5.74s/it]"
          ]
        },
        {
          "output_type": "stream",
          "name": "stdout",
          "text": [
            "Attempt 1 failed. Retrying...\n",
            "Attempt 2 failed. Retrying...\n"
          ]
        },
        {
          "output_type": "stream",
          "name": "stderr",
          "text": [
            "\r 77%|███████▋  | 933/1218 [1:28:22<36:11,  7.62s/it]"
          ]
        },
        {
          "output_type": "stream",
          "name": "stdout",
          "text": [
            "Attempt 3 failed. Retrying...\n",
            "Maximum attempts reached for index 932. Skipping...\n",
            "Attempt 1 failed. Retrying...\n",
            "Attempt 2 failed. Retrying...\n"
          ]
        },
        {
          "output_type": "stream",
          "name": "stderr",
          "text": [
            "\r 77%|███████▋  | 934/1218 [1:28:25<29:44,  6.28s/it]"
          ]
        },
        {
          "output_type": "stream",
          "name": "stdout",
          "text": [
            "Attempt 3 failed. Retrying...\n",
            "Maximum attempts reached for index 933. Skipping...\n"
          ]
        },
        {
          "output_type": "stream",
          "name": "stderr",
          "text": [
            " 77%|███████▋  | 940/1218 [1:28:52<21:35,  4.66s/it]"
          ]
        },
        {
          "output_type": "stream",
          "name": "stdout",
          "text": [
            "Attempt 1 failed. Retrying...\n",
            "Attempt 2 failed. Retrying...\n"
          ]
        },
        {
          "output_type": "stream",
          "name": "stderr",
          "text": [
            "\r 77%|███████▋  | 941/1218 [1:28:56<21:06,  4.57s/it]"
          ]
        },
        {
          "output_type": "stream",
          "name": "stdout",
          "text": [
            "Attempt 3 failed. Retrying...\n",
            "Maximum attempts reached for index 940. Skipping...\n"
          ]
        },
        {
          "output_type": "stream",
          "name": "stderr",
          "text": [
            " 78%|███████▊  | 955/1218 [1:29:58<19:09,  4.37s/it]"
          ]
        },
        {
          "output_type": "stream",
          "name": "stdout",
          "text": [
            "Attempt 1 failed. Retrying...\n",
            "Attempt 2 failed. Retrying...\n"
          ]
        },
        {
          "output_type": "stream",
          "name": "stderr",
          "text": [
            " 79%|███████▊  | 959/1218 [1:30:23<21:50,  5.06s/it]"
          ]
        },
        {
          "output_type": "stream",
          "name": "stdout",
          "text": [
            "Attempt 1 failed. Retrying...\n",
            "Attempt 2 failed. Retrying...\n"
          ]
        },
        {
          "output_type": "stream",
          "name": "stderr",
          "text": [
            "\r 79%|███████▉  | 960/1218 [1:30:35<30:26,  7.08s/it]"
          ]
        },
        {
          "output_type": "stream",
          "name": "stdout",
          "text": [
            "Attempt 3 failed. Retrying...\n",
            "Maximum attempts reached for index 959. Skipping...\n"
          ]
        },
        {
          "output_type": "stream",
          "name": "stderr",
          "text": [
            "\r 79%|███████▉  | 961/1218 [1:30:39<27:02,  6.31s/it]"
          ]
        },
        {
          "output_type": "stream",
          "name": "stdout",
          "text": [
            "Attempt 1 failed. Retrying...\n",
            "Attempt 2 failed. Retrying...\n"
          ]
        },
        {
          "output_type": "stream",
          "name": "stderr",
          "text": [
            "\r 79%|███████▉  | 962/1218 [1:30:57<40:53,  9.58s/it]"
          ]
        },
        {
          "output_type": "stream",
          "name": "stdout",
          "text": [
            "Attempt 3 failed. Retrying...\n",
            "Maximum attempts reached for index 961. Skipping...\n",
            "Attempt 1 failed. Retrying...\n",
            "Attempt 2 failed. Retrying...\n"
          ]
        },
        {
          "output_type": "stream",
          "name": "stderr",
          "text": [
            "\r 79%|███████▉  | 963/1218 [1:31:09<43:57, 10.34s/it]"
          ]
        },
        {
          "output_type": "stream",
          "name": "stdout",
          "text": [
            "Attempt 3 failed. Retrying...\n",
            "Maximum attempts reached for index 962. Skipping...\n",
            "Attempt 1 failed. Retrying...\n",
            "Attempt 2 failed. Retrying...\n"
          ]
        },
        {
          "output_type": "stream",
          "name": "stderr",
          "text": [
            "\r 79%|███████▉  | 964/1218 [1:31:22<47:34, 11.24s/it]"
          ]
        },
        {
          "output_type": "stream",
          "name": "stdout",
          "text": [
            "Attempt 3 failed. Retrying...\n",
            "Maximum attempts reached for index 963. Skipping...\n"
          ]
        },
        {
          "output_type": "stream",
          "name": "stderr",
          "text": [
            "\r 79%|███████▉  | 965/1218 [1:31:26<38:39,  9.17s/it]"
          ]
        },
        {
          "output_type": "stream",
          "name": "stdout",
          "text": [
            "Attempt 1 failed. Retrying...\n",
            "Attempt 2 failed. Retrying...\n"
          ]
        },
        {
          "output_type": "stream",
          "name": "stderr",
          "text": [
            "\r 79%|███████▉  | 966/1218 [1:31:39<42:30, 10.12s/it]"
          ]
        },
        {
          "output_type": "stream",
          "name": "stdout",
          "text": [
            "Attempt 3 failed. Retrying...\n",
            "Maximum attempts reached for index 965. Skipping...\n",
            "Attempt 1 failed. Retrying...\n",
            "Attempt 2 failed. Retrying...\n"
          ]
        },
        {
          "output_type": "stream",
          "name": "stderr",
          "text": [
            "\r 79%|███████▉  | 967/1218 [1:31:52<46:50, 11.20s/it]"
          ]
        },
        {
          "output_type": "stream",
          "name": "stdout",
          "text": [
            "Attempt 3 failed. Retrying...\n",
            "Maximum attempts reached for index 966. Skipping...\n",
            "Attempt 1 failed. Retrying...\n",
            "Attempt 2 failed. Retrying...\n"
          ]
        },
        {
          "output_type": "stream",
          "name": "stderr",
          "text": [
            "\r 79%|███████▉  | 968/1218 [1:32:05<48:04, 11.54s/it]"
          ]
        },
        {
          "output_type": "stream",
          "name": "stdout",
          "text": [
            "Attempt 3 failed. Retrying...\n",
            "Maximum attempts reached for index 967. Skipping...\n"
          ]
        },
        {
          "output_type": "stream",
          "name": "stderr",
          "text": [
            "\r 80%|███████▉  | 969/1218 [1:32:09<38:48,  9.35s/it]"
          ]
        },
        {
          "output_type": "stream",
          "name": "stdout",
          "text": [
            "Attempt 1 failed. Retrying...\n",
            "Attempt 2 failed. Retrying...\n"
          ]
        },
        {
          "output_type": "stream",
          "name": "stderr",
          "text": [
            "\r 80%|███████▉  | 970/1218 [1:32:20<41:11,  9.96s/it]"
          ]
        },
        {
          "output_type": "stream",
          "name": "stdout",
          "text": [
            "Attempt 3 failed. Retrying...\n",
            "Maximum attempts reached for index 969. Skipping...\n"
          ]
        },
        {
          "output_type": "stream",
          "name": "stderr",
          "text": [
            " 80%|████████  | 978/1218 [1:32:56<20:02,  5.01s/it]"
          ]
        },
        {
          "output_type": "stream",
          "name": "stdout",
          "text": [
            "Attempt 1 failed. Retrying...\n",
            "Attempt 2 failed. Retrying...\n"
          ]
        },
        {
          "output_type": "stream",
          "name": "stderr",
          "text": [
            "\r 80%|████████  | 979/1218 [1:32:59<17:46,  4.46s/it]"
          ]
        },
        {
          "output_type": "stream",
          "name": "stdout",
          "text": [
            "Attempt 3 failed. Retrying...\n",
            "Maximum attempts reached for index 978. Skipping...\n"
          ]
        },
        {
          "output_type": "stream",
          "name": "stderr",
          "text": [
            " 81%|████████  | 981/1218 [1:33:07<16:29,  4.18s/it]"
          ]
        },
        {
          "output_type": "stream",
          "name": "stdout",
          "text": [
            "Attempt 1 failed. Retrying...\n",
            "Attempt 2 failed. Retrying...\n"
          ]
        },
        {
          "output_type": "stream",
          "name": "stderr",
          "text": [
            "\r 81%|████████  | 982/1218 [1:33:20<26:50,  6.82s/it]"
          ]
        },
        {
          "output_type": "stream",
          "name": "stdout",
          "text": [
            "Attempt 3 failed. Retrying...\n",
            "Maximum attempts reached for index 981. Skipping...\n"
          ]
        },
        {
          "output_type": "stream",
          "name": "stderr",
          "text": [
            " 81%|████████  | 988/1218 [1:33:45<17:29,  4.56s/it]"
          ]
        },
        {
          "output_type": "stream",
          "name": "stdout",
          "text": [
            "Attempt 1 failed. Retrying...\n",
            "Attempt 2 failed. Retrying...\n"
          ]
        },
        {
          "output_type": "stream",
          "name": "stderr",
          "text": [
            "\r 81%|████████  | 989/1218 [1:33:57<26:32,  6.95s/it]"
          ]
        },
        {
          "output_type": "stream",
          "name": "stdout",
          "text": [
            "Attempt 3 failed. Retrying...\n",
            "Maximum attempts reached for index 988. Skipping...\n"
          ]
        },
        {
          "output_type": "stream",
          "name": "stderr",
          "text": [
            " 82%|████████▏ | 993/1218 [1:34:14<18:12,  4.86s/it]"
          ]
        },
        {
          "output_type": "stream",
          "name": "stdout",
          "text": [
            "Attempt 1 failed. Retrying...\n",
            "Attempt 2 failed. Retrying...\n"
          ]
        },
        {
          "output_type": "stream",
          "name": "stderr",
          "text": [
            "\r 82%|████████▏ | 994/1218 [1:34:28<27:27,  7.36s/it]"
          ]
        },
        {
          "output_type": "stream",
          "name": "stdout",
          "text": [
            "Attempt 3 failed. Retrying...\n",
            "Maximum attempts reached for index 993. Skipping...\n"
          ]
        },
        {
          "output_type": "stream",
          "name": "stderr",
          "text": [
            "\r 82%|████████▏ | 995/1218 [1:34:32<23:51,  6.42s/it]"
          ]
        },
        {
          "output_type": "stream",
          "name": "stdout",
          "text": [
            "Attempt 1 failed. Retrying...\n",
            "Attempt 2 failed. Retrying...\n"
          ]
        },
        {
          "output_type": "stream",
          "name": "stderr",
          "text": [
            "\r 82%|████████▏ | 996/1218 [1:34:45<30:59,  8.37s/it]"
          ]
        },
        {
          "output_type": "stream",
          "name": "stdout",
          "text": [
            "Attempt 3 failed. Retrying...\n",
            "Maximum attempts reached for index 995. Skipping...\n"
          ]
        },
        {
          "output_type": "stream",
          "name": "stderr",
          "text": [
            "\r 82%|████████▏ | 997/1218 [1:34:49<26:48,  7.28s/it]"
          ]
        },
        {
          "output_type": "stream",
          "name": "stdout",
          "text": [
            "Attempt 1 failed. Retrying...\n",
            "Attempt 2 failed. Retrying...\n"
          ]
        },
        {
          "output_type": "stream",
          "name": "stderr",
          "text": [
            "\r 82%|████████▏ | 998/1218 [1:35:01<31:48,  8.68s/it]"
          ]
        },
        {
          "output_type": "stream",
          "name": "stdout",
          "text": [
            "Attempt 3 failed. Retrying...\n",
            "Maximum attempts reached for index 997. Skipping...\n"
          ]
        },
        {
          "output_type": "stream",
          "name": "stderr",
          "text": [
            "\r 82%|████████▏ | 999/1218 [1:35:05<26:35,  7.29s/it]"
          ]
        },
        {
          "output_type": "stream",
          "name": "stdout",
          "text": [
            "Attempt 1 failed. Retrying...\n",
            "Attempt 2 failed. Retrying...\n"
          ]
        },
        {
          "output_type": "stream",
          "name": "stderr",
          "text": [
            "\r 82%|████████▏ | 1000/1218 [1:35:18<31:53,  8.78s/it]"
          ]
        },
        {
          "output_type": "stream",
          "name": "stdout",
          "text": [
            "Attempt 3 failed. Retrying...\n",
            "Maximum attempts reached for index 999. Skipping...\n"
          ]
        },
        {
          "output_type": "stream",
          "name": "stderr",
          "text": [
            " 82%|████████▏ | 1002/1218 [1:35:27<24:06,  6.70s/it]"
          ]
        },
        {
          "output_type": "stream",
          "name": "stdout",
          "text": [
            "Attempt 1 failed. Retrying...\n",
            "Attempt 2 failed. Retrying...\n"
          ]
        },
        {
          "output_type": "stream",
          "name": "stderr",
          "text": [
            "\r 82%|████████▏ | 1003/1218 [1:35:41<31:22,  8.76s/it]"
          ]
        },
        {
          "output_type": "stream",
          "name": "stdout",
          "text": [
            "Attempt 3 failed. Retrying...\n",
            "Maximum attempts reached for index 1002. Skipping...\n"
          ]
        },
        {
          "output_type": "stream",
          "name": "stderr",
          "text": [
            " 83%|████████▎ | 1014/1218 [1:36:30<14:41,  4.32s/it]"
          ]
        },
        {
          "output_type": "stream",
          "name": "stdout",
          "text": [
            "Attempt 1 failed. Retrying...\n"
          ]
        },
        {
          "output_type": "stream",
          "name": "stderr",
          "text": [
            " 84%|████████▎ | 1018/1218 [1:36:50<14:58,  4.49s/it]"
          ]
        },
        {
          "output_type": "stream",
          "name": "stdout",
          "text": [
            "Attempt 1 failed. Retrying...\n",
            "Attempt 2 failed. Retrying...\n"
          ]
        },
        {
          "output_type": "stream",
          "name": "stderr",
          "text": [
            "\r 84%|████████▎ | 1019/1218 [1:36:53<13:59,  4.22s/it]"
          ]
        },
        {
          "output_type": "stream",
          "name": "stdout",
          "text": [
            "Attempt 3 failed. Retrying...\n",
            "Maximum attempts reached for index 1018. Skipping...\n"
          ]
        },
        {
          "output_type": "stream",
          "name": "stderr",
          "text": [
            " 84%|████████▍ | 1021/1218 [1:37:02<14:23,  4.38s/it]"
          ]
        },
        {
          "output_type": "stream",
          "name": "stdout",
          "text": [
            "Attempt 1 failed. Retrying...\n",
            "Attempt 2 failed. Retrying...\n"
          ]
        },
        {
          "output_type": "stream",
          "name": "stderr",
          "text": [
            "\r 84%|████████▍ | 1022/1218 [1:37:07<14:23,  4.40s/it]"
          ]
        },
        {
          "output_type": "stream",
          "name": "stdout",
          "text": [
            "Attempt 3 failed. Retrying...\n",
            "Maximum attempts reached for index 1021. Skipping...\n"
          ]
        },
        {
          "output_type": "stream",
          "name": "stderr",
          "text": [
            " 84%|████████▍ | 1028/1218 [1:37:36<15:11,  4.80s/it]"
          ]
        },
        {
          "output_type": "stream",
          "name": "stdout",
          "text": [
            "Attempt 1 failed. Retrying...\n",
            "Attempt 2 failed. Retrying...\n"
          ]
        },
        {
          "output_type": "stream",
          "name": "stderr",
          "text": [
            "\r 84%|████████▍ | 1029/1218 [1:37:39<14:06,  4.48s/it]"
          ]
        },
        {
          "output_type": "stream",
          "name": "stdout",
          "text": [
            "Attempt 3 failed. Retrying...\n",
            "Maximum attempts reached for index 1028. Skipping...\n"
          ]
        },
        {
          "output_type": "stream",
          "name": "stderr",
          "text": [
            " 85%|████████▍ | 1034/1218 [1:38:01<13:27,  4.39s/it]"
          ]
        },
        {
          "output_type": "stream",
          "name": "stdout",
          "text": [
            "Attempt 1 failed. Retrying...\n",
            "Attempt 2 failed. Retrying...\n"
          ]
        },
        {
          "output_type": "stream",
          "name": "stderr",
          "text": [
            "\r 85%|████████▍ | 1035/1218 [1:38:12<19:48,  6.50s/it]"
          ]
        },
        {
          "output_type": "stream",
          "name": "stdout",
          "text": [
            "Attempt 3 failed. Retrying...\n",
            "Maximum attempts reached for index 1034. Skipping...\n"
          ]
        },
        {
          "output_type": "stream",
          "name": "stderr",
          "text": [
            " 85%|████████▌ | 1039/1218 [1:38:29<14:09,  4.75s/it]"
          ]
        },
        {
          "output_type": "stream",
          "name": "stdout",
          "text": [
            "Attempt 1 failed. Retrying...\n",
            "Attempt 2 failed. Retrying...\n"
          ]
        },
        {
          "output_type": "stream",
          "name": "stderr",
          "text": [
            "\r 85%|████████▌ | 1040/1218 [1:38:42<21:12,  7.15s/it]"
          ]
        },
        {
          "output_type": "stream",
          "name": "stdout",
          "text": [
            "Attempt 3 failed. Retrying...\n",
            "Maximum attempts reached for index 1039. Skipping...\n"
          ]
        },
        {
          "output_type": "stream",
          "name": "stderr",
          "text": [
            " 87%|████████▋ | 1064/1218 [1:40:25<10:57,  4.27s/it]"
          ]
        },
        {
          "output_type": "stream",
          "name": "stdout",
          "text": [
            "Attempt 1 failed. Retrying...\n",
            "Attempt 2 failed. Retrying...\n"
          ]
        },
        {
          "output_type": "stream",
          "name": "stderr",
          "text": [
            "\r 87%|████████▋ | 1065/1218 [1:40:37<16:49,  6.60s/it]"
          ]
        },
        {
          "output_type": "stream",
          "name": "stdout",
          "text": [
            "Attempt 3 failed. Retrying...\n",
            "Maximum attempts reached for index 1064. Skipping...\n"
          ]
        },
        {
          "output_type": "stream",
          "name": "stderr",
          "text": [
            " 88%|████████▊ | 1073/1218 [1:41:10<10:13,  4.23s/it]"
          ]
        },
        {
          "output_type": "stream",
          "name": "stdout",
          "text": [
            "Attempt 1 failed. Retrying...\n",
            "Attempt 2 failed. Retrying...\n"
          ]
        },
        {
          "output_type": "stream",
          "name": "stderr",
          "text": [
            "\r 88%|████████▊ | 1074/1218 [1:41:22<15:31,  6.47s/it]"
          ]
        },
        {
          "output_type": "stream",
          "name": "stdout",
          "text": [
            "Attempt 3 failed. Retrying...\n",
            "Maximum attempts reached for index 1073. Skipping...\n"
          ]
        },
        {
          "output_type": "stream",
          "name": "stderr",
          "text": [
            "\r 88%|████████▊ | 1075/1218 [1:41:27<14:32,  6.10s/it]"
          ]
        },
        {
          "output_type": "stream",
          "name": "stdout",
          "text": [
            "Attempt 1 failed. Retrying...\n",
            "Attempt 2 failed. Retrying...\n"
          ]
        },
        {
          "output_type": "stream",
          "name": "stderr",
          "text": [
            "\r 88%|████████▊ | 1076/1218 [1:41:40<18:45,  7.92s/it]"
          ]
        },
        {
          "output_type": "stream",
          "name": "stdout",
          "text": [
            "Attempt 3 failed. Retrying...\n",
            "Maximum attempts reached for index 1075. Skipping...\n",
            "Attempt 1 failed. Retrying...\n",
            "Attempt 2 failed. Retrying...\n"
          ]
        },
        {
          "output_type": "stream",
          "name": "stderr",
          "text": [
            "\r 88%|████████▊ | 1077/1218 [1:41:52<21:39,  9.21s/it]"
          ]
        },
        {
          "output_type": "stream",
          "name": "stdout",
          "text": [
            "Attempt 3 failed. Retrying...\n",
            "Maximum attempts reached for index 1076. Skipping...\n"
          ]
        },
        {
          "output_type": "stream",
          "name": "stderr",
          "text": [
            " 89%|████████▊ | 1079/1218 [1:42:01<15:50,  6.84s/it]"
          ]
        },
        {
          "output_type": "stream",
          "name": "stdout",
          "text": [
            "Attempt 1 failed. Retrying...\n",
            "Attempt 2 failed. Retrying...\n"
          ]
        },
        {
          "output_type": "stream",
          "name": "stderr",
          "text": [
            "\r 89%|████████▊ | 1080/1218 [1:42:13<19:34,  8.51s/it]"
          ]
        },
        {
          "output_type": "stream",
          "name": "stdout",
          "text": [
            "Attempt 3 failed. Retrying...\n",
            "Maximum attempts reached for index 1079. Skipping...\n"
          ]
        },
        {
          "output_type": "stream",
          "name": "stderr",
          "text": [
            " 89%|████████▉ | 1083/1218 [1:42:31<15:55,  7.07s/it]"
          ]
        },
        {
          "output_type": "stream",
          "name": "stdout",
          "text": [
            "Attempt 1 failed. Retrying...\n",
            "Attempt 2 failed. Retrying...\n"
          ]
        },
        {
          "output_type": "stream",
          "name": "stderr",
          "text": [
            "\r 89%|████████▉ | 1084/1218 [1:42:44<19:41,  8.82s/it]"
          ]
        },
        {
          "output_type": "stream",
          "name": "stdout",
          "text": [
            "Attempt 3 failed. Retrying...\n",
            "Maximum attempts reached for index 1083. Skipping...\n",
            "Attempt 1 failed. Retrying...\n",
            "Attempt 2 failed. Retrying...\n"
          ]
        },
        {
          "output_type": "stream",
          "name": "stderr",
          "text": [
            "\r 89%|████████▉ | 1085/1218 [1:42:57<21:51,  9.86s/it]"
          ]
        },
        {
          "output_type": "stream",
          "name": "stdout",
          "text": [
            "Attempt 3 failed. Retrying...\n",
            "Maximum attempts reached for index 1084. Skipping...\n"
          ]
        },
        {
          "output_type": "stream",
          "name": "stderr",
          "text": [
            "\r 89%|████████▉ | 1086/1218 [1:43:01<18:19,  8.33s/it]"
          ]
        },
        {
          "output_type": "stream",
          "name": "stdout",
          "text": [
            "Attempt 1 failed. Retrying...\n",
            "Attempt 2 failed. Retrying...\n"
          ]
        },
        {
          "output_type": "stream",
          "name": "stderr",
          "text": [
            "\r 89%|████████▉ | 1087/1218 [1:43:13<20:36,  9.44s/it]"
          ]
        },
        {
          "output_type": "stream",
          "name": "stdout",
          "text": [
            "Attempt 3 failed. Retrying...\n",
            "Maximum attempts reached for index 1086. Skipping...\n"
          ]
        },
        {
          "output_type": "stream",
          "name": "stderr",
          "text": [
            "\r 89%|████████▉ | 1088/1218 [1:43:18<17:12,  7.94s/it]"
          ]
        },
        {
          "output_type": "stream",
          "name": "stdout",
          "text": [
            "Attempt 1 failed. Retrying...\n",
            "Attempt 2 failed. Retrying...\n"
          ]
        },
        {
          "output_type": "stream",
          "name": "stderr",
          "text": [
            "\r 89%|████████▉ | 1089/1218 [1:43:32<20:46,  9.66s/it]"
          ]
        },
        {
          "output_type": "stream",
          "name": "stdout",
          "text": [
            "Attempt 3 failed. Retrying...\n",
            "Maximum attempts reached for index 1088. Skipping...\n",
            "Attempt 1 failed. Retrying...\n",
            "Attempt 2 failed. Retrying...\n"
          ]
        },
        {
          "output_type": "stream",
          "name": "stderr",
          "text": [
            "\r 89%|████████▉ | 1090/1218 [1:43:35<16:53,  7.92s/it]"
          ]
        },
        {
          "output_type": "stream",
          "name": "stdout",
          "text": [
            "Attempt 3 failed. Retrying...\n",
            "Maximum attempts reached for index 1089. Skipping...\n"
          ]
        },
        {
          "output_type": "stream",
          "name": "stderr",
          "text": [
            " 90%|████████▉ | 1096/1218 [1:44:03<09:42,  4.77s/it]"
          ]
        },
        {
          "output_type": "stream",
          "name": "stdout",
          "text": [
            "Attempt 1 failed. Retrying...\n",
            "Attempt 2 failed. Retrying...\n"
          ]
        },
        {
          "output_type": "stream",
          "name": "stderr",
          "text": [
            "\r 90%|█████████ | 1097/1218 [1:44:14<13:45,  6.82s/it]"
          ]
        },
        {
          "output_type": "stream",
          "name": "stdout",
          "text": [
            "Attempt 3 failed. Retrying...\n",
            "Maximum attempts reached for index 1096. Skipping...\n"
          ]
        },
        {
          "output_type": "stream",
          "name": "stderr",
          "text": [
            "\r 90%|█████████ | 1098/1218 [1:44:19<12:05,  6.05s/it]"
          ]
        },
        {
          "output_type": "stream",
          "name": "stdout",
          "text": [
            "Attempt 1 failed. Retrying...\n",
            "Attempt 2 failed. Retrying...\n"
          ]
        },
        {
          "output_type": "stream",
          "name": "stderr",
          "text": [
            "\r 90%|█████████ | 1099/1218 [1:44:31<15:29,  7.81s/it]"
          ]
        },
        {
          "output_type": "stream",
          "name": "stdout",
          "text": [
            "Attempt 3 failed. Retrying...\n",
            "Maximum attempts reached for index 1098. Skipping...\n"
          ]
        },
        {
          "output_type": "stream",
          "name": "stderr",
          "text": [
            " 90%|█████████ | 1102/1218 [1:44:43<10:34,  5.47s/it]"
          ]
        },
        {
          "output_type": "stream",
          "name": "stdout",
          "text": [
            "Attempt 1 failed. Retrying...\n",
            "Attempt 2 failed. Retrying...\n"
          ]
        },
        {
          "output_type": "stream",
          "name": "stderr",
          "text": [
            "\r 91%|█████████ | 1103/1218 [1:44:56<14:48,  7.73s/it]"
          ]
        },
        {
          "output_type": "stream",
          "name": "stdout",
          "text": [
            "Attempt 3 failed. Retrying...\n",
            "Maximum attempts reached for index 1102. Skipping...\n",
            "Attempt 1 failed. Retrying...\n",
            "Attempt 2 failed. Retrying...\n"
          ]
        },
        {
          "output_type": "stream",
          "name": "stderr",
          "text": [
            "\r 91%|█████████ | 1104/1218 [1:45:09<17:41,  9.31s/it]"
          ]
        },
        {
          "output_type": "stream",
          "name": "stdout",
          "text": [
            "Attempt 3 failed. Retrying...\n",
            "Maximum attempts reached for index 1103. Skipping...\n"
          ]
        },
        {
          "output_type": "stream",
          "name": "stderr",
          "text": [
            "\r 91%|█████████ | 1105/1218 [1:45:14<14:43,  7.82s/it]"
          ]
        },
        {
          "output_type": "stream",
          "name": "stdout",
          "text": [
            "Attempt 1 failed. Retrying...\n",
            "Attempt 2 failed. Retrying...\n"
          ]
        },
        {
          "output_type": "stream",
          "name": "stderr",
          "text": [
            "\r 91%|█████████ | 1106/1218 [1:45:26<16:53,  9.05s/it]"
          ]
        },
        {
          "output_type": "stream",
          "name": "stdout",
          "text": [
            "Attempt 3 failed. Retrying...\n",
            "Maximum attempts reached for index 1105. Skipping...\n"
          ]
        },
        {
          "output_type": "stream",
          "name": "stderr",
          "text": [
            " 91%|█████████ | 1108/1218 [1:45:35<12:17,  6.71s/it]"
          ]
        },
        {
          "output_type": "stream",
          "name": "stdout",
          "text": [
            "Attempt 1 failed. Retrying...\n",
            "Attempt 2 failed. Retrying...\n"
          ]
        },
        {
          "output_type": "stream",
          "name": "stderr",
          "text": [
            "\r 91%|█████████ | 1109/1218 [1:45:47<15:29,  8.53s/it]"
          ]
        },
        {
          "output_type": "stream",
          "name": "stdout",
          "text": [
            "Attempt 3 failed. Retrying...\n",
            "Maximum attempts reached for index 1108. Skipping...\n"
          ]
        },
        {
          "output_type": "stream",
          "name": "stderr",
          "text": [
            " 91%|█████████▏| 1114/1218 [1:46:14<10:02,  5.79s/it]"
          ]
        },
        {
          "output_type": "stream",
          "name": "stdout",
          "text": [
            "Attempt 1 failed. Retrying...\n",
            "Attempt 2 failed. Retrying...\n"
          ]
        },
        {
          "output_type": "stream",
          "name": "stderr",
          "text": [
            "\r 92%|█████████▏| 1115/1218 [1:46:28<14:04,  8.20s/it]"
          ]
        },
        {
          "output_type": "stream",
          "name": "stdout",
          "text": [
            "Attempt 3 failed. Retrying...\n",
            "Maximum attempts reached for index 1114. Skipping...\n"
          ]
        },
        {
          "output_type": "stream",
          "name": "stderr",
          "text": [
            " 92%|█████████▏| 1118/1218 [1:46:41<09:18,  5.58s/it]"
          ]
        },
        {
          "output_type": "stream",
          "name": "stdout",
          "text": [
            "Attempt 1 failed. Retrying...\n",
            "Attempt 2 failed. Retrying...\n"
          ]
        },
        {
          "output_type": "stream",
          "name": "stderr",
          "text": [
            "\r 92%|█████████▏| 1119/1218 [1:46:54<12:55,  7.83s/it]"
          ]
        },
        {
          "output_type": "stream",
          "name": "stdout",
          "text": [
            "Attempt 3 failed. Retrying...\n",
            "Maximum attempts reached for index 1118. Skipping...\n"
          ]
        },
        {
          "output_type": "stream",
          "name": "stderr",
          "text": [
            " 92%|█████████▏| 1123/1218 [1:47:15<09:37,  6.08s/it]"
          ]
        },
        {
          "output_type": "stream",
          "name": "stdout",
          "text": [
            "Attempt 1 failed. Retrying...\n",
            "Attempt 2 failed. Retrying...\n"
          ]
        },
        {
          "output_type": "stream",
          "name": "stderr",
          "text": [
            "\r 92%|█████████▏| 1124/1218 [1:47:28<12:42,  8.11s/it]"
          ]
        },
        {
          "output_type": "stream",
          "name": "stdout",
          "text": [
            "Attempt 3 failed. Retrying...\n",
            "Maximum attempts reached for index 1123. Skipping...\n"
          ]
        },
        {
          "output_type": "stream",
          "name": "stderr",
          "text": [
            " 92%|█████████▏| 1126/1218 [1:47:37<09:44,  6.35s/it]"
          ]
        },
        {
          "output_type": "stream",
          "name": "stdout",
          "text": [
            "Attempt 1 failed. Retrying...\n",
            "Attempt 2 failed. Retrying...\n"
          ]
        },
        {
          "output_type": "stream",
          "name": "stderr",
          "text": [
            "\r 93%|█████████▎| 1127/1218 [1:47:52<13:30,  8.90s/it]"
          ]
        },
        {
          "output_type": "stream",
          "name": "stdout",
          "text": [
            "Attempt 3 failed. Retrying...\n",
            "Maximum attempts reached for index 1126. Skipping...\n"
          ]
        },
        {
          "output_type": "stream",
          "name": "stderr",
          "text": [
            " 93%|█████████▎| 1131/1218 [1:48:13<08:46,  6.05s/it]"
          ]
        },
        {
          "output_type": "stream",
          "name": "stdout",
          "text": [
            "Attempt 1 failed. Retrying...\n",
            "Attempt 2 failed. Retrying...\n"
          ]
        },
        {
          "output_type": "stream",
          "name": "stderr",
          "text": [
            "\r 93%|█████████▎| 1132/1218 [1:48:17<07:34,  5.28s/it]"
          ]
        },
        {
          "output_type": "stream",
          "name": "stdout",
          "text": [
            "Attempt 3 failed. Retrying...\n",
            "Maximum attempts reached for index 1131. Skipping...\n"
          ]
        },
        {
          "output_type": "stream",
          "name": "stderr",
          "text": [
            " 93%|█████████▎| 1135/1218 [1:48:31<06:45,  4.89s/it]"
          ]
        },
        {
          "output_type": "stream",
          "name": "stdout",
          "text": [
            "Attempt 1 failed. Retrying...\n",
            "Attempt 2 failed. Retrying...\n"
          ]
        },
        {
          "output_type": "stream",
          "name": "stderr",
          "text": [
            "\r 93%|█████████▎| 1136/1218 [1:48:34<06:00,  4.39s/it]"
          ]
        },
        {
          "output_type": "stream",
          "name": "stdout",
          "text": [
            "Attempt 3 failed. Retrying...\n",
            "Maximum attempts reached for index 1135. Skipping...\n"
          ]
        },
        {
          "output_type": "stream",
          "name": "stderr",
          "text": [
            " 94%|█████████▍| 1142/1218 [1:49:00<05:37,  4.45s/it]"
          ]
        },
        {
          "output_type": "stream",
          "name": "stdout",
          "text": [
            "Attempt 1 failed. Retrying...\n",
            "Attempt 2 failed. Retrying...\n"
          ]
        },
        {
          "output_type": "stream",
          "name": "stderr",
          "text": [
            "\r 94%|█████████▍| 1143/1218 [1:49:12<08:28,  6.78s/it]"
          ]
        },
        {
          "output_type": "stream",
          "name": "stdout",
          "text": [
            "Attempt 3 failed. Retrying...\n",
            "Maximum attempts reached for index 1142. Skipping...\n"
          ]
        },
        {
          "output_type": "stream",
          "name": "stderr",
          "text": [
            " 94%|█████████▍| 1146/1218 [1:49:25<06:10,  5.15s/it]"
          ]
        },
        {
          "output_type": "stream",
          "name": "stdout",
          "text": [
            "Attempt 1 failed. Retrying...\n",
            "Attempt 2 failed. Retrying...\n"
          ]
        },
        {
          "output_type": "stream",
          "name": "stderr",
          "text": [
            "\r 94%|█████████▍| 1147/1218 [1:49:37<08:23,  7.09s/it]"
          ]
        },
        {
          "output_type": "stream",
          "name": "stdout",
          "text": [
            "Attempt 3 failed. Retrying...\n",
            "Maximum attempts reached for index 1146. Skipping...\n"
          ]
        },
        {
          "output_type": "stream",
          "name": "stderr",
          "text": [
            " 95%|█████████▍| 1154/1218 [1:50:08<04:50,  4.55s/it]"
          ]
        },
        {
          "output_type": "stream",
          "name": "stdout",
          "text": [
            "Attempt 1 failed. Retrying...\n",
            "Attempt 2 failed. Retrying...\n"
          ]
        },
        {
          "output_type": "stream",
          "name": "stderr",
          "text": [
            "\r 95%|█████████▍| 1155/1218 [1:50:12<04:33,  4.34s/it]"
          ]
        },
        {
          "output_type": "stream",
          "name": "stdout",
          "text": [
            "Attempt 3 failed. Retrying...\n",
            "Maximum attempts reached for index 1154. Skipping...\n",
            "Attempt 1 failed. Retrying...\n",
            "Attempt 2 failed. Retrying...\n"
          ]
        },
        {
          "output_type": "stream",
          "name": "stderr",
          "text": [
            "\r 95%|█████████▍| 1156/1218 [1:50:15<04:08,  4.01s/it]"
          ]
        },
        {
          "output_type": "stream",
          "name": "stdout",
          "text": [
            "Attempt 3 failed. Retrying...\n",
            "Maximum attempts reached for index 1155. Skipping...\n"
          ]
        },
        {
          "output_type": "stream",
          "name": "stderr",
          "text": [
            " 95%|█████████▌| 1158/1218 [1:50:23<04:06,  4.11s/it]"
          ]
        },
        {
          "output_type": "stream",
          "name": "stdout",
          "text": [
            "Attempt 1 failed. Retrying...\n",
            "Attempt 2 failed. Retrying...\n"
          ]
        },
        {
          "output_type": "stream",
          "name": "stderr",
          "text": [
            "\r 95%|█████████▌| 1159/1218 [1:50:35<06:10,  6.29s/it]"
          ]
        },
        {
          "output_type": "stream",
          "name": "stdout",
          "text": [
            "Attempt 3 failed. Retrying...\n",
            "Maximum attempts reached for index 1158. Skipping...\n"
          ]
        },
        {
          "output_type": "stream",
          "name": "stderr",
          "text": [
            " 96%|█████████▋| 1175/1218 [1:51:43<03:00,  4.20s/it]"
          ]
        },
        {
          "output_type": "stream",
          "name": "stdout",
          "text": [
            "Attempt 1 failed. Retrying...\n",
            "Attempt 2 failed. Retrying...\n"
          ]
        },
        {
          "output_type": "stream",
          "name": "stderr",
          "text": [
            "\r 97%|█████████▋| 1176/1218 [1:51:46<02:43,  3.90s/it]"
          ]
        },
        {
          "output_type": "stream",
          "name": "stdout",
          "text": [
            "Attempt 3 failed. Retrying...\n",
            "Maximum attempts reached for index 1175. Skipping...\n"
          ]
        },
        {
          "output_type": "stream",
          "name": "stderr",
          "text": [
            " 97%|█████████▋| 1179/1218 [1:51:59<02:38,  4.06s/it]"
          ]
        },
        {
          "output_type": "stream",
          "name": "stdout",
          "text": [
            "Attempt 1 failed. Retrying...\n",
            "Attempt 2 failed. Retrying...\n"
          ]
        },
        {
          "output_type": "stream",
          "name": "stderr",
          "text": [
            "\r 97%|█████████▋| 1180/1218 [1:52:02<02:32,  4.01s/it]"
          ]
        },
        {
          "output_type": "stream",
          "name": "stdout",
          "text": [
            "Attempt 3 failed. Retrying...\n",
            "Maximum attempts reached for index 1179. Skipping...\n"
          ]
        },
        {
          "output_type": "stream",
          "name": "stderr",
          "text": [
            " 97%|█████████▋| 1185/1218 [1:52:23<02:16,  4.15s/it]"
          ]
        },
        {
          "output_type": "stream",
          "name": "stdout",
          "text": [
            "Attempt 1 failed. Retrying...\n"
          ]
        },
        {
          "output_type": "stream",
          "name": "stderr",
          "text": [
            " 98%|█████████▊| 1189/1218 [1:52:45<02:18,  4.78s/it]"
          ]
        },
        {
          "output_type": "stream",
          "name": "stdout",
          "text": [
            "Attempt 1 failed. Retrying...\n",
            "Attempt 2 failed. Retrying...\n"
          ]
        },
        {
          "output_type": "stream",
          "name": "stderr",
          "text": [
            "\r 98%|█████████▊| 1190/1218 [1:52:58<03:23,  7.27s/it]"
          ]
        },
        {
          "output_type": "stream",
          "name": "stdout",
          "text": [
            "Attempt 3 failed. Retrying...\n",
            "Maximum attempts reached for index 1189. Skipping...\n"
          ]
        },
        {
          "output_type": "stream",
          "name": "stderr",
          "text": [
            "\r 98%|█████████▊| 1191/1218 [1:53:02<02:50,  6.31s/it]"
          ]
        },
        {
          "output_type": "stream",
          "name": "stdout",
          "text": [
            "Attempt 1 failed. Retrying...\n",
            "Attempt 2 failed. Retrying...\n"
          ]
        },
        {
          "output_type": "stream",
          "name": "stderr",
          "text": [
            "\r 98%|█████████▊| 1192/1218 [1:53:06<02:23,  5.53s/it]"
          ]
        },
        {
          "output_type": "stream",
          "name": "stdout",
          "text": [
            "Attempt 3 failed. Retrying...\n",
            "Maximum attempts reached for index 1191. Skipping...\n"
          ]
        },
        {
          "output_type": "stream",
          "name": "stderr",
          "text": [
            "\r 98%|█████████▊| 1193/1218 [1:53:11<02:12,  5.28s/it]"
          ]
        },
        {
          "output_type": "stream",
          "name": "stdout",
          "text": [
            "Attempt 1 failed. Retrying...\n",
            "Attempt 2 failed. Retrying...\n"
          ]
        },
        {
          "output_type": "stream",
          "name": "stderr",
          "text": [
            "\r 98%|█████████▊| 1194/1218 [1:53:24<03:03,  7.65s/it]"
          ]
        },
        {
          "output_type": "stream",
          "name": "stdout",
          "text": [
            "Attempt 3 failed. Retrying...\n",
            "Maximum attempts reached for index 1193. Skipping...\n"
          ]
        },
        {
          "output_type": "stream",
          "name": "stderr",
          "text": [
            " 99%|█████████▊| 1200/1218 [1:53:49<01:24,  4.67s/it]"
          ]
        },
        {
          "output_type": "stream",
          "name": "stdout",
          "text": [
            "Attempt 1 failed. Retrying...\n",
            "Attempt 2 failed. Retrying...\n"
          ]
        },
        {
          "output_type": "stream",
          "name": "stderr",
          "text": [
            "\r 99%|█████████▊| 1201/1218 [1:54:03<02:04,  7.30s/it]"
          ]
        },
        {
          "output_type": "stream",
          "name": "stdout",
          "text": [
            "Attempt 3 failed. Retrying...\n",
            "Maximum attempts reached for index 1200. Skipping...\n",
            "Attempt 1 failed. Retrying...\n",
            "Attempt 2 failed. Retrying...\n"
          ]
        },
        {
          "output_type": "stream",
          "name": "stderr",
          "text": [
            "\r 99%|█████████▊| 1202/1218 [1:54:07<01:41,  6.31s/it]"
          ]
        },
        {
          "output_type": "stream",
          "name": "stdout",
          "text": [
            "Attempt 3 failed. Retrying...\n",
            "Maximum attempts reached for index 1201. Skipping...\n"
          ]
        },
        {
          "output_type": "stream",
          "name": "stderr",
          "text": [
            "\r 99%|█████████▉| 1203/1218 [1:54:12<01:27,  5.86s/it]"
          ]
        },
        {
          "output_type": "stream",
          "name": "stdout",
          "text": [
            "Attempt 1 failed. Retrying...\n"
          ]
        },
        {
          "output_type": "stream",
          "name": "stderr",
          "text": [
            " 99%|█████████▉| 1206/1218 [1:54:28<01:03,  5.31s/it]"
          ]
        },
        {
          "output_type": "stream",
          "name": "stdout",
          "text": [
            "Attempt 1 failed. Retrying...\n",
            "Attempt 2 failed. Retrying...\n"
          ]
        },
        {
          "output_type": "stream",
          "name": "stderr",
          "text": [
            "\r 99%|█████████▉| 1207/1218 [1:54:41<01:22,  7.52s/it]"
          ]
        },
        {
          "output_type": "stream",
          "name": "stdout",
          "text": [
            "Attempt 3 failed. Retrying...\n",
            "Maximum attempts reached for index 1206. Skipping...\n"
          ]
        },
        {
          "output_type": "stream",
          "name": "stderr",
          "text": [
            "100%|█████████▉| 1216/1218 [1:55:20<00:09,  4.54s/it]"
          ]
        },
        {
          "output_type": "stream",
          "name": "stdout",
          "text": [
            "Attempt 1 failed. Retrying...\n",
            "Attempt 2 failed. Retrying...\n"
          ]
        },
        {
          "output_type": "stream",
          "name": "stderr",
          "text": [
            "\r100%|█████████▉| 1217/1218 [1:55:33<00:06,  6.90s/it]"
          ]
        },
        {
          "output_type": "stream",
          "name": "stdout",
          "text": [
            "Attempt 3 failed. Retrying...\n",
            "Maximum attempts reached for index 1216. Skipping...\n"
          ]
        },
        {
          "output_type": "stream",
          "name": "stderr",
          "text": [
            "100%|██████████| 1218/1218 [1:55:37<00:00,  5.70s/it]\n"
          ]
        }
      ]
    },
    {
      "cell_type": "markdown",
      "source": [
        "**Evaluation:**"
      ],
      "metadata": {
        "id": "o9MUtgNaU9WY"
      }
    },
    {
      "cell_type": "code",
      "source": [
        "extracted_contents = []\n",
        "for result in results:\n",
        "    if result is not None:\n",
        "        content = result.strip()\n",
        "    else:\n",
        "        extracted_contents.append(None)\n",
        "        continue\n",
        "    # Check for numeric content and convert to int\n",
        "    if content.isdigit():\n",
        "        extracted_contents.append(int(content))\n",
        "    # Check for textual content and convert to corresponding int\n",
        "    elif content.lower() == \"hateful\":\n",
        "        extracted_contents.append(1)  # Assuming \"Hateful\" corresponds to 1\n",
        "    elif content.lower() == \"non-hateful\":\n",
        "        extracted_contents.append(0)  # Assuming \"Non-hateful\" corresponds to 0"
      ],
      "metadata": {
        "id": "FI_CE66Py3DZ"
      },
      "execution_count": 25,
      "outputs": []
    },
    {
      "cell_type": "code",
      "source": [
        "true_label_0 = dataframe['binary_label_0'].apply(int).explode().tolist()\n",
        "true_label_1 = dataframe['binary_label_1'].apply(int).explode().tolist()\n",
        "true_label_2 = dataframe['binary_label_2'].apply(int).explode().tolist()\n",
        "\n",
        "filtered_label_0 = [\n",
        "    label for label, result in zip(true_label_0, extracted_contents)\n",
        "    if result is not None\n",
        "]\n",
        "filtered_label_1 = [\n",
        "    label for label, result in zip(true_label_1, extracted_contents)\n",
        "    if result is not None\n",
        "]\n",
        "filtered_label_2 = [\n",
        "    label for label, result in zip(true_label_2, extracted_contents)\n",
        "    if result is not None\n",
        "]\n",
        "extracted_contents_filtered = [\n",
        "    result for result in extracted_contents if result is not None\n",
        "]\n",
        "\n",
        "evaluate(\n",
        "    true_labels=[filtered_label_0, filtered_label_1, filtered_label_2],\n",
        "    y_pred=extracted_contents_filtered,\n",
        "    y_proba=extracted_contents_filtered,\n",
        ")"
      ],
      "metadata": {
        "colab": {
          "base_uri": "https://localhost:8080/"
        },
        "id": "OYH1ubRzU-Am",
        "outputId": "05f056f2-0acc-4cd2-8d12-4a79f75df699"
      },
      "execution_count": 28,
      "outputs": [
        {
          "output_type": "stream",
          "name": "stdout",
          "text": [
            "AUROC Score: 50.0%\n",
            "Average Accuracy Score: 52.21%\n",
            "Balanced Accuracy Score: 52.21%\n",
            "Average F1 Score: 34.3%\n"
          ]
        }
      ]
    },
    {
      "cell_type": "code",
      "source": [],
      "metadata": {
        "id": "zv_GPkvEYhwd"
      },
      "execution_count": null,
      "outputs": []
    }
  ]
}